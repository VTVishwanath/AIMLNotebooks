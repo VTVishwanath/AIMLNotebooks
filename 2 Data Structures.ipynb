{
 "cells": [
  {
   "cell_type": "markdown",
   "id": "28ceb0ea-ab7c-4dd9-8e55-2f2102a566b7",
   "metadata": {},
   "source": [
    "# Introduction to Data Structures in Python\n",
    "The data structures are the organizers and storers of data in an efficient manner so that they can be modified and accessed in the future. To suit different uses, there are different data structures in Python. These can be mainly classified into two types:\n",
    "\n",
    "### 1. Python Built-in data structures: These are the data structures that come along with Python and can be implemented same as primitive data types like integers, etc. These can be further classified into:\n",
    "\n",
    "a. Lists\n",
    "\n",
    "b. Sets\n",
    "\n",
    "c. Tuples\n",
    "\n",
    "d. Dictionaries\n",
    "\n",
    "### 2. Python User-defined data structures: These data structures are the ones built using the built-in data structures and have their own properties. Based on these features, these are used in suitable situations. These can be subdivided into:\n",
    "\n",
    "a. Array\n",
    "\n",
    "b. Stacks\n",
    "\n",
    "c. Queues\n",
    "\n",
    "d. Linked Lists\n",
    "\n",
    "e. Hash Maps\n",
    "\n",
    "f. Trees\n",
    "\n",
    "g. Graphs"
   ]
  },
  {
   "cell_type": "markdown",
   "id": "1e13fe5c-0924-4145-b23a-bee5aebfc5e0",
   "metadata": {},
   "source": [
    "### Lists in Python\n",
    "Lists are the containers of values of different data types. These store the data in a continuous manner in the memory. These are mainly used in situations where there is a need to access the data frequently, which can be done easily using indexing.\n",
    "\n",
    "We will start with creation and look into many other operations that can be done on lists now.\n",
    "\n",
    "a. Creating Python lists\n",
    "Elements in a list are enclosed with square brackets (‘[ ]’) with each separated by comma. It can contain any type of value including lists. An example of creating a list is shown below."
   ]
  },
  {
   "cell_type": "code",
   "execution_count": 1,
   "id": "53fc9354-8b1b-44b0-b32b-28f7f6af5c1c",
   "metadata": {},
   "outputs": [
    {
     "name": "stdout",
     "output_type": "stream",
     "text": [
      "The type of [] is: <class 'list'>\n",
      "The type of [1, 2.4, 'abc', (1, 2), [6, 78, 9]] is: <class 'list'>\n"
     ]
    }
   ],
   "source": [
    "list1=[] # creating an empty list\n",
    "list2=[1,2.4,'abc',(1,2),[6,78,9]] # creating a list of different values\n",
    "print(\"The type of\",list1,\"is:\",type(list1))\n",
    "print(\"The type of\",list2,\"is:\",type(list2))"
   ]
  },
  {
   "cell_type": "markdown",
   "id": "f7fcd998-7bf9-456e-bf7c-de28ed4ba15e",
   "metadata": {},
   "source": [
    "#### b. Accessing an element from the Python list\n",
    "We can access the elements of the list using indexing. In Python, the indexing of lists starts from 0. So, to access the first element you have to specify the index as ‘0’.\n",
    "\n",
    "We can also access using negative indexes, where the right most value is of index ‘-1’ and it keeps reducing on moving to the left."
   ]
  },
  {
   "cell_type": "code",
   "execution_count": 2,
   "id": "33681b82-d3f1-4600-93af-3d33b6460d9f",
   "metadata": {},
   "outputs": [
    {
     "name": "stdout",
     "output_type": "stream",
     "text": [
      "a\n",
      "[1, 3, 5.6, 'a', 'PythonGeeks', 0.4]\n",
      "PythonGeeks\n"
     ]
    }
   ],
   "source": [
    "list_1=[1,3,5.6,'a',\"PythonGeeks\",0.4]\n",
    "print(list_1[3]) # accessing the 4th element\n",
    "print(list_1) # accessing the whole list\n",
    "print(list_1[-2]) # printing the last 2nd element"
   ]
  },
  {
   "cell_type": "markdown",
   "id": "e0a1fd5c-03c9-46c7-b681-223b5fe744f9",
   "metadata": {},
   "source": [
    "However, if we give the index more than the limit then we get an error. And the maximum is one less than the length of the list. We also get errors if we give a noninteger as an index, say float."
   ]
  },
  {
   "cell_type": "code",
   "execution_count": 3,
   "id": "9552b7fd-8ee4-4658-8196-0343db2eb1e0",
   "metadata": {},
   "outputs": [
    {
     "ename": "IndexError",
     "evalue": "list index out of range",
     "output_type": "error",
     "traceback": [
      "\u001b[1;31m---------------------------------------------------------------------------\u001b[0m",
      "\u001b[1;31mIndexError\u001b[0m                                Traceback (most recent call last)",
      "\u001b[1;32m~\\AppData\\Local\\Temp\\ipykernel_18420\\711615328.py\u001b[0m in \u001b[0;36m<module>\u001b[1;34m\u001b[0m\n\u001b[1;32m----> 1\u001b[1;33m \u001b[0mprint\u001b[0m\u001b[1;33m(\u001b[0m\u001b[0mlist_1\u001b[0m\u001b[1;33m[\u001b[0m\u001b[1;36m6\u001b[0m\u001b[1;33m]\u001b[0m\u001b[1;33m)\u001b[0m\u001b[1;33m\u001b[0m\u001b[1;33m\u001b[0m\u001b[0m\n\u001b[0m",
      "\u001b[1;31mIndexError\u001b[0m: list index out of range"
     ]
    }
   ],
   "source": [
    "print(list_1[6])"
   ]
  },
  {
   "cell_type": "code",
   "execution_count": 4,
   "id": "c452119e-2bae-4a37-bd75-0244c25cbae5",
   "metadata": {},
   "outputs": [
    {
     "ename": "TypeError",
     "evalue": "list indices must be integers or slices, not float",
     "output_type": "error",
     "traceback": [
      "\u001b[1;31m---------------------------------------------------------------------------\u001b[0m",
      "\u001b[1;31mTypeError\u001b[0m                                 Traceback (most recent call last)",
      "\u001b[1;32m~\\AppData\\Local\\Temp\\ipykernel_18420\\525357197.py\u001b[0m in \u001b[0;36m<module>\u001b[1;34m\u001b[0m\n\u001b[1;32m----> 1\u001b[1;33m \u001b[0mprint\u001b[0m\u001b[1;33m(\u001b[0m\u001b[0mlist_1\u001b[0m\u001b[1;33m[\u001b[0m\u001b[1;36m3.0\u001b[0m\u001b[1;33m]\u001b[0m\u001b[1;33m)\u001b[0m\u001b[1;33m\u001b[0m\u001b[1;33m\u001b[0m\u001b[0m\n\u001b[0m",
      "\u001b[1;31mTypeError\u001b[0m: list indices must be integers or slices, not float"
     ]
    }
   ],
   "source": [
    "print(list_1[3.0])"
   ]
  },
  {
   "cell_type": "markdown",
   "id": "eea79dc1-b50b-47c7-85dc-e16d1db983cf",
   "metadata": {},
   "source": [
    "### Slicing the list in Python\n",
    "We can get more than one element from a list by slicing. We use the indexing of ‘i:j’ to get the elements from ith index to jth index (jth exclusive). Also, We can give negative indexing. For example,"
   ]
  },
  {
   "cell_type": "code",
   "execution_count": 5,
   "id": "e2781c7c-dbd9-48b0-9fda-8923c4b8c34c",
   "metadata": {},
   "outputs": [
    {
     "name": "stdout",
     "output_type": "stream",
     "text": [
      "list_1[2:5] = [5.6, 'a', 'PythonGeeks']\n",
      "list_1[:] = [1, 3, 5.6, 'a', 'PythonGeeks', 0.4]\n",
      "list_1[-5:-2] = [3, 5.6, 'a']\n",
      "list_1[3:] = ['a', 'PythonGeeks', 0.4]\n",
      "list_1[-3:] = ['a', 'PythonGeeks', 0.4]\n",
      "list_1[:2] = [1, 3]\n",
      "list_1[:-2] = [1, 3, 5.6, 'a']\n"
     ]
    }
   ],
   "source": [
    "list_1=[1,3,5.6,'a',\"PythonGeeks\",0.4]\n",
    "print(\"list_1[2:5] =\",list_1[2:5]) # slicing 3rd to 5th element\n",
    "print(\"list_1[:] =\",list_1[:]) # getting entire list\n",
    "print(\"list_1[-5:-2] =\",list_1[-5:-2]) # slicing last 5th to 3rd element\n",
    "print(\"list_1[3:] =\",list_1[3:]) # slicing all elements after 3rd one\n",
    "print(\"list_1[-3:] =\",list_1[-3:]) # slicing all elements after last 3rd one\n",
    "print(\"list_1[:2] =\",list_1[:2]) # slicing all elements till 2nd one\n",
    "print(\"list_1[:-2] =\",list_1[:-2])# slicing all elements till last 2nd one"
   ]
  },
  {
   "cell_type": "markdown",
   "id": "152c171d-376a-4297-b7c5-38addc3bec7e",
   "metadata": {},
   "source": [
    "### Modifying and deleting elements from Python List\n",
    "We can modify or delete an element or a set of elements of a list. This is again done by indexing. Examples are shown below."
   ]
  },
  {
   "cell_type": "code",
   "execution_count": 7,
   "id": "bfb23400-cc18-4496-8fdf-343043f7521d",
   "metadata": {},
   "outputs": [
    {
     "name": "stdout",
     "output_type": "stream",
     "text": [
      "[3, 5.7, 'y', 'Python', 67, '7.9']\n",
      "[3, 1.2, 'y', 'Python', 67, '7.9']\n"
     ]
    }
   ],
   "source": [
    "list1=[3,5.7,'y','Python',67,'7.9']\n",
    "print(list1)\n",
    "list1[1]=1.2 # reassigning the 2nd element\n",
    "print(list1)"
   ]
  },
  {
   "cell_type": "code",
   "execution_count": 8,
   "id": "1330dfba-5498-448c-8f8a-547e56e8baaf",
   "metadata": {},
   "outputs": [
    {
     "name": "stdout",
     "output_type": "stream",
     "text": [
      "[3, 1.2, 'Python', 67, '7.9']\n"
     ]
    }
   ],
   "source": [
    "del list1[2] # deleting the 3rd element\n",
    "print(list1)"
   ]
  },
  {
   "cell_type": "markdown",
   "id": "6edb8356-42c5-4da2-960a-76c04f5dc7e5",
   "metadata": {},
   "source": [
    "We can modify and delete a set of values also using the concept of slicing."
   ]
  },
  {
   "cell_type": "code",
   "execution_count": 11,
   "id": "cc24ee9e-72d0-4a0d-8e7e-8c5ab5b30eeb",
   "metadata": {},
   "outputs": [
    {
     "name": "stdout",
     "output_type": "stream",
     "text": [
      "[3, 5.7, 'y', 'Python', 67, '7.9']\n",
      "[3, 3.5, 8, 'Python', 67, '7.9']\n",
      "[3, 3.5, '7.9']\n"
     ]
    }
   ],
   "source": [
    "list1=[3,5.7,'y','Python',67,'7.9']\n",
    "print(list1)\n",
    "list1[1:3]=[3.5,8]\n",
    "print(list1)\n",
    "del list1[2:5] #deleting 3rd to 5th elements\n",
    "print(list1)"
   ]
  },
  {
   "cell_type": "markdown",
   "id": "5a788c4a-8315-46af-a537-0402dd8b20fc",
   "metadata": {},
   "source": [
    "We can also modify and delete the whole list. On deleting the list, if we try to access it again we get the NameError."
   ]
  },
  {
   "cell_type": "code",
   "execution_count": 12,
   "id": "47d24fd5-7503-4990-8dc2-64ca3f864d31",
   "metadata": {},
   "outputs": [
    {
     "name": "stdout",
     "output_type": "stream",
     "text": [
      "[1, 2, 'p']\n"
     ]
    }
   ],
   "source": [
    "list1=[1,2,'p'] # modifying the whole list\n",
    "print(list1)"
   ]
  },
  {
   "cell_type": "code",
   "execution_count": 13,
   "id": "c21157bc-e979-42bd-8457-c874954ab61e",
   "metadata": {},
   "outputs": [
    {
     "ename": "NameError",
     "evalue": "name 'list1' is not defined",
     "output_type": "error",
     "traceback": [
      "\u001b[1;31m---------------------------------------------------------------------------\u001b[0m",
      "\u001b[1;31mNameError\u001b[0m                                 Traceback (most recent call last)",
      "\u001b[1;32m~\\AppData\\Local\\Temp\\ipykernel_18420\\1313699602.py\u001b[0m in \u001b[0;36m<module>\u001b[1;34m\u001b[0m\n\u001b[0;32m      1\u001b[0m \u001b[1;32mdel\u001b[0m \u001b[0mlist1\u001b[0m \u001b[1;31m#deleting the whole list\u001b[0m\u001b[1;33m\u001b[0m\u001b[1;33m\u001b[0m\u001b[0m\n\u001b[1;32m----> 2\u001b[1;33m \u001b[0mprint\u001b[0m\u001b[1;33m(\u001b[0m\u001b[0mlist1\u001b[0m\u001b[1;33m)\u001b[0m\u001b[1;33m\u001b[0m\u001b[1;33m\u001b[0m\u001b[0m\n\u001b[0m",
      "\u001b[1;31mNameError\u001b[0m: name 'list1' is not defined"
     ]
    }
   ],
   "source": [
    "del list1 #deleting the whole list\n",
    "print(list1)"
   ]
  },
  {
   "cell_type": "markdown",
   "id": "087b8c32-1d25-451a-a2d5-9c7683c332a7",
   "metadata": {},
   "source": [
    "### Addition and multiplication of the lists in Python\n",
    "We can add two lists using the ‘+’ operator and multiply with a positive integer using ‘*’ operator. Using these operators concatenates the elements of one list at the end of the other. For example,"
   ]
  },
  {
   "cell_type": "code",
   "execution_count": 14,
   "id": "4d5a6c62-2c6d-436c-92f8-ca1983f761bb",
   "metadata": {},
   "outputs": [
    {
     "data": {
      "text/plain": [
       "[1, 9.0, 't', 4.5, 'a', 5.9]"
      ]
     },
     "execution_count": 14,
     "metadata": {},
     "output_type": "execute_result"
    }
   ],
   "source": [
    "list1=[1,9.0,'t',4.5]\n",
    "list2=['a',5.9]\n",
    "list1+list2"
   ]
  },
  {
   "cell_type": "code",
   "execution_count": 15,
   "id": "f298863f-ab39-497d-839f-c0391c036122",
   "metadata": {},
   "outputs": [
    {
     "data": {
      "text/plain": [
       "['a', 5.9, 'a', 5.9, 'a', 5.9]"
      ]
     },
     "execution_count": 15,
     "metadata": {},
     "output_type": "execute_result"
    }
   ],
   "source": [
    "list2*3"
   ]
  },
  {
   "cell_type": "markdown",
   "id": "a3d923eb-5066-4e79-a34d-6b4cc7d1dd13",
   "metadata": {},
   "source": [
    "## Python Built-in Functions\n",
    "There are built-in functions in Python for lists. We will discuss some common ones here.\n",
    "\n",
    "1. append(): This function is used to add an element to the list at the end.\n",
    "\n",
    "2. insert(): This function takes the element and the index as arguments and inserts the value in the specified location.\n",
    "\n",
    "3. pop(): This function deletes the last element if no index passes or deletes the element at that index and returns it.\n",
    "\n",
    "4. remove(): This function removes the specified value from the list.\n",
    "\n",
    "5. len(): This function returns the length or number of elements in the list\n",
    "\n",
    "6. sort(): This arranges the elements of the list in ascending or descending order\n",
    "\n",
    "7. index(): This is used to find the index of the element passed\n",
    "\n",
    "8. count(): This finds the number of times the value occurs in a list"
   ]
  },
  {
   "cell_type": "code",
   "execution_count": 16,
   "id": "1af6acae-01b1-4a91-a7f4-f3759878f6b4",
   "metadata": {},
   "outputs": [
    {
     "name": "stdout",
     "output_type": "stream",
     "text": [
      "[1, 7, 3, 'a', 'x', 'p', 4.6, 0.2, 3.7]\n",
      "[1, 7, 3, 'a', 'x', 'p', 4.6, 0.2, 3.7, 2.3]\n"
     ]
    }
   ],
   "source": [
    "list1=[1,7,3,'a','x','p',4.6,0.2,3.7]\n",
    "print(list1)\n",
    "list1.append(2.3)\n",
    "print(list1)"
   ]
  },
  {
   "cell_type": "code",
   "execution_count": 17,
   "id": "a977848b-7fa7-4a61-9822-e797942260c3",
   "metadata": {},
   "outputs": [
    {
     "data": {
      "text/plain": [
       "[1, 7, 0.9, 3, 'a', 'x', 'p', 4.6, 0.2, 3.7, 2.3]"
      ]
     },
     "execution_count": 17,
     "metadata": {},
     "output_type": "execute_result"
    }
   ],
   "source": [
    "list1.insert(2,0.9)\n",
    "list1"
   ]
  },
  {
   "cell_type": "code",
   "execution_count": 18,
   "id": "1ae3ed0a-1a49-489f-84c0-aef23b7446a3",
   "metadata": {},
   "outputs": [
    {
     "data": {
      "text/plain": [
       "[1, 7, 0.9, 3, 'a', 'x', 'p', 4.6, 0.2, 3.7]"
      ]
     },
     "execution_count": 18,
     "metadata": {},
     "output_type": "execute_result"
    }
   ],
   "source": [
    "list1.pop()\n",
    "list1"
   ]
  },
  {
   "cell_type": "code",
   "execution_count": 19,
   "id": "129f07dd-031c-427b-8602-26ea46ddb0d9",
   "metadata": {},
   "outputs": [
    {
     "data": {
      "text/plain": [
       "[1, 7, 0.9, 3, 'a', 'p', 4.6, 0.2, 3.7]"
      ]
     },
     "execution_count": 19,
     "metadata": {},
     "output_type": "execute_result"
    }
   ],
   "source": [
    "list1.remove('x')\n",
    "list1"
   ]
  },
  {
   "cell_type": "code",
   "execution_count": 20,
   "id": "d9492fd8-945f-470a-87f0-fed60454be2b",
   "metadata": {},
   "outputs": [
    {
     "data": {
      "text/plain": [
       "[1, 7, 0.9, 3, 'p', 4.6, 0.2, 3.7]"
      ]
     },
     "execution_count": 20,
     "metadata": {},
     "output_type": "execute_result"
    }
   ],
   "source": [
    "list1.pop(4)\n",
    "list1"
   ]
  },
  {
   "cell_type": "code",
   "execution_count": 21,
   "id": "907ac2d0-5856-42f0-a834-a6fdc9cb9d6a",
   "metadata": {},
   "outputs": [
    {
     "data": {
      "text/plain": [
       "8"
      ]
     },
     "execution_count": 21,
     "metadata": {},
     "output_type": "execute_result"
    }
   ],
   "source": [
    "len(list1)"
   ]
  },
  {
   "cell_type": "code",
   "execution_count": 22,
   "id": "9ef34378-32da-437a-90c9-01258f454c1e",
   "metadata": {},
   "outputs": [
    {
     "data": {
      "text/plain": [
       "[0, 1, 3, 5, 9]"
      ]
     },
     "execution_count": 22,
     "metadata": {},
     "output_type": "execute_result"
    }
   ],
   "source": [
    "list2=[1,5,3,9,0]\n",
    "list2.sort()\n",
    "list2"
   ]
  },
  {
   "cell_type": "code",
   "execution_count": 31,
   "id": "d9aa92e8-24ad-42dd-ae66-a42c75a3e2f0",
   "metadata": {},
   "outputs": [
    {
     "name": "stdout",
     "output_type": "stream",
     "text": [
      "['Tech', 'Master', 'Data', 'Science', 'Science']\n"
     ]
    },
    {
     "data": {
      "text/plain": [
       "3"
      ]
     },
     "execution_count": 31,
     "metadata": {},
     "output_type": "execute_result"
    }
   ],
   "source": [
    "list2 = ['Tech','Master','Data','Science','Science']\n",
    "print(list2)\n",
    "list2.index('Science')"
   ]
  },
  {
   "cell_type": "code",
   "execution_count": 32,
   "id": "e1bce7c5-a3b3-421f-9f6a-6205c2690d83",
   "metadata": {},
   "outputs": [
    {
     "data": {
      "text/plain": [
       "['Tech', 'Master', 'Data', 'Science', 'Science', 3]"
      ]
     },
     "execution_count": 32,
     "metadata": {},
     "output_type": "execute_result"
    }
   ],
   "source": [
    "list2.append(3)\n",
    "list2"
   ]
  },
  {
   "cell_type": "code",
   "execution_count": 35,
   "id": "0dcf4e2a-53bd-435a-993d-3963e8ae21bd",
   "metadata": {},
   "outputs": [
    {
     "data": {
      "text/plain": [
       "2"
      ]
     },
     "execution_count": 35,
     "metadata": {},
     "output_type": "execute_result"
    }
   ],
   "source": [
    "list2.count('Science')"
   ]
  },
  {
   "cell_type": "code",
   "execution_count": 37,
   "id": "9b155dad-2ca3-452c-befc-f343df5ccb06",
   "metadata": {},
   "outputs": [],
   "source": [
    "list2=[1,5,3,9,0]\n",
    "list2.sort(reverse=True)"
   ]
  },
  {
   "cell_type": "code",
   "execution_count": 38,
   "id": "4ca275f9-c1c7-4403-b417-564667810a14",
   "metadata": {},
   "outputs": [
    {
     "data": {
      "text/plain": [
       "[9, 5, 3, 1, 0]"
      ]
     },
     "execution_count": 38,
     "metadata": {},
     "output_type": "execute_result"
    }
   ],
   "source": [
    "list2"
   ]
  },
  {
   "cell_type": "markdown",
   "id": "1564a95f-fdc6-4c66-9093-aa3a0cf3aa81",
   "metadata": {},
   "source": [
    "List Comprehension in Python\n",
    "List comprehension is a way to create a list in a simple, and efficient way. The syntax of list comprehension is:\n",
    "\n",
    "[expression(x) for x in list]\n",
    "\n",
    "An example of creating a new list containing squares of the elements of the list using list comprehension is shown below."
   ]
  },
  {
   "cell_type": "code",
   "execution_count": 40,
   "id": "d5b20e0c-8d24-4ba9-ac3b-9ec2c7040f0c",
   "metadata": {},
   "outputs": [
    {
     "name": "stdout",
     "output_type": "stream",
     "text": [
      "[1, 4, 9, 16, 25]\n"
     ]
    }
   ],
   "source": [
    "list1=[1,-2,3,-4,5]\n",
    "list2=[x**2 for x in list1]\n",
    "print(list2)"
   ]
  },
  {
   "cell_type": "code",
   "execution_count": 44,
   "id": "f4f4418b-30bf-47aa-9925-4c02d0e66361",
   "metadata": {},
   "outputs": [
    {
     "name": "stdout",
     "output_type": "stream",
     "text": [
      "[1, -2, 3, -4, 5]\n",
      "[1, 4, 9, 16, 25]\n"
     ]
    }
   ],
   "source": [
    "print(list1)\n",
    "print(list2)"
   ]
  },
  {
   "cell_type": "markdown",
   "id": "baff9fc2-70aa-46c3-9dd9-66966d9637af",
   "metadata": {},
   "source": [
    "A list is a built-in Python data structure that is used to store an ordered collection of objects. It can contain objects of any type, including other lists, and can be resized dynamically. Lists are created using square brackets [] and can be initialized with zero or more elements."
   ]
  },
  {
   "cell_type": "markdown",
   "id": "a3b5a237-9aa3-4369-b7c5-e24925df72c1",
   "metadata": {},
   "source": [
    "### Arrays in Python\n",
    "An array is a data structure that is used to store a fixed-size, homogeneous collection of elements of the same data type. Unlike lists, arrays are not built-in Python data structures and require the \"array\" module to be imported before use. Arrays are created using the array() function and can only contain elements of a single data type, such as integers or floats."
   ]
  },
  {
   "cell_type": "markdown",
   "id": "eaeb9510-51f9-4297-84cd-62f3bbcde938",
   "metadata": {},
   "source": [
    "These are the data structures similar to lists. The only difference is that these are homogeneous, that is, have the elements of the same data type.\n",
    "\n",
    "There is a type of array called Matrix which is a 2 dimensional array, with all the elements having the same size."
   ]
  },
  {
   "cell_type": "code",
   "execution_count": 1,
   "id": "3fe3172e-2600-4056-8e3a-fa1401f8489b",
   "metadata": {},
   "outputs": [],
   "source": [
    "import array\n",
    "my_array = array.array('i', [1, 2, 3, 4, 5])"
   ]
  },
  {
   "cell_type": "code",
   "execution_count": 2,
   "id": "a2956d4f-df92-459e-95e3-e83674aa881a",
   "metadata": {},
   "outputs": [],
   "source": [
    "third_element = my_array[2]  # returns 3\n",
    "second_to_last = my_array[-2]  # returns 4\n",
    "every_other = my_array[::2]  # returns [1, 3, 5]"
   ]
  },
  {
   "cell_type": "code",
   "execution_count": 3,
   "id": "3c40a9c1-cfc9-4a15-a0e4-8a719d213c54",
   "metadata": {},
   "outputs": [
    {
     "name": "stdout",
     "output_type": "stream",
     "text": [
      "3\n"
     ]
    }
   ],
   "source": [
    "print(third_element)"
   ]
  },
  {
   "cell_type": "code",
   "execution_count": 4,
   "id": "34bb6039-64c9-4853-a2c9-682a250d9f14",
   "metadata": {},
   "outputs": [
    {
     "name": "stdout",
     "output_type": "stream",
     "text": [
      "4\n"
     ]
    }
   ],
   "source": [
    "print(second_to_last)"
   ]
  },
  {
   "cell_type": "code",
   "execution_count": 5,
   "id": "3cfe25fc-941b-4d2a-97d7-52f4639d5d54",
   "metadata": {},
   "outputs": [
    {
     "name": "stdout",
     "output_type": "stream",
     "text": [
      "array('i', [1, 3, 5])\n"
     ]
    }
   ],
   "source": [
    "print(every_other)"
   ]
  },
  {
   "cell_type": "markdown",
   "id": "0d52f664-d9bd-4acd-bed4-da268d0cea43",
   "metadata": {},
   "source": [
    "### Tuples in Python\n",
    "A tuple is also a collection of elements of different data types. The difference between a tuple and a list is that lists are mutable whereas tuples are not.\n",
    "\n",
    "Creating Python Tuples\n",
    "The elements of a tuple are enclosed by round brackets with each element separated by a comma. For example,"
   ]
  },
  {
   "cell_type": "code",
   "execution_count": 48,
   "id": "1124c326-7b6b-473b-9d35-1865485c82c9",
   "metadata": {},
   "outputs": [
    {
     "name": "stdout",
     "output_type": "stream",
     "text": [
      "The type of  (1, 2, 'a', 4.5, [9, 0, 7], ('s', 'r')) is: <class 'tuple'>\n"
     ]
    }
   ],
   "source": [
    "tup=(1,2,'a',4.5,[9,0,7],('s','r'))\n",
    "print(\"The type of \",tup,\"is:\",type(tup))"
   ]
  },
  {
   "cell_type": "markdown",
   "id": "80730bdc-6864-406a-85b1-694534ff41fc",
   "metadata": {},
   "source": [
    "However, to create a tuple with one element, we need to add a comma after that element. Or else, it will be treated as a primitive data type (int, str, etc.)."
   ]
  },
  {
   "cell_type": "code",
   "execution_count": 49,
   "id": "e18776d5-74fa-4ae3-af80-e9a8a78d0ebf",
   "metadata": {},
   "outputs": [
    {
     "name": "stdout",
     "output_type": "stream",
     "text": [
      "The type of  2 is: <class 'int'>\n",
      "The type of  (2,) is: <class 'tuple'>\n"
     ]
    }
   ],
   "source": [
    "tup2=(2)\n",
    "print(\"The type of \",tup2,\"is:\",type(tup2))\n",
    "\n",
    "tup3=(2,)\n",
    "print(\"The type of \",tup3,\"is:\",type(tup3))"
   ]
  },
  {
   "cell_type": "markdown",
   "id": "95fa6a92-1dc8-4070-8b2b-0c09802d75f2",
   "metadata": {},
   "source": [
    "Accessing elements of Python Tuple\n",
    "\n",
    "We can access the elements of a tuple using indexing, same as the case of the list. Examples of indexing to get one or more than one element is shown below."
   ]
  },
  {
   "cell_type": "code",
   "execution_count": 50,
   "id": "094926f6-1d42-4bca-a61b-c121f8fcfc20",
   "metadata": {},
   "outputs": [
    {
     "name": "stdout",
     "output_type": "stream",
     "text": [
      "1\n",
      "a\n",
      "(2, 'a')\n",
      "(1, 2, 'a')\n",
      "('a', 4.5)\n",
      "(1, 2, 'a')\n"
     ]
    }
   ],
   "source": [
    "tup1=(1,2,'a',4.5)\n",
    "print(tup1[0]) #accessing the first element\n",
    "\n",
    "print(tup1[-2]) # accessing the last 2nd element\n",
    "\n",
    "print(tup1[1:3]) # accessing 2nd to 3rd element\n",
    "\n",
    "print(tup1[-4:-1]) # accessing last 4th to 2nd elements\n",
    "\n",
    "print(tup1[2:]) # accessing all the elements from the 3rd element\n",
    "\n",
    "print(tup1[:-1]) # accessing all the elements till the last element"
   ]
  },
  {
   "cell_type": "markdown",
   "id": "a549c3f4-2134-45c9-b482-3a2fde241e2f",
   "metadata": {},
   "source": [
    "Reassigning and Deleting elements of tuples in Python\n",
    "\n",
    "Tuples do not allow you to change or delete a particular element of a tuple. When we try adding/deleting an element, we get an error. This is shown in the below example."
   ]
  },
  {
   "cell_type": "code",
   "execution_count": 51,
   "id": "d4e65f68-49e5-4b6c-9d09-fead2555be23",
   "metadata": {},
   "outputs": [
    {
     "ename": "TypeError",
     "evalue": "'tuple' object does not support item assignment",
     "output_type": "error",
     "traceback": [
      "\u001b[1;31m---------------------------------------------------------------------------\u001b[0m",
      "\u001b[1;31mTypeError\u001b[0m                                 Traceback (most recent call last)",
      "\u001b[1;32m~\\AppData\\Local\\Temp\\ipykernel_17320\\1158062261.py\u001b[0m in \u001b[0;36m<module>\u001b[1;34m\u001b[0m\n\u001b[0;32m      1\u001b[0m \u001b[0mtup\u001b[0m\u001b[1;33m=\u001b[0m\u001b[1;33m(\u001b[0m\u001b[1;36m1\u001b[0m\u001b[1;33m,\u001b[0m\u001b[1;36m4\u001b[0m\u001b[1;33m,\u001b[0m\u001b[1;34m'a'\u001b[0m\u001b[1;33m,\u001b[0m\u001b[1;36m9.0\u001b[0m\u001b[1;33m)\u001b[0m\u001b[1;33m\u001b[0m\u001b[1;33m\u001b[0m\u001b[0m\n\u001b[1;32m----> 2\u001b[1;33m \u001b[0mtup\u001b[0m\u001b[1;33m[\u001b[0m\u001b[1;36m3\u001b[0m\u001b[1;33m]\u001b[0m\u001b[1;33m=\u001b[0m\u001b[1;36m8\u001b[0m\u001b[1;33m\u001b[0m\u001b[1;33m\u001b[0m\u001b[0m\n\u001b[0m\u001b[0;32m      3\u001b[0m \u001b[1;33m\u001b[0m\u001b[0m\n\u001b[0;32m      4\u001b[0m \u001b[1;32mdel\u001b[0m \u001b[0mtup\u001b[0m\u001b[1;33m[\u001b[0m\u001b[1;36m2\u001b[0m\u001b[1;33m]\u001b[0m\u001b[1;33m\u001b[0m\u001b[1;33m\u001b[0m\u001b[0m\n",
      "\u001b[1;31mTypeError\u001b[0m: 'tuple' object does not support item assignment"
     ]
    }
   ],
   "source": [
    "tup=(1,4,'a',9.0)\n",
    "tup[3]=8\n",
    "\n",
    "del tup[2]"
   ]
  },
  {
   "cell_type": "markdown",
   "id": "87099187-4519-4671-ab06-42c6ce6afb39",
   "metadata": {},
   "source": [
    "Idea of immutability in Python\n",
    "\n",
    "The immutability of the tuple actually applies to the id of the value of each element of the tuple. When we try to modify the value of a variable, the id of the variable changes to that of the new value.\n",
    "\n",
    "Every unique element of a tuple has its own id, which represents the memory location of that element. The elements with the same value have the same id. This is shown below."
   ]
  },
  {
   "cell_type": "code",
   "execution_count": 53,
   "id": "09e91549-a4cc-4b64-bf6f-6569d0689dcc",
   "metadata": {},
   "outputs": [
    {
     "name": "stdout",
     "output_type": "stream",
     "text": [
      "True\n",
      "False\n"
     ]
    }
   ],
   "source": [
    "tup=(1,'a',1,7.6,[1.2,3.4])\n",
    "print(id(tup[0]) ==id(tup[2])) #1st and 3rd elements have same value\n",
    "print(id(tup[1])==id(tup[4])) #2nd and 5th elements have different values"
   ]
  },
  {
   "cell_type": "markdown",
   "id": "cada05b8-69fb-4a73-af6a-eb3fdd5dc105",
   "metadata": {},
   "source": [
    "When we try to modify a value of a tuple, we try to change the ids of the elements of the tuple. So, we are allowed to do that. But we can modify a mutable element like a list in a tuple, as the list’s id does not change. This is shown below.\n",
    "\n",
    "Example of showing that id of the list in a tuple does not change on modifying it :"
   ]
  },
  {
   "cell_type": "code",
   "execution_count": 54,
   "id": "0a288f9c-9312-45e5-962f-272ef883352f",
   "metadata": {},
   "outputs": [
    {
     "name": "stdout",
     "output_type": "stream",
     "text": [
      "Id of the list inside the tuple after appending:\n"
     ]
    },
    {
     "data": {
      "text/plain": [
       "(1, 'a', 1, 7.6, [1.2, 3.4, 4])"
      ]
     },
     "execution_count": 54,
     "metadata": {},
     "output_type": "execute_result"
    }
   ],
   "source": [
    "tup=(1,'a',1,7.6,[1.2,3.4])\n",
    "id(tup[-1])\n",
    "tup[-1].append(4)\n",
    "print(\"Id of the list inside the tuple after appending:\")\n",
    "id(tup[-1])\n",
    "tup"
   ]
  },
  {
   "cell_type": "markdown",
   "id": "cece79be-727e-444a-9a78-a7a666374b61",
   "metadata": {},
   "source": [
    "Adding Tuples in Python\n",
    "However, you can append a set of values using the ‘+’ operator on a tuple. For example,"
   ]
  },
  {
   "cell_type": "code",
   "execution_count": 55,
   "id": "8f085d50-39ce-4bde-9462-a9d363eec83f",
   "metadata": {},
   "outputs": [
    {
     "name": "stdout",
     "output_type": "stream",
     "text": [
      "(1, 2, 39, 'a', 'b')\n"
     ]
    }
   ],
   "source": [
    "tup1=(1,2,39)\n",
    "tup1=tup1+('a','b')\n",
    "print(tup1)"
   ]
  },
  {
   "cell_type": "markdown",
   "id": "7671f0ff-2fc6-4364-b3ae-6a0eb9665a46",
   "metadata": {},
   "source": [
    "Changing Python tuple value by using list():\n",
    "We can also change the value of a tuple by converting it into a list. Then changing the value and converting it back to the tuple. For example,"
   ]
  },
  {
   "cell_type": "code",
   "execution_count": 56,
   "id": "0ade00a1-cbd9-46bc-9f5e-a66a56640db3",
   "metadata": {},
   "outputs": [
    {
     "data": {
      "text/plain": [
       "(1, 2, 3, 4, 6)"
      ]
     },
     "execution_count": 56,
     "metadata": {},
     "output_type": "execute_result"
    }
   ],
   "source": [
    "tup=(1,2,3,4,5)\n",
    "\n",
    "list1=list(tup)\n",
    "list1[4]=6\n",
    "\n",
    "tup=tuple(list1)\n",
    "tup"
   ]
  },
  {
   "cell_type": "markdown",
   "id": "0ecc06ab-fe8f-43fc-afa3-f6c29da4f7ab",
   "metadata": {},
   "source": [
    "Tuple packing and unpacking in Python\n",
    "\n",
    "We can create a set of elements as a tuple without using parentheses and this is called packing. We can also split the elements of a tuple by assigning the values to the same number of variables and this is called unpacking. To understand this further, look at the below example.\n",
    "\n",
    "Example of packing and unpacking tuples:"
   ]
  },
  {
   "cell_type": "code",
   "execution_count": 57,
   "id": "a17e3646-15a1-4587-8590-57f59c9cf487",
   "metadata": {},
   "outputs": [
    {
     "name": "stdout",
     "output_type": "stream",
     "text": [
      "The type of  (1, 2, 3) is: <class 'tuple'>\n",
      "1\n",
      "2\n",
      "3\n"
     ]
    }
   ],
   "source": [
    "tup=1,2,3 #packing\n",
    "print(\"The type of \",tup,\"is:\",type(tup))\n",
    "\n",
    "a,b,c=tup #unpacking\n",
    "print(a)\n",
    "print(b)\n",
    "print(c)"
   ]
  },
  {
   "cell_type": "markdown",
   "id": "53baa8ae-5a73-4f55-9948-1a88f158e967",
   "metadata": {},
   "source": [
    "Other built-in functions in Python\n",
    "\n",
    "We can use built-in functions that are used for a list like len(), index(),etc. But we cannot use the ones that modify the list like append(), pop(). Below examples show this.\n",
    "\n",
    "Example of using built-in functions on tuples:"
   ]
  },
  {
   "cell_type": "code",
   "execution_count": 58,
   "id": "fa116244-a47b-4b6f-a40b-089232833aed",
   "metadata": {},
   "outputs": [
    {
     "name": "stdout",
     "output_type": "stream",
     "text": [
      "5\n",
      "2\n",
      "0\n"
     ]
    }
   ],
   "source": [
    "tup=(9,6,'g','Python',7.4)\n",
    "print(len(tup))\n",
    "print(tup.index('g'))\n",
    "\n",
    "print(tup.count('a'))"
   ]
  },
  {
   "cell_type": "markdown",
   "id": "714e2de8-c356-4d31-a445-9f1834574861",
   "metadata": {},
   "source": [
    "### Sets in Python\n",
    "Sets are again a collection of elements. But the difference from the above two is that sets do not hold duplicate values and the elements are not ordered. So, we cannot use indexing here. The elements get automatically arranged in ascending order.\n",
    "\n",
    "Creating Sets in Python\n",
    "\n",
    "The elements of a set are enclosed between curly brackets and are separated by comma. Sets can have a tuple as its element, but not a list because sets are immutable and lists can be changed."
   ]
  },
  {
   "cell_type": "code",
   "execution_count": 59,
   "id": "9c814bc1-4020-4924-ae3f-8cd3c10412a0",
   "metadata": {},
   "outputs": [
    {
     "name": "stdout",
     "output_type": "stream",
     "text": [
      "The type of  {'h', (4, 0.5), 6, 7} is: <class 'set'>\n",
      "set2: {0, 1, 4, 9}\n"
     ]
    },
    {
     "ename": "TypeError",
     "evalue": "unhashable type: 'list'",
     "output_type": "error",
     "traceback": [
      "\u001b[1;31m---------------------------------------------------------------------------\u001b[0m",
      "\u001b[1;31mTypeError\u001b[0m                                 Traceback (most recent call last)",
      "\u001b[1;32m~\\AppData\\Local\\Temp\\ipykernel_17320\\715728355.py\u001b[0m in \u001b[0;36m<module>\u001b[1;34m\u001b[0m\n\u001b[0;32m      5\u001b[0m \u001b[0mprint\u001b[0m\u001b[1;33m(\u001b[0m\u001b[1;34m\"set2:\"\u001b[0m\u001b[1;33m,\u001b[0m\u001b[0mset2\u001b[0m\u001b[1;33m)\u001b[0m\u001b[1;33m\u001b[0m\u001b[1;33m\u001b[0m\u001b[0m\n\u001b[0;32m      6\u001b[0m \u001b[1;33m\u001b[0m\u001b[0m\n\u001b[1;32m----> 7\u001b[1;33m \u001b[0mset3\u001b[0m\u001b[1;33m=\u001b[0m\u001b[1;33m{\u001b[0m\u001b[1;34m'h'\u001b[0m\u001b[1;33m,\u001b[0m\u001b[1;33m[\u001b[0m\u001b[1;36m3\u001b[0m\u001b[1;33m,\u001b[0m\u001b[1;36m4\u001b[0m\u001b[1;33m,\u001b[0m\u001b[1;36m6\u001b[0m\u001b[1;33m]\u001b[0m\u001b[1;33m}\u001b[0m\u001b[1;33m\u001b[0m\u001b[1;33m\u001b[0m\u001b[0m\n\u001b[0m",
      "\u001b[1;31mTypeError\u001b[0m: unhashable type: 'list'"
     ]
    }
   ],
   "source": [
    "set1={6,'h',(4,0.5),7}\n",
    "print(\"The type of \",set1,\"is:\",type(set1))\n",
    "\n",
    "set2={4,1,9,0}\n",
    "print(\"set2:\",set2)\n",
    "\n",
    "set3={'h',[3,4,6]}"
   ]
  },
  {
   "cell_type": "markdown",
   "id": "c8c23697-de3c-4f70-982d-70d231d69d90",
   "metadata": {},
   "source": [
    "Built-in Functions on Python Sets\n",
    "Python provides some built-in functions to use on sets like :\n",
    "\n",
    "1. add(): To add an element to a set.\n",
    "\n",
    "2. pop():To remove the last element if index is not specified and if specified removes elements at that index.\n",
    "\n",
    "3. clear(): To delete all the elements of a set.\n",
    "\n",
    "4. len(): To find the length of a set, etc.\n",
    "\n",
    "5. remove(): This removes the specified element from the set. This function gives an error if the element is not present in the set.\n",
    "\n",
    "6. discard(): This removes the specified element from the set. But this function does not give an error if the element is not present in the set.\n",
    "\n",
    "Let us see some examples."
   ]
  },
  {
   "cell_type": "code",
   "execution_count": 60,
   "id": "b3648911-0de1-4a86-8b97-9c5b2dc44932",
   "metadata": {},
   "outputs": [
    {
     "name": "stdout",
     "output_type": "stream",
     "text": [
      "{1, 2, 'a', 5, 7.5, 't'}\n",
      "6\n",
      "{2, 5.6, 'g'}\n",
      "{1, 2, 5, 7.5, 't'}\n",
      "{2, 5, 7.5, 't'}\n"
     ]
    },
    {
     "ename": "KeyError",
     "evalue": "5.6",
     "output_type": "error",
     "traceback": [
      "\u001b[1;31m---------------------------------------------------------------------------\u001b[0m",
      "\u001b[1;31mKeyError\u001b[0m                                  Traceback (most recent call last)",
      "\u001b[1;32m~\\AppData\\Local\\Temp\\ipykernel_17320\\2328205973.py\u001b[0m in \u001b[0;36m<module>\u001b[1;34m\u001b[0m\n\u001b[0;32m     15\u001b[0m \u001b[0mprint\u001b[0m\u001b[1;33m(\u001b[0m\u001b[0mset1\u001b[0m\u001b[1;33m)\u001b[0m\u001b[1;33m\u001b[0m\u001b[1;33m\u001b[0m\u001b[0m\n\u001b[0;32m     16\u001b[0m \u001b[1;33m\u001b[0m\u001b[0m\n\u001b[1;32m---> 17\u001b[1;33m \u001b[0mset1\u001b[0m\u001b[1;33m.\u001b[0m\u001b[0mremove\u001b[0m\u001b[1;33m(\u001b[0m\u001b[1;36m5.6\u001b[0m\u001b[1;33m)\u001b[0m\u001b[1;33m\u001b[0m\u001b[1;33m\u001b[0m\u001b[0m\n\u001b[0m\u001b[0;32m     18\u001b[0m \u001b[1;33m\u001b[0m\u001b[0m\n\u001b[0;32m     19\u001b[0m \u001b[0mset1\u001b[0m\u001b[1;33m.\u001b[0m\u001b[0mdiscard\u001b[0m\u001b[1;33m(\u001b[0m\u001b[1;36m10\u001b[0m\u001b[1;33m)\u001b[0m\u001b[1;33m\u001b[0m\u001b[1;33m\u001b[0m\u001b[0m\n",
      "\u001b[1;31mKeyError\u001b[0m: 5.6"
     ]
    }
   ],
   "source": [
    "set1={1,2,'a','t',7.5}\n",
    "set2={'g',2,'u',5.6}\n",
    "\n",
    "set1.add(5)\n",
    "print(set1)\n",
    "\n",
    "print(len(set1))\n",
    "\n",
    "set2.pop()\n",
    "print(set2)\n",
    "\n",
    "set1.remove('a')\n",
    "print(set1)\n",
    "set1.discard(1)\n",
    "print(set1)\n",
    "\n",
    "set1.remove(5.6)\n",
    "\n",
    "set1.discard(10)\n",
    "print(set1)\n",
    "\n",
    "set2.clear()\n",
    "print(len(set2))"
   ]
  },
  {
   "cell_type": "markdown",
   "id": "0bd7732b-c9f8-4719-932f-f44644c59191",
   "metadata": {},
   "source": [
    "Operations on sets in Python\n",
    "Also we can do operations that we did in mathematics like union(), intersection(), difference(), and the symmetric_difference().\n",
    "\n",
    "a. The union() returns the combined values from both the sets. And if any value is matched, then it is returned only once.\n",
    "\n",
    "b. The intersection() returns the set of common values from both the sets. If no common ones, it returns an empty set.\n",
    "\n",
    "c. The difference() function returns the set of values of the first set that are not there in the second one.\n",
    "\n",
    "d. The symmetric_difference() returns the set of values from both the sets that are not common to the sets."
   ]
  },
  {
   "cell_type": "code",
   "execution_count": 61,
   "id": "5541e0ce-e2f6-4d85-8bc9-6b15995dc71b",
   "metadata": {},
   "outputs": [
    {
     "name": "stdout",
     "output_type": "stream",
     "text": [
      "Union: {1, 2, 6.7, 7.5, 'l', 't', 'a'}\n",
      "Intersection: {1, 'a'}\n",
      "Difference: {2, 't', 7.5}\n",
      "Symmetric Difference: {2, 6.7, 7.5, 'l', 't'}\n"
     ]
    }
   ],
   "source": [
    "set1={1,2,'a','t',7.5}\n",
    "set2={1,'l',6.7,'a'}\n",
    "print(\"Union:\",set1.union(set2))\n",
    "print(\"Intersection:\",set1.intersection(set2))\n",
    "print(\"Difference:\",set1.difference(set2))\n",
    "print(\"Symmetric Difference:\",set1.symmetric_difference(set2))"
   ]
  },
  {
   "cell_type": "markdown",
   "id": "77fe8249-1baa-4118-8c44-f49af26d1c75",
   "metadata": {},
   "source": [
    "### Dictionaries in Python\n",
    "Don’t worry these are not like lists! Dictionaries are data structures that store key-value pairs. These can be thought of as real-life dictionaries, where unique words are lapped to their meanings. These keys should be unique and cannot be changed. So we cannot use unhashable/ modifiable data such as a list as key.\n",
    "\n",
    "a. Creating Python dictionaries\n",
    "\n",
    "A dictionary uses curly braces to hold its key-values and commas to separate them. For example:"
   ]
  },
  {
   "cell_type": "code",
   "execution_count": 62,
   "id": "012f42e0-41d4-4268-bbb1-f8ccf353bfb1",
   "metadata": {},
   "outputs": [
    {
     "name": "stdout",
     "output_type": "stream",
     "text": [
      "The type of  {1: 'a', 4: 't', 8: 9} is: <class 'dict'>\n"
     ]
    }
   ],
   "source": [
    "dict1={1:'a',4:'t',8:9}\n",
    "print(\"The type of \",dict1,\"is:\",type(dict1))"
   ]
  },
  {
   "cell_type": "markdown",
   "id": "c86da119-9294-4147-a33f-dd4f081f9fc4",
   "metadata": {},
   "source": [
    "If we try to give the same key again while creating the dictionary, the new value replaces the old one. For example,"
   ]
  },
  {
   "cell_type": "code",
   "execution_count": 63,
   "id": "6968bd78-8be5-4ee5-bd2d-e16329c1cdef",
   "metadata": {},
   "outputs": [
    {
     "data": {
      "text/plain": [
       "{1: 'c', 2: 'b', 4: 't'}"
      ]
     },
     "execution_count": 63,
     "metadata": {},
     "output_type": "execute_result"
    }
   ],
   "source": [
    "dic={1:'a',2:'b',1:'c',4:'t'}\n",
    "dic"
   ]
  },
  {
   "cell_type": "markdown",
   "id": "5340d426-2b98-4241-9078-6eb15aea4bb0",
   "metadata": {},
   "source": [
    "Accessing elements of Python Dictionary\n",
    "We can access the elements of a dictionary using the keys. For example,"
   ]
  },
  {
   "cell_type": "code",
   "execution_count": 64,
   "id": "9ae07be5-0662-4839-90c8-e59e90be85f0",
   "metadata": {},
   "outputs": [
    {
     "name": "stdout",
     "output_type": "stream",
     "text": [
      "9\n",
      "t\n"
     ]
    }
   ],
   "source": [
    "print(dict1[8])\n",
    "\n",
    "print(dict1[4])"
   ]
  },
  {
   "cell_type": "markdown",
   "id": "9aedfee1-a822-4af0-8b30-ae08cf75f4ca",
   "metadata": {},
   "source": [
    "Changing and adding the value of Python Dictionary\n",
    "We cannot change the keys but we can change the values using the keys. We can add a key-value by assigning the key in the square brackets and equating to the value. For example,"
   ]
  },
  {
   "cell_type": "code",
   "execution_count": 66,
   "id": "5b37953d-cbaa-44b4-92db-ac495183b0f1",
   "metadata": {},
   "outputs": [
    {
     "name": "stdout",
     "output_type": "stream",
     "text": [
      "{'a': 7, 'e': 4, 'y': 6, 'ab': 15}\n",
      "{'a': 7, 'e': 4, 'y': 6, 'ab': 15, 'z': 34}\n"
     ]
    }
   ],
   "source": [
    "dict1={'a':7,'e':4,\"y\":6,\"ab\":10}\n",
    "dict1['ab']=15\n",
    "print(dict1)\n",
    "\n",
    "dict1['z']=34\n",
    "print(dict1)"
   ]
  },
  {
   "cell_type": "markdown",
   "id": "dab6363d-9428-49f7-8665-d4a37f008a88",
   "metadata": {},
   "source": [
    "Built-in functions on Python Dictionary:\n",
    "Python has built-in functions for dictionaries also like:\n",
    "\n",
    "1. get(): To get a value of the specified key.\n",
    "\n",
    "2. pop(): Takes a key as an argument, deletes that key-value, and returns the value.\n",
    "\n",
    "3. popitem(): Deletes the last key-value and returns the key-value pair as dictionary.\n",
    "\n",
    "4. clear(): To delete all the elements of a dictionary. It keeps the instance of the dictionary, that is we can access the dictionary after clearing. It gives an empty dictionary.\n",
    "\n",
    "5. keys(): Get all the keys in the dictionary.\n",
    "\n",
    "6. values(): Get all the values in the dictionary.\n",
    "\n",
    "7. items(): Get all the key-value pairs.\n",
    "\n",
    "The examples of these functions are shown below:\n",
    "\n",
    "Example of using built-in functions on a dictionary in Python:"
   ]
  },
  {
   "cell_type": "code",
   "execution_count": 67,
   "id": "b3f59983-418e-42d7-b021-a4e5ccf66c84",
   "metadata": {},
   "outputs": [
    {
     "name": "stdout",
     "output_type": "stream",
     "text": [
      "o\n",
      "dict_keys([1, 2, 3, 4, 5])\n",
      "dict_values(['a', 'e', 'i', 'o', 'u'])\n",
      "dict_items([(1, 'a'), (2, 'e'), (3, 'i'), (4, 'o'), (5, 'u')])\n",
      "The value of var1 is: e\n",
      "The value of var2 is: (5, 'u')\n"
     ]
    },
    {
     "data": {
      "text/plain": [
       "{}"
      ]
     },
     "execution_count": 67,
     "metadata": {},
     "output_type": "execute_result"
    }
   ],
   "source": [
    "dict1={1:'a',2:'e',3:'i',4:'o',5:'u'}\n",
    "print(dict1.get(4))\n",
    "\n",
    "print(dict1.keys())\n",
    "\n",
    "print(dict1.values())\n",
    "\n",
    "print(dict1.items())\n",
    "\n",
    "var1=dict1.pop(2)\n",
    "print(\"The value of var1 is:\",var1)\n",
    "\n",
    "var2=dict1.popitem()\n",
    "print(\"The value of var2 is:\",var2)\n",
    "\n",
    "dict1.clear()\n",
    "dict1"
   ]
  },
  {
   "cell_type": "markdown",
   "id": "e08a3ca6-b621-4943-9235-505deebb7891",
   "metadata": {},
   "source": [
    "# User-Defined Data Structures in Python\n",
    "Besides the built-in data structures, we have the derived data structures that are built using the built-in ones. These have their own properties and have a wide range of uses in real world situations. Let us discuss them and their properties in brief.\n",
    "\n",
    "### 1. Arrays in Python\n",
    "These are the data structures similar to lists. The only difference is that these are homogeneous, that is, have the elements of the same data type.\n",
    "\n",
    "There is a type of array called Matrix which is a 2 dimensional array, with all the elements having the same size.\n",
    "\n",
    "### 2. Stacks in Python\n",
    "These are the data structures that work following the principle of LIFO (Last In First Out).\n",
    "\n",
    "a. The elements enter and leave at the same node called the top. We can access only the last entered element using the top node.\n",
    "\n",
    "b. It is built using arrays. We can do operations like push (adding element), pop (deleting element), and accessing elements."
   ]
  },
  {
   "cell_type": "markdown",
   "id": "e167c78f-86f7-47eb-bc28-6e0fa93c430f",
   "metadata": {},
   "source": [
    "![title](photos/Stacks.webp)"
   ]
  },
  {
   "cell_type": "markdown",
   "id": "8fd486da-fe66-46d2-bfb0-e474c1bba80a",
   "metadata": {},
   "source": [
    "We can think of push as appending a value to a list and pop is similar to pop in list without any argument. For example,\n",
    "\n",
    "Example of doing operations of stack using lists:"
   ]
  },
  {
   "cell_type": "code",
   "execution_count": 6,
   "id": "c4dd8d61-a8c0-4f5a-a201-4fbff97771a3",
   "metadata": {},
   "outputs": [],
   "source": [
    "stack=[1,2,3,4,5]"
   ]
  },
  {
   "cell_type": "code",
   "execution_count": 7,
   "id": "341ffc35-91b3-4515-9774-9575e341c906",
   "metadata": {},
   "outputs": [
    {
     "data": {
      "text/plain": [
       "[1, 2, 3, 4, 5, 6]"
      ]
     },
     "execution_count": 7,
     "metadata": {},
     "output_type": "execute_result"
    }
   ],
   "source": [
    "stack.append(6) #push\n",
    "stack"
   ]
  },
  {
   "cell_type": "code",
   "execution_count": 8,
   "id": "0c8dbfa8-bed7-4086-8b9f-56e7bb51efb5",
   "metadata": {},
   "outputs": [
    {
     "data": {
      "text/plain": [
       "[1, 2, 3, 4, 5]"
      ]
     },
     "execution_count": 8,
     "metadata": {},
     "output_type": "execute_result"
    }
   ],
   "source": [
    "stack.pop() #pop\n",
    "stack"
   ]
  },
  {
   "cell_type": "markdown",
   "id": "c633d42c-6ca9-4bfd-a849-e55fe47fceec",
   "metadata": {},
   "source": [
    "c. The top node represents the entire stack, as it holds the pointer to the stack’s current element.\n",
    "\n",
    "d. It is used for recursive programs, reversal, undo operations, and so on."
   ]
  },
  {
   "cell_type": "markdown",
   "id": "066f2b3d-f187-48ec-a9d3-9c9bcbe345b8",
   "metadata": {},
   "source": [
    "### 3. Queues in Array\n",
    "These data structures follow the principle of FIFO (First In First Out).\n",
    "\n",
    "a. The elements enter at one end and leave at the other end. It is similar to the queues we see ATM centres, mess, etc.\n",
    "\n",
    "b. The two ends are called front/head and back/tail.\n",
    "\n",
    "c. It is built using arrays. We can do operations like enque (adding element), deque(deleting element), and accessing elements.\n",
    "\n",
    "Queue in Python"
   ]
  },
  {
   "cell_type": "markdown",
   "id": "ff1482a0-3c68-4087-8604-d762e47683c5",
   "metadata": {},
   "source": [
    "![title](photos/Queues.webp)"
   ]
  },
  {
   "cell_type": "markdown",
   "id": "76d24a1f-5848-46a3-b0ce-90c76f19fada",
   "metadata": {},
   "source": [
    "Here enque can be thought of as appending elements to the list and deque is deleting the first element of the list by giving index as 0 to the pop() function.\n",
    "\n",
    "Example of doing operations of queues using lists:"
   ]
  },
  {
   "cell_type": "code",
   "execution_count": 9,
   "id": "264c8125-9a72-42f8-ae1a-5da482ec62a7",
   "metadata": {},
   "outputs": [],
   "source": [
    "queue=[1,2,3,4,5]"
   ]
  },
  {
   "cell_type": "code",
   "execution_count": 10,
   "id": "5349ea92-7ceb-496b-b97a-2b466491f2f5",
   "metadata": {},
   "outputs": [
    {
     "data": {
      "text/plain": [
       "[1, 2, 3, 4, 5, 7]"
      ]
     },
     "execution_count": 10,
     "metadata": {},
     "output_type": "execute_result"
    }
   ],
   "source": [
    "queue.append(7) #enque\n",
    "queue"
   ]
  },
  {
   "cell_type": "code",
   "execution_count": 11,
   "id": "e786ae7e-bb0a-4fc3-9bbe-4c4485d98c99",
   "metadata": {},
   "outputs": [
    {
     "data": {
      "text/plain": [
       "[2, 3, 4, 5, 7]"
      ]
     },
     "execution_count": 11,
     "metadata": {},
     "output_type": "execute_result"
    }
   ],
   "source": [
    "queue.pop(0) #deque\n",
    "\n",
    "queue"
   ]
  },
  {
   "cell_type": "markdown",
   "id": "4d75a78f-207f-4baa-bc18-47c84ca234aa",
   "metadata": {},
   "source": [
    "d. It is used for task scheduling in the operating systems, handling interrupts, and so on.\n",
    "\n",
    "### 4. Linked Lists in Python\n",
    "These are linear data structures that hold the values of the next element using the pointers.\n",
    "\n",
    "a. A node consists of two values, one is the data and the other is the pointer to the next node.\n",
    "\n",
    "b. The linked lists can be extended easily compared to the lists.\n",
    "\n",
    "c. We can do operations like adding/deleting nodes at the end, at the beginning or in the middle, and accessing elements."
   ]
  },
  {
   "cell_type": "markdown",
   "id": "8a13dc07-cd1a-4131-9f98-65791b6eb5eb",
   "metadata": {},
   "source": [
    "![title](photos/Linked-Lists.webp)"
   ]
  },
  {
   "cell_type": "markdown",
   "id": "1d1a57da-9132-4b74-b5c8-2c15abf02809",
   "metadata": {},
   "source": [
    "d. These are used in the applications like music player, image viewing applications, building the other data structures like stacks, and queues and so on."
   ]
  },
  {
   "cell_type": "markdown",
   "id": "3989e84f-7003-4a9a-bac7-3a750d875c22",
   "metadata": {},
   "source": [
    "### 5. Tree in Python\n",
    "Remember making a family tree in your childhood! The trees in Python resemble them. These are non linear data structures that form a hierarchy like structure.\n",
    "\n",
    "a. A tree has a root node, from where the tree starts and which represents the tree.\n",
    "\n",
    "b. The other nodes are formed by descending to the root.\n",
    "\n",
    "c. For a node, the preceding node is called the parent and succeeding node is called the child.\n",
    "\n",
    "d. tree can have multiple levels, with each level representing the nodes in that depth/ height."
   ]
  },
  {
   "cell_type": "markdown",
   "id": "77dd5a82-be1a-4528-b4f2-8cdb6ce77867",
   "metadata": {},
   "source": [
    "![title](photos/Tree.webp)"
   ]
  },
  {
   "cell_type": "markdown",
   "id": "76dfb8e2-610a-48bd-aef8-961e00a7fb2c",
   "metadata": {},
   "source": [
    "e. The nodes at the last level are called leaves and they do not have any children.\n",
    "\n",
    "f. Applications of trees include maintaining tags in HTML pages, implementing priority, etc.\n",
    "\n",
    "g. There are many types of trees. One of the frequently used ones is the Binary tree, where the maximum number of childs is two. A subclass of this tree is the binary search tree which is used to search the closet item in the real world.\n",
    "\n",
    "h. Another type of tree is the heap where the tree is built by following either of these conditions, parent nodes are either strictly greater than/ equal to or strictly less than their childs.\n",
    "\n",
    "### 6. Graph in Python\n",
    "These are also non linear data structures that store nodes and edges connecting the nodes.\n",
    "\n",
    "a. These have the different nodes connecting to the other nodes, representing a real word map like structure.\n",
    "\n",
    "b. It is used in applications like google maps to find the least distance between two places, finding friends in social media apps, etc."
   ]
  },
  {
   "cell_type": "markdown",
   "id": "ebfe8079-44b7-4931-9ac4-0ca82d6b0d7f",
   "metadata": {},
   "source": [
    "![title](photos/Graph.webp)"
   ]
  },
  {
   "cell_type": "markdown",
   "id": "f5453c6b-8651-4668-96b4-66a22d80adb4",
   "metadata": {},
   "source": [
    "### 7. HashMaps in Python\n",
    "Hashmaps are the data structures similar to the dictionaries in Python.\n",
    "\n",
    "a. The only difference is that it maps the keys to the values by taking the hash value of that key.\n",
    "\n",
    "b. These are used to build phone books, store user data in web applications, and so on."
   ]
  },
  {
   "cell_type": "markdown",
   "id": "8df2d7a5-365b-4da5-a661-06516e6eb2f1",
   "metadata": {},
   "source": [
    "![title](photos/HashMaps.webp)"
   ]
  },
  {
   "cell_type": "code",
   "execution_count": null,
   "id": "addac394-0365-40cf-acaf-6f73163cd6af",
   "metadata": {},
   "outputs": [],
   "source": []
  }
 ],
 "metadata": {
  "kernelspec": {
   "display_name": "Python 3 (ipykernel)",
   "language": "python",
   "name": "python3"
  },
  "language_info": {
   "codemirror_mode": {
    "name": "ipython",
    "version": 3
   },
   "file_extension": ".py",
   "mimetype": "text/x-python",
   "name": "python",
   "nbconvert_exporter": "python",
   "pygments_lexer": "ipython3",
   "version": "3.9.13"
  }
 },
 "nbformat": 4,
 "nbformat_minor": 5
}
