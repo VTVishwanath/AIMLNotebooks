{
 "cells": [
  {
   "cell_type": "markdown",
   "id": "62e349a0",
   "metadata": {},
   "source": [
    "# Statistics"
   ]
  },
  {
   "cell_type": "markdown",
   "id": "badfbbe5",
   "metadata": {},
   "source": [
    "### Importing the libraries"
   ]
  },
  {
   "cell_type": "code",
   "execution_count": 19,
   "id": "44c6525a",
   "metadata": {},
   "outputs": [],
   "source": [
    "from statistics import mode,median,mean\n",
    "import numpy as np\n",
    "import pandas as pd\n",
    "import math"
   ]
  },
  {
   "cell_type": "markdown",
   "id": "b0dbb10a",
   "metadata": {},
   "source": [
    "### Creating a list"
   ]
  },
  {
   "cell_type": "code",
   "execution_count": 20,
   "id": "ec523126",
   "metadata": {},
   "outputs": [],
   "source": [
    "mylist=[25,15,32,68,136,8,12,25,32,32]\n",
    "nparray = np.array(mylist)\n",
    "mySeries = pd.Series(mylist)"
   ]
  },
  {
   "cell_type": "markdown",
   "id": "64e1d49d",
   "metadata": {},
   "source": [
    "### Finding the min values from the list"
   ]
  },
  {
   "cell_type": "code",
   "execution_count": 21,
   "id": "c6ecfdfd",
   "metadata": {},
   "outputs": [
    {
     "name": "stdout",
     "output_type": "stream",
     "text": [
      "Minimum value of mylist is:  8\n"
     ]
    }
   ],
   "source": [
    "print('Minimum value of mylist is: ',min(mylist))"
   ]
  },
  {
   "cell_type": "code",
   "execution_count": 22,
   "id": "41abf082",
   "metadata": {},
   "outputs": [
    {
     "data": {
      "text/plain": [
       "8"
      ]
     },
     "execution_count": 22,
     "metadata": {},
     "output_type": "execute_result"
    }
   ],
   "source": [
    "mySeries.min()"
   ]
  },
  {
   "cell_type": "markdown",
   "id": "dcfa5870",
   "metadata": {},
   "source": [
    "### Finding the max values from the list"
   ]
  },
  {
   "cell_type": "code",
   "execution_count": 23,
   "id": "ca4a7289",
   "metadata": {},
   "outputs": [
    {
     "name": "stdout",
     "output_type": "stream",
     "text": [
      "Maximum value of mylist is:  136\n"
     ]
    }
   ],
   "source": [
    "print('Maximum value of mylist is: ',max(mylist))"
   ]
  },
  {
   "cell_type": "code",
   "execution_count": 24,
   "id": "cdc96846",
   "metadata": {},
   "outputs": [
    {
     "data": {
      "text/plain": [
       "136"
      ]
     },
     "execution_count": 24,
     "metadata": {},
     "output_type": "execute_result"
    }
   ],
   "source": [
    "mySeries.max()"
   ]
  },
  {
   "cell_type": "markdown",
   "id": "d6c47b50",
   "metadata": {},
   "source": [
    "### Finding the mean values from the list"
   ]
  },
  {
   "cell_type": "code",
   "execution_count": 25,
   "id": "3ca9f60c",
   "metadata": {},
   "outputs": [
    {
     "name": "stdout",
     "output_type": "stream",
     "text": [
      "Mean value of mylist is:  38.5\n"
     ]
    }
   ],
   "source": [
    "print('Mean value of mylist is: ',round(mean(mylist),2))"
   ]
  },
  {
   "cell_type": "code",
   "execution_count": 26,
   "id": "9862c174",
   "metadata": {},
   "outputs": [
    {
     "data": {
      "text/plain": [
       "38.5"
      ]
     },
     "execution_count": 26,
     "metadata": {},
     "output_type": "execute_result"
    }
   ],
   "source": [
    "mySeries.mean()"
   ]
  },
  {
   "cell_type": "markdown",
   "id": "5147af56",
   "metadata": {},
   "source": [
    "### Finding the median values from the list"
   ]
  },
  {
   "cell_type": "code",
   "execution_count": 27,
   "id": "f5ee4505",
   "metadata": {},
   "outputs": [
    {
     "name": "stdout",
     "output_type": "stream",
     "text": [
      "Median value of mylist is:  28.5\n"
     ]
    }
   ],
   "source": [
    "print('Median value of mylist is: ',round(median(mylist),2))"
   ]
  },
  {
   "cell_type": "code",
   "execution_count": 28,
   "id": "1459352e",
   "metadata": {},
   "outputs": [
    {
     "data": {
      "text/plain": [
       "28.5"
      ]
     },
     "execution_count": 28,
     "metadata": {},
     "output_type": "execute_result"
    }
   ],
   "source": [
    "mySeries.median()"
   ]
  },
  {
   "cell_type": "markdown",
   "id": "d4502f96",
   "metadata": {},
   "source": [
    "### Finding the mode values from the list"
   ]
  },
  {
   "cell_type": "code",
   "execution_count": 29,
   "id": "497727b8",
   "metadata": {
    "scrolled": true
   },
   "outputs": [
    {
     "name": "stdout",
     "output_type": "stream",
     "text": [
      "Mode value of mylist is:  32\n"
     ]
    }
   ],
   "source": [
    "print('Mode value of mylist is: ',round(mode(mylist),2))"
   ]
  },
  {
   "cell_type": "code",
   "execution_count": 30,
   "id": "b4e36192",
   "metadata": {},
   "outputs": [
    {
     "data": {
      "text/plain": [
       "0    32\n",
       "dtype: int64"
      ]
     },
     "execution_count": 30,
     "metadata": {},
     "output_type": "execute_result"
    }
   ],
   "source": [
    "mySeries.mode()"
   ]
  },
  {
   "cell_type": "markdown",
   "id": "b0334845",
   "metadata": {},
   "source": [
    "### Finding the Standard Deviation values from the list"
   ]
  },
  {
   "cell_type": "code",
   "execution_count": 31,
   "id": "e4f267c4",
   "metadata": {},
   "outputs": [
    {
     "name": "stdout",
     "output_type": "stream",
     "text": [
      "Standard Deviation value of mylist is:  36.13\n"
     ]
    }
   ],
   "source": [
    "print('Standard Deviation value of mylist is: ',round(nparray.std(),2))"
   ]
  },
  {
   "cell_type": "code",
   "execution_count": 32,
   "id": "0ab8524c",
   "metadata": {},
   "outputs": [
    {
     "data": {
      "text/plain": [
       "38.08251275556509"
      ]
     },
     "execution_count": 32,
     "metadata": {},
     "output_type": "execute_result"
    }
   ],
   "source": [
    "mySeries.std()"
   ]
  },
  {
   "cell_type": "markdown",
   "id": "6175470d",
   "metadata": {},
   "source": [
    "### Finding the Variance values from the list"
   ]
  },
  {
   "cell_type": "code",
   "execution_count": 33,
   "id": "5baf25a7",
   "metadata": {},
   "outputs": [
    {
     "name": "stdout",
     "output_type": "stream",
     "text": [
      "Variance value of mylist is:  1305.25\n"
     ]
    }
   ],
   "source": [
    "print('Variance value of mylist is: ',round(nparray.var(),2))"
   ]
  },
  {
   "cell_type": "code",
   "execution_count": 34,
   "id": "f91651f6",
   "metadata": {},
   "outputs": [
    {
     "data": {
      "text/plain": [
       "1450.2777777777778"
      ]
     },
     "execution_count": 34,
     "metadata": {},
     "output_type": "execute_result"
    }
   ],
   "source": [
    "mySeries.var()"
   ]
  },
  {
   "cell_type": "code",
   "execution_count": 35,
   "id": "b4268eb6",
   "metadata": {},
   "outputs": [
    {
     "data": {
      "text/plain": [
       "36.13"
      ]
     },
     "execution_count": 35,
     "metadata": {},
     "output_type": "execute_result"
    }
   ],
   "source": [
    "round(math.sqrt(nparray.var()),2)"
   ]
  },
  {
   "cell_type": "code",
   "execution_count": 36,
   "id": "528a7694",
   "metadata": {},
   "outputs": [
    {
     "data": {
      "text/plain": [
       "count     10.000000\n",
       "mean      38.500000\n",
       "std       38.082513\n",
       "min        8.000000\n",
       "25%       17.500000\n",
       "50%       28.500000\n",
       "75%       32.000000\n",
       "max      136.000000\n",
       "dtype: float64"
      ]
     },
     "execution_count": 36,
     "metadata": {},
     "output_type": "execute_result"
    }
   ],
   "source": [
    "mySeries.describe()"
   ]
  },
  {
   "cell_type": "markdown",
   "id": "61445bcd",
   "metadata": {},
   "source": [
    "# Correlation Of data"
   ]
  },
  {
   "cell_type": "markdown",
   "id": "910e14f3",
   "metadata": {},
   "source": [
    "X = [2, 6, 8, 12, 16, 20]\n",
    "Y = [5, 10,15, 25, 30, 35]"
   ]
  },
  {
   "cell_type": "code",
   "execution_count": 56,
   "id": "fba6c11e",
   "metadata": {},
   "outputs": [],
   "source": [
    "X = [-2, -5, -9, -8, -10, -12, -15, -20, -26, -33]\n",
    "Y = [3, 9, 6, 15, 12, 18, 22, 27, 32, 37]"
   ]
  },
  {
   "cell_type": "code",
   "execution_count": 57,
   "id": "275411f1",
   "metadata": {},
   "outputs": [],
   "source": [
    "Mydictionary = {'X': X, 'Y': Y}"
   ]
  },
  {
   "cell_type": "code",
   "execution_count": 58,
   "id": "338efb19",
   "metadata": {},
   "outputs": [],
   "source": [
    "df = pd.DataFrame(Mydictionary,columns=['X','Y'])"
   ]
  },
  {
   "cell_type": "code",
   "execution_count": 59,
   "id": "b0baf428",
   "metadata": {},
   "outputs": [
    {
     "data": {
      "text/html": [
       "<div>\n",
       "<style scoped>\n",
       "    .dataframe tbody tr th:only-of-type {\n",
       "        vertical-align: middle;\n",
       "    }\n",
       "\n",
       "    .dataframe tbody tr th {\n",
       "        vertical-align: top;\n",
       "    }\n",
       "\n",
       "    .dataframe thead th {\n",
       "        text-align: right;\n",
       "    }\n",
       "</style>\n",
       "<table border=\"1\" class=\"dataframe\">\n",
       "  <thead>\n",
       "    <tr style=\"text-align: right;\">\n",
       "      <th></th>\n",
       "      <th>X</th>\n",
       "      <th>Y</th>\n",
       "    </tr>\n",
       "  </thead>\n",
       "  <tbody>\n",
       "    <tr>\n",
       "      <th>0</th>\n",
       "      <td>-2</td>\n",
       "      <td>3</td>\n",
       "    </tr>\n",
       "    <tr>\n",
       "      <th>1</th>\n",
       "      <td>-5</td>\n",
       "      <td>9</td>\n",
       "    </tr>\n",
       "    <tr>\n",
       "      <th>2</th>\n",
       "      <td>-9</td>\n",
       "      <td>6</td>\n",
       "    </tr>\n",
       "    <tr>\n",
       "      <th>3</th>\n",
       "      <td>-8</td>\n",
       "      <td>15</td>\n",
       "    </tr>\n",
       "    <tr>\n",
       "      <th>4</th>\n",
       "      <td>-10</td>\n",
       "      <td>12</td>\n",
       "    </tr>\n",
       "    <tr>\n",
       "      <th>5</th>\n",
       "      <td>-12</td>\n",
       "      <td>18</td>\n",
       "    </tr>\n",
       "    <tr>\n",
       "      <th>6</th>\n",
       "      <td>-15</td>\n",
       "      <td>22</td>\n",
       "    </tr>\n",
       "    <tr>\n",
       "      <th>7</th>\n",
       "      <td>-20</td>\n",
       "      <td>27</td>\n",
       "    </tr>\n",
       "    <tr>\n",
       "      <th>8</th>\n",
       "      <td>-26</td>\n",
       "      <td>32</td>\n",
       "    </tr>\n",
       "    <tr>\n",
       "      <th>9</th>\n",
       "      <td>-33</td>\n",
       "      <td>37</td>\n",
       "    </tr>\n",
       "  </tbody>\n",
       "</table>\n",
       "</div>"
      ],
      "text/plain": [
       "    X   Y\n",
       "0  -2   3\n",
       "1  -5   9\n",
       "2  -9   6\n",
       "3  -8  15\n",
       "4 -10  12\n",
       "5 -12  18\n",
       "6 -15  22\n",
       "7 -20  27\n",
       "8 -26  32\n",
       "9 -33  37"
      ]
     },
     "execution_count": 59,
     "metadata": {},
     "output_type": "execute_result"
    }
   ],
   "source": [
    "df"
   ]
  },
  {
   "cell_type": "code",
   "execution_count": 60,
   "id": "cb8795bd",
   "metadata": {},
   "outputs": [
    {
     "data": {
      "text/html": [
       "<div>\n",
       "<style scoped>\n",
       "    .dataframe tbody tr th:only-of-type {\n",
       "        vertical-align: middle;\n",
       "    }\n",
       "\n",
       "    .dataframe tbody tr th {\n",
       "        vertical-align: top;\n",
       "    }\n",
       "\n",
       "    .dataframe thead th {\n",
       "        text-align: right;\n",
       "    }\n",
       "</style>\n",
       "<table border=\"1\" class=\"dataframe\">\n",
       "  <thead>\n",
       "    <tr style=\"text-align: right;\">\n",
       "      <th></th>\n",
       "      <th>X</th>\n",
       "      <th>Y</th>\n",
       "    </tr>\n",
       "  </thead>\n",
       "  <tbody>\n",
       "    <tr>\n",
       "      <th>X</th>\n",
       "      <td>1.000000</td>\n",
       "      <td>-0.962464</td>\n",
       "    </tr>\n",
       "    <tr>\n",
       "      <th>Y</th>\n",
       "      <td>-0.962464</td>\n",
       "      <td>1.000000</td>\n",
       "    </tr>\n",
       "  </tbody>\n",
       "</table>\n",
       "</div>"
      ],
      "text/plain": [
       "          X         Y\n",
       "X  1.000000 -0.962464\n",
       "Y -0.962464  1.000000"
      ]
     },
     "execution_count": 60,
     "metadata": {},
     "output_type": "execute_result"
    }
   ],
   "source": [
    "df.corr()"
   ]
  },
  {
   "cell_type": "code",
   "execution_count": 61,
   "id": "86430506",
   "metadata": {},
   "outputs": [],
   "source": [
    "import seaborn as sns\n",
    "from matplotlib import pyplot as plt"
   ]
  },
  {
   "cell_type": "code",
   "execution_count": 62,
   "id": "2101e000",
   "metadata": {},
   "outputs": [
    {
     "data": {
      "text/plain": [
       "[<matplotlib.lines.Line2D at 0x1f2c04f3f70>]"
      ]
     },
     "execution_count": 62,
     "metadata": {},
     "output_type": "execute_result"
    },
    {
     "data": {
      "image/png": "[encoded data removed]",
      "text/plain": [
       "<Figure size 640x480 with 1 Axes>"
      ]
     },
     "metadata": {},
     "output_type": "display_data"
    }
   ],
   "source": [
    "plt.plot(X,Y)"
   ]
  },
  {
   "cell_type": "code",
   "execution_count": 63,
   "id": "f9dfb1d4",
   "metadata": {},
   "outputs": [
    {
     "data": {
      "text/plain": [
       "<matplotlib.collections.PathCollection at 0x1f2c05a4310>"
      ]
     },
     "execution_count": 63,
     "metadata": {},
     "output_type": "execute_result"
    },
    {
     "data": {
      "image/png": "[encoded data removed]",
      "text/plain": [
       "<Figure size 640x480 with 1 Axes>"
      ]
     },
     "metadata": {},
     "output_type": "display_data"
    }
   ],
   "source": [
    "plt.scatter(X,Y)"
   ]
  },
  {
   "cell_type": "code",
   "execution_count": 90,
   "id": "2ab891e9",
   "metadata": {},
   "outputs": [
    {
     "data": {
      "text/plain": [
       "<AxesSubplot:>"
      ]
     },
     "execution_count": 90,
     "metadata": {},
     "output_type": "execute_result"
    },
    {
     "data": {
      "image/png": "[encoded data removed]",
      "text/plain": [
       "<Figure size 640x480 with 1 Axes>"
      ]
     },
     "metadata": {},
     "output_type": "display_data"
    }
   ],
   "source": [
    "sns.regplot(x=X,y=Y,scatter=True,fit_reg=True,)"
   ]
  },
  {
   "cell_type": "markdown",
   "id": "5a8656b9",
   "metadata": {},
   "source": [
    "### Linear Regression"
   ]
  },
  {
   "cell_type": "code",
   "execution_count": 76,
   "id": "3b7bc05f",
   "metadata": {},
   "outputs": [
    {
     "data": {
      "text/html": [
       "<div>\n",
       "<style scoped>\n",
       "    .dataframe tbody tr th:only-of-type {\n",
       "        vertical-align: middle;\n",
       "    }\n",
       "\n",
       "    .dataframe tbody tr th {\n",
       "        vertical-align: top;\n",
       "    }\n",
       "\n",
       "    .dataframe thead th {\n",
       "        text-align: right;\n",
       "    }\n",
       "</style>\n",
       "<table border=\"1\" class=\"dataframe\">\n",
       "  <thead>\n",
       "    <tr style=\"text-align: right;\">\n",
       "      <th></th>\n",
       "      <th>X</th>\n",
       "      <th>Y</th>\n",
       "    </tr>\n",
       "  </thead>\n",
       "  <tbody>\n",
       "    <tr>\n",
       "      <th>5</th>\n",
       "      <td>-12</td>\n",
       "      <td>18</td>\n",
       "    </tr>\n",
       "    <tr>\n",
       "      <th>6</th>\n",
       "      <td>-15</td>\n",
       "      <td>22</td>\n",
       "    </tr>\n",
       "    <tr>\n",
       "      <th>7</th>\n",
       "      <td>-20</td>\n",
       "      <td>27</td>\n",
       "    </tr>\n",
       "    <tr>\n",
       "      <th>8</th>\n",
       "      <td>-26</td>\n",
       "      <td>32</td>\n",
       "    </tr>\n",
       "    <tr>\n",
       "      <th>9</th>\n",
       "      <td>-33</td>\n",
       "      <td>37</td>\n",
       "    </tr>\n",
       "  </tbody>\n",
       "</table>\n",
       "</div>"
      ],
      "text/plain": [
       "    X   Y\n",
       "5 -12  18\n",
       "6 -15  22\n",
       "7 -20  27\n",
       "8 -26  32\n",
       "9 -33  37"
      ]
     },
     "execution_count": 76,
     "metadata": {},
     "output_type": "execute_result"
    }
   ],
   "source": [
    "df.tail()"
   ]
  },
  {
   "cell_type": "code",
   "execution_count": 66,
   "id": "92d43b4b",
   "metadata": {},
   "outputs": [],
   "source": [
    "from sklearn.linear_model import LinearRegression"
   ]
  },
  {
   "cell_type": "code",
   "execution_count": 67,
   "id": "cf1b7910",
   "metadata": {},
   "outputs": [],
   "source": [
    "lm = LinearRegression()"
   ]
  },
  {
   "cell_type": "code",
   "execution_count": 71,
   "id": "e5f07261",
   "metadata": {},
   "outputs": [],
   "source": [
    "X = np.array(X).reshape(-1, 1)"
   ]
  },
  {
   "cell_type": "code",
   "execution_count": 78,
   "id": "db505389",
   "metadata": {},
   "outputs": [
    {
     "data": {
      "text/plain": [
       "array([[ -2],\n",
       "       [ -5],\n",
       "       [ -9],\n",
       "       [ -8],\n",
       "       [-10],\n",
       "       [-12],\n",
       "       [-15],\n",
       "       [-20],\n",
       "       [-26],\n",
       "       [-33]])"
      ]
     },
     "execution_count": 78,
     "metadata": {},
     "output_type": "execute_result"
    }
   ],
   "source": [
    "X"
   ]
  },
  {
   "cell_type": "code",
   "execution_count": 72,
   "id": "97436bbb",
   "metadata": {},
   "outputs": [
    {
     "data": {
      "text/plain": [
       "LinearRegression()"
      ]
     },
     "execution_count": 72,
     "metadata": {},
     "output_type": "execute_result"
    }
   ],
   "source": [
    "lm.fit(X,Y)"
   ]
  },
  {
   "cell_type": "markdown",
   "id": "e0c452c5",
   "metadata": {},
   "source": [
    "#### Slope or Coeficient"
   ]
  },
  {
   "cell_type": "code",
   "execution_count": 73,
   "id": "7423f307",
   "metadata": {},
   "outputs": [
    {
     "data": {
      "text/plain": [
       "array([-1.12028302])"
      ]
     },
     "execution_count": 73,
     "metadata": {},
     "output_type": "execute_result"
    }
   ],
   "source": [
    "lm.coef_"
   ]
  },
  {
   "cell_type": "markdown",
   "id": "a1b87390",
   "metadata": {},
   "source": [
    "#### Y-Intercept or intercept or constant"
   ]
  },
  {
   "cell_type": "code",
   "execution_count": 75,
   "id": "74947eb8",
   "metadata": {},
   "outputs": [
    {
     "data": {
      "text/plain": [
       "2.4160377358490592"
      ]
     },
     "execution_count": 75,
     "metadata": {},
     "output_type": "execute_result"
    }
   ],
   "source": [
    "lm.intercept_"
   ]
  },
  {
   "cell_type": "markdown",
   "id": "e0880379",
   "metadata": {},
   "source": [
    "#### Lets rewrite our Y= mx + c"
   ]
  },
  {
   "cell_type": "markdown",
   "id": "4e52e448",
   "metadata": {},
   "source": [
    "#### Y = -1.12 * x + 2.42"
   ]
  },
  {
   "cell_type": "markdown",
   "id": "e4a65167",
   "metadata": {},
   "source": [
    "When X = -40 what will be the Y value?"
   ]
  },
  {
   "cell_type": "markdown",
   "id": "cf796eda",
   "metadata": {},
   "source": [
    "#### Y = -1.12 * (-40) + 2.42 = 47.22"
   ]
  },
  {
   "cell_type": "code",
   "execution_count": 82,
   "id": "c8a86b75",
   "metadata": {},
   "outputs": [
    {
     "data": {
      "text/plain": [
       "array([47.22735849])"
      ]
     },
     "execution_count": 82,
     "metadata": {},
     "output_type": "execute_result"
    }
   ],
   "source": [
    "lm.predict([[-40],])"
   ]
  },
  {
   "cell_type": "code",
   "execution_count": 83,
   "id": "8ce68871",
   "metadata": {},
   "outputs": [
    {
     "data": {
      "text/plain": [
       "47.23"
      ]
     },
     "execution_count": 83,
     "metadata": {},
     "output_type": "execute_result"
    }
   ],
   "source": [
    "round(lm.predict([[-40],])[0],2)"
   ]
  },
  {
   "cell_type": "code",
   "execution_count": 84,
   "id": "956408ea",
   "metadata": {},
   "outputs": [
    {
     "name": "stderr",
     "output_type": "stream",
     "text": [
      "C:\\Users\\TechieVISH\\anaconda3\\lib\\site-packages\\seaborn\\_decorators.py:36: FutureWarning: Pass the following variables as keyword args: x, y. From version 0.12, the only valid positional argument will be `data`, and passing other arguments without an explicit keyword will result in an error or misinterpretation.\n",
      "  warnings.warn(\n"
     ]
    },
    {
     "data": {
      "text/plain": [
       "<AxesSubplot:>"
      ]
     },
     "execution_count": 84,
     "metadata": {},
     "output_type": "execute_result"
    },
    {
     "data": {
      "image/png": "[encoded data removed]",
      "text/plain": [
       "<Figure size 640x480 with 1 Axes>"
      ]
     },
     "metadata": {},
     "output_type": "display_data"
    }
   ],
   "source": [
    "sns.regplot(X,Y)"
   ]
  },
  {
   "cell_type": "code",
   "execution_count": null,
   "id": "ceab2953",
   "metadata": {},
   "outputs": [],
   "source": []
  }
 ],
 "metadata": {
  "kernelspec": {
   "display_name": "Python 3 (ipykernel)",
   "language": "python",
   "name": "python3"
  },
  "language_info": {
   "codemirror_mode": {
    "name": "ipython",
    "version": 3
   },
   "file_extension": ".py",
   "mimetype": "text/x-python",
   "name": "python",
   "nbconvert_exporter": "python",
   "pygments_lexer": "ipython3",
   "version": "3.9.13"
  }
 },
 "nbformat": 4,
 "nbformat_minor": 5
}
