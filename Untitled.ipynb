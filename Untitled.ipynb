{
 "cells": [
  {
   "cell_type": "markdown",
   "id": "d4c8248a",
   "metadata": {},
   "source": [
    "Given a number N which denotes the number of rows, the task is to follow the below pattern to print the first N rows of it.\n",
    "\n",
    "Pattern:\n",
    "\n",
    "*\n",
    "\n",
    "*#\n",
    "\n",
    "*#*\n",
    "\n",
    "*#*#\n",
    "\n",
    "*#*#*\n",
    "\n",
    "Examples:\n",
    "\n",
    "Input: N = 2\n",
    "Output:\n",
    "*\n",
    "\n",
    "*#\n",
    "\n",
    "Input: N = 6\n",
    "Output: \n",
    "*\n",
    "\n",
    "*#\n",
    "\n",
    "*#*\n",
    "\n",
    "*#*#\n",
    "\n",
    "*#*#*\n",
    "\n",
    "*#*#*#"
   ]
  },
  {
   "cell_type": "code",
   "execution_count": 6,
   "id": "9ff2a5c0",
   "metadata": {},
   "outputs": [
    {
     "name": "stdout",
     "output_type": "stream",
     "text": [
      "Enter a positive integer which is less than or equal to 1003\n",
      "You have entered:  3\n",
      "Below is the patter you have requested.\n",
      "*\n",
      "*\n",
      "*\n"
     ]
    }
   ],
   "source": [
    "def print_pattern(val):\n",
    "    ct = 1\n",
    "    y = 1\n",
    "    while ct <= val:\n",
    "        while y<=ct:\n",
    "            print('*')\n",
    "            y +=1\n",
    "        ct += 1\n",
    "            \n",
    "\n",
    "x = int(input(\"Enter a positive integer which is less than or equal to 100\"))\n",
    "if (x > 0 & x <= 100):\n",
    "    print(\"You have entered: \",x)\n",
    "    print(\"Below is the patter you have requested.\")\n",
    "    print_pattern(x)\n",
    "else:\n",
    "    print(\"Enter a valid Number and try again\")\n",
    "    \n"
   ]
  },
  {
   "cell_type": "code",
   "execution_count": null,
   "id": "bb7f22cb",
   "metadata": {},
   "outputs": [],
   "source": []
  }
 ],
 "metadata": {
  "kernelspec": {
   "display_name": "Python 3 (ipykernel)",
   "language": "python",
   "name": "python3"
  },
  "language_info": {
   "codemirror_mode": {
    "name": "ipython",
    "version": 3
   },
   "file_extension": ".py",
   "mimetype": "text/x-python",
   "name": "python",
   "nbconvert_exporter": "python",
   "pygments_lexer": "ipython3",
   "version": "3.9.13"
  }
 },
 "nbformat": 4,
 "nbformat_minor": 5
}
