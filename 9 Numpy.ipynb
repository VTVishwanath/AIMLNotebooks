{
 "cells": [
  {
   "cell_type": "code",
   "execution_count": 1,
   "id": "0a0d51e1-b29d-4129-b6dc-910abd635e6d",
   "metadata": {},
   "outputs": [],
   "source": [
    "# Importing numpy\n",
    "import numpy as np"
   ]
  },
  {
   "cell_type": "code",
   "execution_count": 2,
   "id": "1eb28d37-d584-4bc8-a1ca-ed5017182e21",
   "metadata": {},
   "outputs": [
    {
     "data": {
      "text/plain": [
       "array([1, 2, 3])"
      ]
     },
     "execution_count": 2,
     "metadata": {},
     "output_type": "execute_result"
    }
   ],
   "source": [
    "# creating a list\n",
    "simple_list = [1,2,3]\n",
    "\n",
    "# Converting it to numpy array\n",
    "np.array(simple_list)"
   ]
  },
  {
   "cell_type": "code",
   "execution_count": 3,
   "id": "6642e74c-26cb-4959-8f86-59c9498304a5",
   "metadata": {},
   "outputs": [
    {
     "data": {
      "text/plain": [
       "array([[1, 2, 3],\n",
       "       [4, 5, 6],\n",
       "       [7, 8, 9]])"
      ]
     },
     "execution_count": 3,
     "metadata": {},
     "output_type": "execute_result"
    }
   ],
   "source": [
    "# creating a list of list\n",
    "list_of_list = [[1,2,3],[4,5,6],[7,8,9]]\n",
    "\n",
    "# Converting it to numpy array\n",
    "np.array(list_of_list)"
   ]
  },
  {
   "cell_type": "code",
   "execution_count": 4,
   "id": "fb5e92b5-eb2f-4b56-bc7c-abbe4838b0bc",
   "metadata": {},
   "outputs": [
    {
     "data": {
      "text/plain": [
       "array([0, 1, 2, 3, 4, 5, 6, 7, 8, 9])"
      ]
     },
     "execution_count": 4,
     "metadata": {},
     "output_type": "execute_result"
    }
   ],
   "source": [
    "# arange function createa range of value from start and upper limit. Ending value is not inclusive\n",
    "np.arange(0,10)"
   ]
  },
  {
   "cell_type": "code",
   "execution_count": 6,
   "id": "a6fe4652-0d21-4a3f-905d-840a42529a84",
   "metadata": {},
   "outputs": [
    {
     "data": {
      "text/plain": [
       "array([ 0, 10, 20, 30, 40, 50])"
      ]
     },
     "execution_count": 6,
     "metadata": {},
     "output_type": "execute_result"
    }
   ],
   "source": [
    "# arrange can also have step value\n",
    "np.arange(0,51,10)"
   ]
  },
  {
   "cell_type": "code",
   "execution_count": 7,
   "id": "a9f5f0c5-4724-46fc-bd16-e521f4102195",
   "metadata": {},
   "outputs": [
    {
     "data": {
      "text/plain": [
       "array([0., 0., 0., 0., 0., 0., 0., 0., 0., 0.])"
      ]
     },
     "execution_count": 7,
     "metadata": {},
     "output_type": "execute_result"
    }
   ],
   "source": [
    "# create array of zeros\n",
    "np.zeros(10)"
   ]
  },
  {
   "cell_type": "code",
   "execution_count": 8,
   "id": "ea35b4e5-a53a-41e6-95c5-d33de24a3331",
   "metadata": {},
   "outputs": [
    {
     "data": {
      "text/plain": [
       "array([[0., 0., 0., 0.],\n",
       "       [0., 0., 0., 0.],\n",
       "       [0., 0., 0., 0.],\n",
       "       [0., 0., 0., 0.],\n",
       "       [0., 0., 0., 0.]])"
      ]
     },
     "execution_count": 8,
     "metadata": {},
     "output_type": "execute_result"
    }
   ],
   "source": [
    "# create matrix of zeros\n",
    "np.zeros((5,4))"
   ]
  },
  {
   "cell_type": "code",
   "execution_count": 9,
   "id": "df56c4ea-099d-4f2f-8324-8effa3b2be4b",
   "metadata": {},
   "outputs": [
    {
     "data": {
      "text/plain": [
       "array([1., 1., 1., 1., 1., 1., 1., 1., 1., 1.])"
      ]
     },
     "execution_count": 9,
     "metadata": {},
     "output_type": "execute_result"
    }
   ],
   "source": [
    "# create array of ones\n",
    "np.ones(10)"
   ]
  },
  {
   "cell_type": "code",
   "execution_count": 10,
   "id": "890875b6-8404-4981-b121-734f6f2d44f3",
   "metadata": {},
   "outputs": [
    {
     "data": {
      "text/plain": [
       "array([[1., 1., 1., 1., 1.],\n",
       "       [1., 1., 1., 1., 1.],\n",
       "       [1., 1., 1., 1., 1.],\n",
       "       [1., 1., 1., 1., 1.]])"
      ]
     },
     "execution_count": 10,
     "metadata": {},
     "output_type": "execute_result"
    }
   ],
   "source": [
    "# create matrix of ones\n",
    "np.ones((4,5))"
   ]
  },
  {
   "cell_type": "code",
   "execution_count": 12,
   "id": "012b59dd-13b5-450d-88fd-33a78d108991",
   "metadata": {},
   "outputs": [
    {
     "data": {
      "text/plain": [
       "array([  0.        ,  11.22222222,  22.44444444,  33.66666667,\n",
       "        44.88888889,  56.11111111,  67.33333333,  78.55555556,\n",
       "        89.77777778, 101.        ])"
      ]
     },
     "execution_count": 12,
     "metadata": {},
     "output_type": "execute_result"
    }
   ],
   "source": [
    "# create equaly spaced numbers from a given range\n",
    "np.linspace(0,101,10)"
   ]
  },
  {
   "cell_type": "code",
   "execution_count": 13,
   "id": "def3e27e-1822-49fa-94ba-b53ca44d25b5",
   "metadata": {},
   "outputs": [
    {
     "data": {
      "text/plain": [
       "array([[1., 0., 0., 0.],\n",
       "       [0., 1., 0., 0.],\n",
       "       [0., 0., 1., 0.],\n",
       "       [0., 0., 0., 1.]])"
      ]
     },
     "execution_count": 13,
     "metadata": {},
     "output_type": "execute_result"
    }
   ],
   "source": [
    "# Creating an identity matrix\n",
    "np.eye(4)"
   ]
  },
  {
   "cell_type": "code",
   "execution_count": 15,
   "id": "edc99310-6563-46fe-97e7-f5400492e6fb",
   "metadata": {},
   "outputs": [
    {
     "data": {
      "text/plain": [
       "array([[0.25562897, 0.14753152, 0.43949968],\n",
       "       [0.82981033, 0.42753993, 0.63958499],\n",
       "       [0.36901382, 0.48613294, 0.76075955]])"
      ]
     },
     "execution_count": 15,
     "metadata": {},
     "output_type": "execute_result"
    }
   ],
   "source": [
    "# creating a random value uniform distributed fro 0 to 1. 0 is inclusive while 1 is exclusibe\n",
    "np.random.rand(3,3)"
   ]
  },
  {
   "cell_type": "code",
   "execution_count": 16,
   "id": "9b69559a-05c7-4e9c-943b-3d6c5fd73001",
   "metadata": {},
   "outputs": [
    {
     "data": {
      "text/plain": [
       "array([[ 0.74400453,  0.62723752, -0.5038472 , -0.14051775, -1.39457273],\n",
       "       [ 0.36225609, -0.10157421,  1.82831217,  0.305442  , -0.96775227],\n",
       "       [-1.55736542,  0.0921666 ,  0.70356284, -1.38262566, -0.69781015]])"
      ]
     },
     "execution_count": 16,
     "metadata": {},
     "output_type": "execute_result"
    }
   ],
   "source": [
    "# randn uses normally distributed set of values\n",
    "np.random.randn(3,5)"
   ]
  },
  {
   "cell_type": "code",
   "execution_count": 17,
   "id": "d443ae4b-2058-4a51-b80f-1d007bb10568",
   "metadata": {},
   "outputs": [
    {
     "data": {
      "text/plain": [
       "7"
      ]
     },
     "execution_count": 17,
     "metadata": {},
     "output_type": "execute_result"
    }
   ],
   "source": [
    "# creating a random integer between low and high value 20 is exclusive\n",
    "np.random.randint(5,20)"
   ]
  },
  {
   "cell_type": "code",
   "execution_count": 18,
   "id": "dd15a8b1-e303-4528-b73c-4598910988bf",
   "metadata": {},
   "outputs": [
    {
     "data": {
      "text/plain": [
       "array([24, 24, 19, 29, 12, 19,  5,  5,  9, 16, 29, 14, 28, 26, 27, 28,  9,\n",
       "       17, 11, 18, 24, 29,  6, 23, 15, 11, 28, 29, 17, 11, 25, 22, 12, 28,\n",
       "       17,  7, 20,  7, 29, 14, 10, 24, 28,  6, 20, 20, 26, 27, 20,  8])"
      ]
     },
     "execution_count": 18,
     "metadata": {},
     "output_type": "execute_result"
    }
   ],
   "source": [
    "# creating a random integer between low and high value 20 is exclusive\n",
    "# and also mentioning no of values to be generated\n",
    "np.random.randint(5,30,50)"
   ]
  },
  {
   "cell_type": "code",
   "execution_count": 19,
   "id": "038a77dd-d27d-4d96-b1e8-d6eafecdb6c3",
   "metadata": {},
   "outputs": [],
   "source": [
    "# Creating a sample and random array and reshape the array"
   ]
  },
  {
   "cell_type": "code",
   "execution_count": 20,
   "id": "08e60512-6202-4925-931c-4f430eff35d7",
   "metadata": {},
   "outputs": [
    {
     "data": {
      "text/plain": [
       "array([158,  67,   3,  65, 124, 115,  61,  38,  70,  72, 175,  18, 198,\n",
       "       197,  97,  62,  54,  91,  27,  50])"
      ]
     },
     "execution_count": 20,
     "metadata": {},
     "output_type": "execute_result"
    }
   ],
   "source": [
    "rand_array = np.random.randint(0,200,20)\n",
    "rand_array"
   ]
  },
  {
   "cell_type": "code",
   "execution_count": 21,
   "id": "0a02ec78-97a3-4086-aec6-58373afc5edf",
   "metadata": {},
   "outputs": [
    {
     "data": {
      "text/plain": [
       "array([ 0,  1,  2,  3,  4,  5,  6,  7,  8,  9, 10, 11, 12, 13, 14, 15, 16,\n",
       "       17, 18, 19, 20, 21, 22, 23, 24, 25, 26, 27, 28, 29])"
      ]
     },
     "execution_count": 21,
     "metadata": {},
     "output_type": "execute_result"
    }
   ],
   "source": [
    "sample_array = np.arange(30)\n",
    "sample_array"
   ]
  },
  {
   "cell_type": "code",
   "execution_count": 22,
   "id": "89e1dca0-528a-463d-8c6e-19c931357c40",
   "metadata": {},
   "outputs": [
    {
     "data": {
      "text/plain": [
       "(30,)"
      ]
     },
     "execution_count": 22,
     "metadata": {},
     "output_type": "execute_result"
    }
   ],
   "source": [
    "sample_array.shape"
   ]
  },
  {
   "cell_type": "code",
   "execution_count": 24,
   "id": "f144d1e6-5f15-4e07-b861-7e9dd1ef530b",
   "metadata": {},
   "outputs": [
    {
     "data": {
      "text/plain": [
       "array([[ 0,  1,  2,  3,  4,  5,  6,  7,  8,  9],\n",
       "       [10, 11, 12, 13, 14, 15, 16, 17, 18, 19],\n",
       "       [20, 21, 22, 23, 24, 25, 26, 27, 28, 29]])"
      ]
     },
     "execution_count": 24,
     "metadata": {},
     "output_type": "execute_result"
    }
   ],
   "source": [
    " sample_array.reshape(3,10)"
   ]
  },
  {
   "cell_type": "code",
   "execution_count": 27,
   "id": "7d443df9-a167-4a8c-91ac-42f0a414f12a",
   "metadata": {},
   "outputs": [],
   "source": [
    "sample_array1 = sample_array.reshape(3,10)"
   ]
  },
  {
   "cell_type": "code",
   "execution_count": 28,
   "id": "21e7ef2e-cdb6-42a1-a064-38f70b6e3f48",
   "metadata": {},
   "outputs": [
    {
     "data": {
      "text/plain": [
       "(3, 10)"
      ]
     },
     "execution_count": 28,
     "metadata": {},
     "output_type": "execute_result"
    }
   ],
   "source": [
    "sample_array1.shape"
   ]
  },
  {
   "cell_type": "code",
   "execution_count": 29,
   "id": "b3101aa8-75fd-405c-a1e0-81a26308afbc",
   "metadata": {},
   "outputs": [
    {
     "ename": "ValueError",
     "evalue": "cannot reshape array of size 30 into shape (5,7)",
     "output_type": "error",
     "traceback": [
      "\u001b[1;31m---------------------------------------------------------------------------\u001b[0m",
      "\u001b[1;31mValueError\u001b[0m                                Traceback (most recent call last)",
      "\u001b[1;32m~\\AppData\\Local\\Temp\\ipykernel_13468\\2137971012.py\u001b[0m in \u001b[0;36m<module>\u001b[1;34m\u001b[0m\n\u001b[1;32m----> 1\u001b[1;33m \u001b[0msample_array\u001b[0m\u001b[1;33m.\u001b[0m\u001b[0mreshape\u001b[0m\u001b[1;33m(\u001b[0m\u001b[1;36m5\u001b[0m\u001b[1;33m,\u001b[0m\u001b[1;36m7\u001b[0m\u001b[1;33m)\u001b[0m\u001b[1;33m\u001b[0m\u001b[1;33m\u001b[0m\u001b[0m\n\u001b[0m",
      "\u001b[1;31mValueError\u001b[0m: cannot reshape array of size 30 into shape (5,7)"
     ]
    }
   ],
   "source": [
    "sample_array.reshape(5,7)"
   ]
  },
  {
   "cell_type": "code",
   "execution_count": 30,
   "id": "263ee5a7-f6c7-403e-963d-eeb2debb7eaa",
   "metadata": {},
   "outputs": [
    {
     "data": {
      "text/plain": [
       "array([158,  67,   3,  65, 124, 115,  61,  38,  70,  72, 175,  18, 198,\n",
       "       197,  97,  62,  54,  91,  27,  50])"
      ]
     },
     "execution_count": 30,
     "metadata": {},
     "output_type": "execute_result"
    }
   ],
   "source": [
    "rand_array"
   ]
  },
  {
   "cell_type": "code",
   "execution_count": 31,
   "id": "2f899fed-cb76-45fa-8c6e-4829c3080c92",
   "metadata": {},
   "outputs": [
    {
     "data": {
      "text/plain": [
       "198"
      ]
     },
     "execution_count": 31,
     "metadata": {},
     "output_type": "execute_result"
    }
   ],
   "source": [
    "# find max, min, index of max or min\n",
    "rand_array.max()"
   ]
  },
  {
   "cell_type": "code",
   "execution_count": 32,
   "id": "fdd613ad-ed27-43b8-b6f8-7660cc8a8032",
   "metadata": {},
   "outputs": [
    {
     "data": {
      "text/plain": [
       "3"
      ]
     },
     "execution_count": 32,
     "metadata": {},
     "output_type": "execute_result"
    }
   ],
   "source": [
    "rand_array.min()"
   ]
  },
  {
   "cell_type": "code",
   "execution_count": 33,
   "id": "95f35bc5-9ba9-4db0-bd6f-50eada7a3dae",
   "metadata": {},
   "outputs": [
    {
     "data": {
      "text/plain": [
       "12"
      ]
     },
     "execution_count": 33,
     "metadata": {},
     "output_type": "execute_result"
    }
   ],
   "source": [
    "rand_array.argmax()"
   ]
  },
  {
   "cell_type": "code",
   "execution_count": 34,
   "id": "713e2e77-100a-4f74-b3a3-01a3e00e113d",
   "metadata": {},
   "outputs": [
    {
     "data": {
      "text/plain": [
       "2"
      ]
     },
     "execution_count": 34,
     "metadata": {},
     "output_type": "execute_result"
    }
   ],
   "source": [
    "rand_array.argmin()"
   ]
  },
  {
   "cell_type": "code",
   "execution_count": 35,
   "id": "b6092549-dccb-44c9-9b54-4fe83e50bee4",
   "metadata": {},
   "outputs": [
    {
     "data": {
      "text/plain": [
       "(20,)"
      ]
     },
     "execution_count": 35,
     "metadata": {},
     "output_type": "execute_result"
    }
   ],
   "source": [
    "# find the shape\n",
    "rand_array.shape"
   ]
  },
  {
   "cell_type": "code",
   "execution_count": 36,
   "id": "f6ce4466-ab8b-40a2-9aa2-8d652fad3ea4",
   "metadata": {},
   "outputs": [
    {
     "data": {
      "text/plain": [
       "dtype('int32')"
      ]
     },
     "execution_count": 36,
     "metadata": {},
     "output_type": "execute_result"
    }
   ],
   "source": [
    "# find the datatype\n",
    "rand_array.dtype"
   ]
  },
  {
   "cell_type": "code",
   "execution_count": 37,
   "id": "e30f34ae-e7b2-4d2c-bfd7-bf8638327d0e",
   "metadata": {},
   "outputs": [],
   "source": [
    "#to check function detals or help press Shift+Tab by hovering on function"
   ]
  },
  {
   "cell_type": "code",
   "execution_count": 38,
   "id": "85e5f61c-1956-46f2-8a84-a3e795b1be96",
   "metadata": {},
   "outputs": [
    {
     "data": {
      "text/plain": [
       "array([[158,  67,   3,  65],\n",
       "       [124, 115,  61,  38],\n",
       "       [ 70,  72, 175,  18],\n",
       "       [198, 197,  97,  62],\n",
       "       [ 54,  91,  27,  50]])"
      ]
     },
     "execution_count": 38,
     "metadata": {},
     "output_type": "execute_result"
    }
   ],
   "source": [
    "rand_array.reshape(5,4)"
   ]
  },
  {
   "cell_type": "code",
   "execution_count": 39,
   "id": "36aefba6-c719-422e-886e-8dbeaffd6993",
   "metadata": {},
   "outputs": [],
   "source": [
    "# Transposing a matrix"
   ]
  },
  {
   "cell_type": "code",
   "execution_count": 40,
   "id": "dac30de8-c18b-4d9a-a69f-09d98834de2b",
   "metadata": {},
   "outputs": [
    {
     "data": {
      "text/plain": [
       "array([[158, 124,  70, 198,  54],\n",
       "       [ 67, 115,  72, 197,  91],\n",
       "       [  3,  61, 175,  97,  27],\n",
       "       [ 65,  38,  18,  62,  50]])"
      ]
     },
     "execution_count": 40,
     "metadata": {},
     "output_type": "execute_result"
    }
   ],
   "source": [
    "rand_array.reshape(5,4).T"
   ]
  },
  {
   "cell_type": "code",
   "execution_count": 41,
   "id": "8c4d055b-ed71-45d5-bcef-9d5b4a395bdc",
   "metadata": {},
   "outputs": [],
   "source": [
    "# creating a sample array"
   ]
  },
  {
   "cell_type": "code",
   "execution_count": 42,
   "id": "e17ad73f-76b3-4160-826a-11e890482931",
   "metadata": {},
   "outputs": [],
   "source": [
    "sample_array = np.arange(10,21)"
   ]
  },
  {
   "cell_type": "code",
   "execution_count": 43,
   "id": "ca908713-c57f-4398-8e17-a413ab2e80a2",
   "metadata": {},
   "outputs": [
    {
     "data": {
      "text/plain": [
       "array([10, 11, 12, 13, 14, 15, 16, 17, 18, 19, 20])"
      ]
     },
     "execution_count": 43,
     "metadata": {},
     "output_type": "execute_result"
    }
   ],
   "source": [
    "sample_array"
   ]
  },
  {
   "cell_type": "code",
   "execution_count": 44,
   "id": "c3397ee4-2c1a-4b52-821b-4491036ef7e0",
   "metadata": {},
   "outputs": [
    {
     "data": {
      "text/plain": [
       "18"
      ]
     },
     "execution_count": 44,
     "metadata": {},
     "output_type": "execute_result"
    }
   ],
   "source": [
    "sample_array[8] #gets the 9th position/index"
   ]
  },
  {
   "cell_type": "code",
   "execution_count": 45,
   "id": "cc18e1a2-bb97-4b2e-8d2d-a4239f5d3854",
   "metadata": {},
   "outputs": [
    {
     "data": {
      "text/plain": [
       "array([12, 13, 14])"
      ]
     },
     "execution_count": 45,
     "metadata": {},
     "output_type": "execute_result"
    }
   ],
   "source": [
    "sample_array[2:5] #getting 3rd till 5th value"
   ]
  },
  {
   "cell_type": "code",
   "execution_count": 46,
   "id": "549fd0c8-39a0-44c0-85d6-0e11e6770cee",
   "metadata": {},
   "outputs": [],
   "source": [
    "sample_array[1:3]=100 #broadcasting a value at specific index of the array"
   ]
  },
  {
   "cell_type": "code",
   "execution_count": 47,
   "id": "0d9fcec7-fa93-4ae6-a74c-ba2459b35976",
   "metadata": {},
   "outputs": [
    {
     "data": {
      "text/plain": [
       "array([ 10, 100, 100,  13,  14,  15,  16,  17,  18,  19,  20])"
      ]
     },
     "execution_count": 47,
     "metadata": {},
     "output_type": "execute_result"
    }
   ],
   "source": [
    "sample_array"
   ]
  },
  {
   "cell_type": "code",
   "execution_count": 48,
   "id": "151f8e4c-8bc8-41fc-891d-17cd8d71cd95",
   "metadata": {},
   "outputs": [
    {
     "data": {
      "text/plain": [
       "array([10, 11, 12, 13, 14, 15, 16, 17, 18, 19, 20])"
      ]
     },
     "execution_count": 48,
     "metadata": {},
     "output_type": "execute_result"
    }
   ],
   "source": [
    "# regenerating the same array\n",
    "sample_array = np.arange(10,21)\n",
    "sample_array"
   ]
  },
  {
   "cell_type": "code",
   "execution_count": 49,
   "id": "14feed9a-1e90-49d3-b06d-ccb0af3742e6",
   "metadata": {},
   "outputs": [
    {
     "data": {
      "text/plain": [
       "array([10, 11, 12, 13, 14, 15, 16])"
      ]
     },
     "execution_count": 49,
     "metadata": {},
     "output_type": "execute_result"
    }
   ],
   "source": [
    "# Creating a subset of an array\n",
    "subset_sample_array = sample_array[0:7]\n",
    "subset_sample_array"
   ]
  },
  {
   "cell_type": "code",
   "execution_count": 50,
   "id": "2bc0836f-a984-403e-bc2d-e1f9ecafabeb",
   "metadata": {},
   "outputs": [
    {
     "data": {
      "text/plain": [
       "array([101, 101, 101, 101, 101, 101, 101])"
      ]
     },
     "execution_count": 50,
     "metadata": {},
     "output_type": "execute_result"
    }
   ],
   "source": [
    "# broadcasting a value in subset array\n",
    "subset_sample_array[:]=101\n",
    "subset_sample_array"
   ]
  },
  {
   "cell_type": "code",
   "execution_count": 51,
   "id": "1fbbdb64-f9fe-4671-8e1b-4c4777169bd0",
   "metadata": {},
   "outputs": [
    {
     "data": {
      "text/plain": [
       "array([101, 101, 101, 101, 101, 101, 101,  17,  18,  19,  20])"
      ]
     },
     "execution_count": 51,
     "metadata": {},
     "output_type": "execute_result"
    }
   ],
   "source": [
    "sample_array"
   ]
  },
  {
   "cell_type": "code",
   "execution_count": 52,
   "id": "905ce5df-f5d3-445b-871f-4bbc43926fdd",
   "metadata": {},
   "outputs": [],
   "source": [
    "# even the original array changed as subset is a view of original array or linked to original array"
   ]
  },
  {
   "cell_type": "code",
   "execution_count": 53,
   "id": "f2be135e-90e2-47ab-b3c5-e6bcc106d426",
   "metadata": {},
   "outputs": [
    {
     "data": {
      "text/plain": [
       "array([101, 101, 101, 101, 101, 101, 101])"
      ]
     },
     "execution_count": 53,
     "metadata": {},
     "output_type": "execute_result"
    }
   ],
   "source": [
    "subset_sample_array = sample_array[0:7].copy()\n",
    "subset_sample_array"
   ]
  },
  {
   "cell_type": "code",
   "execution_count": 54,
   "id": "e63a6045-dbbb-4003-b85c-f52e263bcd90",
   "metadata": {},
   "outputs": [
    {
     "data": {
      "text/plain": [
       "array([99, 99, 99, 99, 99, 99, 99])"
      ]
     },
     "execution_count": 54,
     "metadata": {},
     "output_type": "execute_result"
    }
   ],
   "source": [
    "subset_sample_array[:]=99\n",
    "subset_sample_array"
   ]
  },
  {
   "cell_type": "code",
   "execution_count": 55,
   "id": "7cf7b075-90ef-4eba-ae97-f67920c28cf9",
   "metadata": {},
   "outputs": [
    {
     "data": {
      "text/plain": [
       "array([101, 101, 101, 101, 101, 101, 101,  17,  18,  19,  20])"
      ]
     },
     "execution_count": 55,
     "metadata": {},
     "output_type": "execute_result"
    }
   ],
   "source": [
    "sample_array"
   ]
  },
  {
   "cell_type": "code",
   "execution_count": 56,
   "id": "61f95c43-e922-460a-9ec3-b35e39e7c009",
   "metadata": {},
   "outputs": [],
   "source": [
    "# when we use copy() it wont change the original array and sunset will become a copy"
   ]
  },
  {
   "cell_type": "code",
   "execution_count": null,
   "id": "4abd5fd2-3159-4429-84b5-26e3e8516dd7",
   "metadata": {},
   "outputs": [],
   "source": []
  },
  {
   "cell_type": "code",
   "execution_count": 57,
   "id": "0dc62315-36d9-48db-8029-0312d6793320",
   "metadata": {},
   "outputs": [
    {
     "data": {
      "text/plain": [
       "array([[1, 2, 3],\n",
       "       [4, 5, 6],\n",
       "       [7, 8, 9]])"
      ]
     },
     "execution_count": 57,
     "metadata": {},
     "output_type": "execute_result"
    }
   ],
   "source": [
    "# Creating a matrix in numpy\n",
    "sample_matrix = np.array(([1,2,3],[4,5,6],[7,8,9]))\n",
    "sample_matrix"
   ]
  },
  {
   "cell_type": "code",
   "execution_count": 58,
   "id": "3f589059-8df6-4ade-80d3-3ab77e85f7b8",
   "metadata": {},
   "outputs": [
    {
     "data": {
      "text/plain": [
       "dtype('int32')"
      ]
     },
     "execution_count": 58,
     "metadata": {},
     "output_type": "execute_result"
    }
   ],
   "source": [
    "sample_matrix.dtype # checking the data type"
   ]
  },
  {
   "cell_type": "code",
   "execution_count": 59,
   "id": "084d1208-71f9-4c74-ab84-e12e73c8a50a",
   "metadata": {},
   "outputs": [
    {
     "data": {
      "text/plain": [
       "(3, 3)"
      ]
     },
     "execution_count": 59,
     "metadata": {},
     "output_type": "execute_result"
    }
   ],
   "source": [
    "sample_matrix.shape # checking the shape"
   ]
  },
  {
   "cell_type": "code",
   "execution_count": 60,
   "id": "3de7dad0-ac6a-498e-83a1-c3a4606ce3e7",
   "metadata": {},
   "outputs": [
    {
     "data": {
      "text/plain": [
       "3"
      ]
     },
     "execution_count": 60,
     "metadata": {},
     "output_type": "execute_result"
    }
   ],
   "source": [
    "sample_matrix[0][2] # accessing the elements"
   ]
  },
  {
   "cell_type": "code",
   "execution_count": 61,
   "id": "ed7da4d4-c074-44fe-aa30-e37626aee9cd",
   "metadata": {},
   "outputs": [
    {
     "data": {
      "text/plain": [
       "3"
      ]
     },
     "execution_count": 61,
     "metadata": {},
     "output_type": "execute_result"
    }
   ],
   "source": [
    "sample_matrix[0,2] # accessing the elements"
   ]
  },
  {
   "cell_type": "code",
   "execution_count": 62,
   "id": "9829ddc9-f82e-4943-b997-928d4ed49057",
   "metadata": {},
   "outputs": [
    {
     "data": {
      "text/plain": [
       "array([7, 8, 9])"
      ]
     },
     "execution_count": 62,
     "metadata": {},
     "output_type": "execute_result"
    }
   ],
   "source": [
    "sample_matrix[2,:] # Slicing the matrix"
   ]
  },
  {
   "cell_type": "code",
   "execution_count": 63,
   "id": "cb7e06c3-49e7-435d-a24f-fa94d1596c53",
   "metadata": {},
   "outputs": [
    {
     "data": {
      "text/plain": [
       "array([7, 8, 9])"
      ]
     },
     "execution_count": 63,
     "metadata": {},
     "output_type": "execute_result"
    }
   ],
   "source": [
    "sample_matrix[2] # Slicing the matrix"
   ]
  },
  {
   "cell_type": "code",
   "execution_count": 64,
   "id": "6fc57821-8d10-4619-aaab-f610a35bfbe5",
   "metadata": {},
   "outputs": [
    {
     "data": {
      "text/plain": [
       "array([[1, 3],\n",
       "       [4, 6],\n",
       "       [7, 9]])"
      ]
     },
     "execution_count": 64,
     "metadata": {},
     "output_type": "execute_result"
    }
   ],
   "source": [
    "sample_matrix[:,(0,2)]"
   ]
  },
  {
   "cell_type": "code",
   "execution_count": 65,
   "id": "1cabc4ea-0de3-4e1e-a540-f31395b62476",
   "metadata": {},
   "outputs": [
    {
     "data": {
      "text/plain": [
       "array([[3, 1],\n",
       "       [6, 4],\n",
       "       [9, 7]])"
      ]
     },
     "execution_count": 65,
     "metadata": {},
     "output_type": "execute_result"
    }
   ],
   "source": [
    "sample_matrix[:,(2,0)]"
   ]
  },
  {
   "cell_type": "code",
   "execution_count": 66,
   "id": "854a1a93-63c3-48b1-9b62-b8ff3d0f12e9",
   "metadata": {},
   "outputs": [
    {
     "data": {
      "text/plain": [
       "array([ 1,  2,  3,  4,  5,  6,  7,  8,  9, 10, 11, 12, 13, 14, 15, 16, 17,\n",
       "       18, 19, 20, 21, 22, 23, 24, 25, 26, 27, 28, 29, 30])"
      ]
     },
     "execution_count": 66,
     "metadata": {},
     "output_type": "execute_result"
    }
   ],
   "source": [
    "sample_array = np.arange(1,31)\n",
    "sample_array"
   ]
  },
  {
   "cell_type": "code",
   "execution_count": 67,
   "id": "af37968d-2e69-4693-bfc8-57e9f5946311",
   "metadata": {},
   "outputs": [],
   "source": [
    "bool = sample_array < 10 "
   ]
  },
  {
   "cell_type": "code",
   "execution_count": 68,
   "id": "43ac0e29-69d0-41d0-b09b-f7bb59fc92f6",
   "metadata": {},
   "outputs": [
    {
     "data": {
      "text/plain": [
       "array([ True,  True,  True,  True,  True,  True,  True,  True,  True,\n",
       "       False, False, False, False, False, False, False, False, False,\n",
       "       False, False, False, False, False, False, False, False, False,\n",
       "       False, False, False])"
      ]
     },
     "execution_count": 68,
     "metadata": {},
     "output_type": "execute_result"
    }
   ],
   "source": [
    "bool"
   ]
  },
  {
   "cell_type": "code",
   "execution_count": 69,
   "id": "95801f56-3e30-4a1f-9d0c-5da2558bc3b1",
   "metadata": {},
   "outputs": [
    {
     "data": {
      "text/plain": [
       "array([1, 2, 3, 4, 5, 6, 7, 8, 9])"
      ]
     },
     "execution_count": 69,
     "metadata": {},
     "output_type": "execute_result"
    }
   ],
   "source": [
    "sample_array[bool] # get the array having values > 10 "
   ]
  },
  {
   "cell_type": "code",
   "execution_count": 70,
   "id": "aecf0e81-3302-4411-8d8a-27cd5d1ce91b",
   "metadata": {},
   "outputs": [
    {
     "data": {
      "text/plain": [
       "array([1, 2, 3, 4, 5, 6, 7, 8, 9])"
      ]
     },
     "execution_count": 70,
     "metadata": {},
     "output_type": "execute_result"
    }
   ],
   "source": [
    "sample_array[sample_array < 10] # get the array having values > 10 "
   ]
  },
  {
   "cell_type": "code",
   "execution_count": 71,
   "id": "35aae291-95a7-4c61-a5ae-7ef064c3e98a",
   "metadata": {},
   "outputs": [
    {
     "data": {
      "text/plain": [
       "array([ 2,  4,  6,  8, 10, 12, 14, 16, 18, 20, 22, 24, 26, 28, 30, 32, 34,\n",
       "       36, 38, 40, 42, 44, 46, 48, 50, 52, 54, 56, 58, 60])"
      ]
     },
     "execution_count": 71,
     "metadata": {},
     "output_type": "execute_result"
    }
   ],
   "source": [
    "sample_array + sample_array #Vector addition"
   ]
  },
  {
   "cell_type": "code",
   "execution_count": 72,
   "id": "8bfdaa70-d3e5-4f72-b02c-e5c8f4bdae46",
   "metadata": {},
   "outputs": [
    {
     "data": {
      "text/plain": [
       "array([0, 0, 0, 0, 0, 0, 0, 0, 0, 0, 0, 0, 0, 0, 0, 0, 0, 0, 0, 0, 0, 0,\n",
       "       0, 0, 0, 0, 0, 0, 0, 0])"
      ]
     },
     "execution_count": 72,
     "metadata": {},
     "output_type": "execute_result"
    }
   ],
   "source": [
    "sample_array - sample_array #Vector substraction"
   ]
  },
  {
   "cell_type": "code",
   "execution_count": 73,
   "id": "e57bcc05-6585-475d-85f4-fc9cd775018d",
   "metadata": {},
   "outputs": [
    {
     "data": {
      "text/plain": [
       "array([  1,   4,   9,  16,  25,  36,  49,  64,  81, 100, 121, 144, 169,\n",
       "       196, 225, 256, 289, 324, 361, 400, 441, 484, 529, 576, 625, 676,\n",
       "       729, 784, 841, 900])"
      ]
     },
     "execution_count": 73,
     "metadata": {},
     "output_type": "execute_result"
    }
   ],
   "source": [
    "sample_array * sample_array #Vector Multiplication"
   ]
  },
  {
   "cell_type": "code",
   "execution_count": 74,
   "id": "e23359a8-67a5-4ec8-a426-d53655f20d95",
   "metadata": {},
   "outputs": [
    {
     "data": {
      "text/plain": [
       "array([1, 1, 1, 1, 1, 1, 1, 1, 1, 1, 1, 1, 1, 1, 1, 1, 1, 1, 1, 1, 1, 1,\n",
       "       1, 1, 1, 1, 1, 1, 1, 1], dtype=int32)"
      ]
     },
     "execution_count": 74,
     "metadata": {},
     "output_type": "execute_result"
    }
   ],
   "source": [
    "sample_array // sample_array #Vector division"
   ]
  },
  {
   "cell_type": "code",
   "execution_count": 75,
   "id": "43fa9a1d-214c-4140-9ed0-fbc876547d33",
   "metadata": {},
   "outputs": [
    {
     "data": {
      "text/plain": [
       "array([11, 12, 13, 14, 15, 16, 17, 18, 19, 20, 21, 22, 23, 24, 25, 26, 27,\n",
       "       28, 29, 30, 31, 32, 33, 34, 35, 36, 37, 38, 39, 40])"
      ]
     },
     "execution_count": 75,
     "metadata": {},
     "output_type": "execute_result"
    }
   ],
   "source": [
    "sample_array + 10 #Vector addition "
   ]
  },
  {
   "cell_type": "code",
   "execution_count": 76,
   "id": "73462a81-72d7-42cd-9885-e881385aa069",
   "metadata": {},
   "outputs": [],
   "source": [
    "# Using a built in functions"
   ]
  },
  {
   "cell_type": "code",
   "execution_count": 77,
   "id": "f9fd09c6-cd89-4395-b26f-4252c1ead88f",
   "metadata": {},
   "outputs": [
    {
     "data": {
      "text/plain": [
       "array([1.        , 1.41421356, 1.73205081, 2.        , 2.23606798,\n",
       "       2.44948974, 2.64575131, 2.82842712, 3.        , 3.16227766,\n",
       "       3.31662479, 3.46410162, 3.60555128, 3.74165739, 3.87298335,\n",
       "       4.        , 4.12310563, 4.24264069, 4.35889894, 4.47213595,\n",
       "       4.58257569, 4.69041576, 4.79583152, 4.89897949, 5.        ,\n",
       "       5.09901951, 5.19615242, 5.29150262, 5.38516481, 5.47722558])"
      ]
     },
     "execution_count": 77,
     "metadata": {},
     "output_type": "execute_result"
    }
   ],
   "source": [
    "np.sqrt(sample_array) # Finding a square root"
   ]
  },
  {
   "cell_type": "code",
   "execution_count": 78,
   "id": "8f663177-db11-45ce-b665-f4eea75b4c75",
   "metadata": {},
   "outputs": [
    {
     "data": {
      "text/plain": [
       "array([2.71828183e+00, 7.38905610e+00, 2.00855369e+01, 5.45981500e+01,\n",
       "       1.48413159e+02, 4.03428793e+02, 1.09663316e+03, 2.98095799e+03,\n",
       "       8.10308393e+03, 2.20264658e+04, 5.98741417e+04, 1.62754791e+05,\n",
       "       4.42413392e+05, 1.20260428e+06, 3.26901737e+06, 8.88611052e+06,\n",
       "       2.41549528e+07, 6.56599691e+07, 1.78482301e+08, 4.85165195e+08,\n",
       "       1.31881573e+09, 3.58491285e+09, 9.74480345e+09, 2.64891221e+10,\n",
       "       7.20048993e+10, 1.95729609e+11, 5.32048241e+11, 1.44625706e+12,\n",
       "       3.93133430e+12, 1.06864746e+13])"
      ]
     },
     "execution_count": 78,
     "metadata": {},
     "output_type": "execute_result"
    }
   ],
   "source": [
    "np.exp(sample_array) # Exponetial value e to the power of values"
   ]
  },
  {
   "cell_type": "code",
   "execution_count": 79,
   "id": "d8afc9a4-6404-4e29-b845-fc2b4b963c54",
   "metadata": {},
   "outputs": [
    {
     "data": {
      "text/plain": [
       "array([0.        , 0.69314718, 1.09861229, 1.38629436, 1.60943791,\n",
       "       1.79175947, 1.94591015, 2.07944154, 2.19722458, 2.30258509,\n",
       "       2.39789527, 2.48490665, 2.56494936, 2.63905733, 2.7080502 ,\n",
       "       2.77258872, 2.83321334, 2.89037176, 2.94443898, 2.99573227,\n",
       "       3.04452244, 3.09104245, 3.13549422, 3.17805383, 3.21887582,\n",
       "       3.25809654, 3.29583687, 3.33220451, 3.36729583, 3.40119738])"
      ]
     },
     "execution_count": 79,
     "metadata": {},
     "output_type": "execute_result"
    }
   ],
   "source": [
    "np.log(sample_array) # Finding the log"
   ]
  },
  {
   "cell_type": "code",
   "execution_count": 80,
   "id": "c9f2b697-4794-4942-92af-59bc185bbc42",
   "metadata": {},
   "outputs": [
    {
     "data": {
      "text/plain": [
       "30"
      ]
     },
     "execution_count": 80,
     "metadata": {},
     "output_type": "execute_result"
    }
   ],
   "source": [
    "np.max(sample_array)"
   ]
  },
  {
   "cell_type": "code",
   "execution_count": 81,
   "id": "b3b0e96d-029a-4e4f-97dc-64d365bb338b",
   "metadata": {},
   "outputs": [
    {
     "data": {
      "text/plain": [
       "1"
      ]
     },
     "execution_count": 81,
     "metadata": {},
     "output_type": "execute_result"
    }
   ],
   "source": [
    "np.min(sample_array)"
   ]
  },
  {
   "cell_type": "code",
   "execution_count": 82,
   "id": "cbf0b719-0edc-4bc8-95c6-9fbb118f7be7",
   "metadata": {},
   "outputs": [
    {
     "data": {
      "text/plain": [
       "29"
      ]
     },
     "execution_count": 82,
     "metadata": {},
     "output_type": "execute_result"
    }
   ],
   "source": [
    "np.argmax(sample_array)"
   ]
  },
  {
   "cell_type": "code",
   "execution_count": 83,
   "id": "029a83b5-aa54-4aa5-a1d2-679fbbdf5a51",
   "metadata": {},
   "outputs": [
    {
     "data": {
      "text/plain": [
       "0"
      ]
     },
     "execution_count": 83,
     "metadata": {},
     "output_type": "execute_result"
    }
   ],
   "source": [
    "np.argmin(sample_array)"
   ]
  },
  {
   "cell_type": "code",
   "execution_count": 84,
   "id": "d7518663-3443-4fb5-9d9f-b25799fdc618",
   "metadata": {},
   "outputs": [
    {
     "data": {
      "text/plain": [
       "array([ 0.84147098,  0.90929743,  0.14112001, -0.7568025 , -0.95892427,\n",
       "       -0.2794155 ,  0.6569866 ,  0.98935825,  0.41211849, -0.54402111,\n",
       "       -0.99999021, -0.53657292,  0.42016704,  0.99060736,  0.65028784,\n",
       "       -0.28790332, -0.96139749, -0.75098725,  0.14987721,  0.91294525,\n",
       "        0.83665564, -0.00885131, -0.8462204 , -0.90557836, -0.13235175,\n",
       "        0.76255845,  0.95637593,  0.27090579, -0.66363388, -0.98803162])"
      ]
     },
     "execution_count": 84,
     "metadata": {},
     "output_type": "execute_result"
    }
   ],
   "source": [
    "np.sin(sample_array)"
   ]
  },
  {
   "cell_type": "code",
   "execution_count": 85,
   "id": "a9147bab-054d-456d-ae3f-ee2655d4803b",
   "metadata": {},
   "outputs": [
    {
     "data": {
      "text/plain": [
       "array([ 0.54030231, -0.41614684, -0.9899925 , -0.65364362,  0.28366219,\n",
       "        0.96017029,  0.75390225, -0.14550003, -0.91113026, -0.83907153,\n",
       "        0.0044257 ,  0.84385396,  0.90744678,  0.13673722, -0.75968791,\n",
       "       -0.95765948, -0.27516334,  0.66031671,  0.98870462,  0.40808206,\n",
       "       -0.54772926, -0.99996083, -0.53283302,  0.42417901,  0.99120281,\n",
       "        0.64691932, -0.29213881, -0.96260587, -0.74805753,  0.15425145])"
      ]
     },
     "execution_count": 85,
     "metadata": {},
     "output_type": "execute_result"
    }
   ],
   "source": [
    "np.cos(sample_array)"
   ]
  },
  {
   "cell_type": "code",
   "execution_count": 86,
   "id": "9a0d523c-a605-4653-abcb-4c223c26a899",
   "metadata": {},
   "outputs": [
    {
     "data": {
      "text/plain": [
       "array([ 1.55740772e+00, -2.18503986e+00, -1.42546543e-01,  1.15782128e+00,\n",
       "       -3.38051501e+00, -2.91006191e-01,  8.71447983e-01, -6.79971146e+00,\n",
       "       -4.52315659e-01,  6.48360827e-01, -2.25950846e+02, -6.35859929e-01,\n",
       "        4.63021133e-01,  7.24460662e+00, -8.55993401e-01,  3.00632242e-01,\n",
       "        3.49391565e+00, -1.13731371e+00,  1.51589471e-01,  2.23716094e+00,\n",
       "       -1.52749853e+00,  8.85165604e-03,  1.58815308e+00, -2.13489670e+00,\n",
       "       -1.33526407e-01,  1.17875355e+00, -3.27370380e+00, -2.81429605e-01,\n",
       "        8.87142844e-01, -6.40533120e+00])"
      ]
     },
     "execution_count": 86,
     "metadata": {},
     "output_type": "execute_result"
    }
   ],
   "source": [
    "np.tan(sample_array)"
   ]
  },
  {
   "cell_type": "code",
   "execution_count": 87,
   "id": "e655bd21-9a09-449a-8cab-8b675004f36d",
   "metadata": {},
   "outputs": [
    {
     "data": {
      "text/plain": [
       "array([[-2.42014087, -0.53355398, -0.48651139],\n",
       "       [-0.30440916,  1.58181941, -0.41320907],\n",
       "       [-0.58017463, -1.50751746,  0.34718511]])"
      ]
     },
     "execution_count": 87,
     "metadata": {},
     "output_type": "execute_result"
    }
   ],
   "source": [
    "import numpy as np\n",
    "array = np.random.randn(3,3)\n",
    "array"
   ]
  },
  {
   "cell_type": "code",
   "execution_count": 88,
   "id": "44933add-92b9-4891-bc1f-2c5fe493193a",
   "metadata": {},
   "outputs": [
    {
     "data": {
      "text/plain": [
       "array([[-2., -1., -0.],\n",
       "       [-0.,  2., -0.],\n",
       "       [-1., -2.,  0.]])"
      ]
     },
     "execution_count": 88,
     "metadata": {},
     "output_type": "execute_result"
    }
   ],
   "source": [
    "np.round(array)"
   ]
  },
  {
   "cell_type": "code",
   "execution_count": 89,
   "id": "acef8f81-049a-4d8d-9b3a-b4d95f4022ef",
   "metadata": {},
   "outputs": [
    {
     "data": {
      "text/plain": [
       "array([[-2.42, -0.53, -0.49],\n",
       "       [-0.3 ,  1.58, -0.41],\n",
       "       [-0.58, -1.51,  0.35]])"
      ]
     },
     "execution_count": 89,
     "metadata": {},
     "output_type": "execute_result"
    }
   ],
   "source": [
    "np.round(array, decimals=2)"
   ]
  },
  {
   "cell_type": "code",
   "execution_count": 90,
   "id": "c14842af-bb73-4a7c-9e6b-b1ce06f613d0",
   "metadata": {},
   "outputs": [
    {
     "data": {
      "text/plain": [
       "array([[-2.42014087, -0.53355398, -0.48651139],\n",
       "       [-0.30440916,  1.58181941, -0.41320907],\n",
       "       [-0.58017463, -1.50751746,  0.34718511]])"
      ]
     },
     "execution_count": 90,
     "metadata": {},
     "output_type": "execute_result"
    }
   ],
   "source": [
    "array"
   ]
  },
  {
   "cell_type": "code",
   "execution_count": 91,
   "id": "47ebd311-dc98-4112-9189-1637278c9044",
   "metadata": {},
   "outputs": [
    {
     "data": {
      "text/plain": [
       "array([[-3., -1., -1.],\n",
       "       [-1.,  1., -1.],\n",
       "       [-1., -2.,  0.]])"
      ]
     },
     "execution_count": 91,
     "metadata": {},
     "output_type": "execute_result"
    }
   ],
   "source": [
    "np.floor(array)"
   ]
  },
  {
   "cell_type": "code",
   "execution_count": 92,
   "id": "eb380f53-513c-4912-a1e0-839356ace3a2",
   "metadata": {},
   "outputs": [
    {
     "data": {
      "text/plain": [
       "array([[-2., -0., -0.],\n",
       "       [-0.,  2., -0.],\n",
       "       [-0., -1.,  1.]])"
      ]
     },
     "execution_count": 92,
     "metadata": {},
     "output_type": "execute_result"
    }
   ],
   "source": [
    "np.ceil(array)"
   ]
  },
  {
   "cell_type": "code",
   "execution_count": 93,
   "id": "1aa87c13-3927-4177-8ce8-1c19647dac7f",
   "metadata": {},
   "outputs": [
    {
     "data": {
      "text/plain": [
       "1.0436852660872702"
      ]
     },
     "execution_count": 93,
     "metadata": {},
     "output_type": "execute_result"
    }
   ],
   "source": [
    "np.std(array)"
   ]
  },
  {
   "cell_type": "code",
   "execution_count": 94,
   "id": "b4e9aaf9-f114-49f5-a13d-2889c10fd8c0",
   "metadata": {},
   "outputs": [
    {
     "data": {
      "text/plain": [
       "-0.4796124492991802"
      ]
     },
     "execution_count": 94,
     "metadata": {},
     "output_type": "execute_result"
    }
   ],
   "source": [
    "np.mean(array)"
   ]
  },
  {
   "cell_type": "code",
   "execution_count": 95,
   "id": "d109f5b1-ab92-48c8-afaf-70c71d382c9e",
   "metadata": {},
   "outputs": [
    {
     "data": {
      "text/plain": [
       "-0.48651138968169666"
      ]
     },
     "execution_count": 95,
     "metadata": {},
     "output_type": "execute_result"
    }
   ],
   "source": [
    "np.median(array)"
   ]
  },
  {
   "cell_type": "code",
   "execution_count": 96,
   "id": "879ca2bf-020f-4972-a8c8-536f9c3f5a04",
   "metadata": {},
   "outputs": [
    {
     "data": {
      "text/plain": [
       "array([-2.42014087, -1.50751746, -0.58017463, -0.53355398, -0.48651139,\n",
       "       -0.41320907, -0.30440916,  0.34718511,  1.58181941])"
      ]
     },
     "execution_count": 96,
     "metadata": {},
     "output_type": "execute_result"
    }
   ],
   "source": [
    "np.unique(array)"
   ]
  },
  {
   "cell_type": "code",
   "execution_count": 98,
   "id": "fed1c17e-7193-41c0-8e7b-81d18e09e839",
   "metadata": {},
   "outputs": [],
   "source": [
    "np.save('array',array) #Saving the array, saved in the working directory"
   ]
  },
  {
   "cell_type": "code",
   "execution_count": 99,
   "id": "743d1069-a7dc-4191-9841-fca37cc22941",
   "metadata": {},
   "outputs": [],
   "source": [
    "np.savez('2_array.npz',a=array,b=sample_array) #Saving multiple array, saved in the working directory with savez"
   ]
  },
  {
   "cell_type": "code",
   "execution_count": 100,
   "id": "3f435a2b-fea9-4292-b49a-ef9c28b27ec7",
   "metadata": {},
   "outputs": [],
   "source": [
    "np.savetxt('array.txt',array,delimiter=',') # Saving the array in a text file"
   ]
  },
  {
   "cell_type": "code",
   "execution_count": 101,
   "id": "b47f482a-978c-488c-87ee-73b1dff0e016",
   "metadata": {},
   "outputs": [
    {
     "data": {
      "text/plain": [
       "array([[-2.42014087, -0.53355398, -0.48651139],\n",
       "       [-0.30440916,  1.58181941, -0.41320907],\n",
       "       [-0.58017463, -1.50751746,  0.34718511]])"
      ]
     },
     "execution_count": 101,
     "metadata": {},
     "output_type": "execute_result"
    }
   ],
   "source": [
    "np.load('array.npy') # Loading an array from the saved file"
   ]
  },
  {
   "cell_type": "code",
   "execution_count": 102,
   "id": "5a844b2b-d94a-4024-a352-4e7d412c27c2",
   "metadata": {},
   "outputs": [],
   "source": [
    "archive = np.load('2_array.npz')"
   ]
  },
  {
   "cell_type": "code",
   "execution_count": 103,
   "id": "e7d8d7bd-9dcd-47bf-857d-cf1e2db8aa6d",
   "metadata": {},
   "outputs": [
    {
     "data": {
      "text/plain": [
       "<numpy.lib.npyio.NpzFile at 0x2959a81b880>"
      ]
     },
     "execution_count": 103,
     "metadata": {},
     "output_type": "execute_result"
    }
   ],
   "source": [
    "archive"
   ]
  },
  {
   "cell_type": "code",
   "execution_count": 104,
   "id": "38cc1506-4319-4295-87e8-9c94bfc88c47",
   "metadata": {},
   "outputs": [
    {
     "data": {
      "text/plain": [
       "array([[-2.42014087, -0.53355398, -0.48651139],\n",
       "       [-0.30440916,  1.58181941, -0.41320907],\n",
       "       [-0.58017463, -1.50751746,  0.34718511]])"
      ]
     },
     "execution_count": 104,
     "metadata": {},
     "output_type": "execute_result"
    }
   ],
   "source": [
    "archive['a']"
   ]
  },
  {
   "cell_type": "code",
   "execution_count": 105,
   "id": "8de401bc-3bda-4aa9-a4b4-c1f021370e21",
   "metadata": {},
   "outputs": [
    {
     "data": {
      "text/plain": [
       "array([ 1,  2,  3,  4,  5,  6,  7,  8,  9, 10, 11, 12, 13, 14, 15, 16, 17,\n",
       "       18, 19, 20, 21, 22, 23, 24, 25, 26, 27, 28, 29, 30])"
      ]
     },
     "execution_count": 105,
     "metadata": {},
     "output_type": "execute_result"
    }
   ],
   "source": [
    "archive['b']"
   ]
  },
  {
   "cell_type": "code",
   "execution_count": 106,
   "id": "342670b8-4c1a-4b5f-bcb9-5f4e754dd6e6",
   "metadata": {},
   "outputs": [
    {
     "data": {
      "text/plain": [
       "array([[-2.42014087, -0.53355398, -0.48651139],\n",
       "       [-0.30440916,  1.58181941, -0.41320907],\n",
       "       [-0.58017463, -1.50751746,  0.34718511]])"
      ]
     },
     "execution_count": 106,
     "metadata": {},
     "output_type": "execute_result"
    }
   ],
   "source": [
    "np.loadtxt('array.txt', delimiter=',')"
   ]
  },
  {
   "cell_type": "code",
   "execution_count": null,
   "id": "e4ec63ab-232f-4910-907d-2b1f80b2e4aa",
   "metadata": {},
   "outputs": [],
   "source": []
  },
  {
   "cell_type": "code",
   "execution_count": null,
   "id": "58c1b537-1f94-460e-8949-942ae2896188",
   "metadata": {},
   "outputs": [],
   "source": []
  }
 ],
 "metadata": {
  "kernelspec": {
   "display_name": "Python 3 (ipykernel)",
   "language": "python",
   "name": "python3"
  },
  "language_info": {
   "codemirror_mode": {
    "name": "ipython",
    "version": 3
   },
   "file_extension": ".py",
   "mimetype": "text/x-python",
   "name": "python",
   "nbconvert_exporter": "python",
   "pygments_lexer": "ipython3",
   "version": "3.9.13"
  }
 },
 "nbformat": 4,
 "nbformat_minor": 5
}
