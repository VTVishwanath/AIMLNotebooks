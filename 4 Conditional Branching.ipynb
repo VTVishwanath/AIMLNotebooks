{
 "cells": [
  {
   "cell_type": "markdown",
   "id": "face388e-35fc-4b18-bba3-70b23857a3f7",
   "metadata": {},
   "source": [
    "# Python If Else\n",
    "There comes situations in real life when we need to make some decisions and based on these decisions, we decide what should we do next. Similar situations arise in programming also where we need to make some decisions and based on these decisions we will execute the next block of code. Decision-making statements in programming languages decide the direction(Control Flow) of the flow of program execution. \n",
    "\n",
    "## Types of Control Flow in Python\n",
    "In Python programming language, the type of control flow statements are as follows:\n",
    "\n",
    "#### The if statement\n",
    "#### The if-else statement\n",
    "#### The nested-if statement\n",
    "#### The if-elif-else ladder"
   ]
  },
  {
   "cell_type": "markdown",
   "id": "9091d833-403a-4e05-be92-c213a735a332",
   "metadata": {},
   "source": [
    "### if statement\n",
    "The if statement is the most simple decision-making statement. It is used to decide whether a certain statement or block of statements will be executed or not.\n",
    "\n",
    "Syntax: \n",
    "    \n",
    "if condition:\n",
    "    \n",
    "    Statements to execute if\n",
    "   \n",
    "    condition is true"
   ]
  },
  {
   "cell_type": "markdown",
   "id": "7950d9d7-9925-4b2a-964b-ce1c30550b7f",
   "metadata": {},
   "source": [
    "Here, the condition after evaluation will be either true or false. if the statement accepts boolean values – if the value is true then it will execute the block of statements below it otherwise not.\n",
    "\n",
    "As we know, python uses indentation to identify a block. So the block under an if statement will be identified as shown in the below example:  "
   ]
  },
  {
   "cell_type": "markdown",
   "id": "f6ae7648-bdb7-46f4-9b31-f0c5f77f8f5f",
   "metadata": {},
   "source": [
    "if condition:\n",
    "    \n",
    "    statement1\n",
    "\n",
    "    statement2\n",
    "\n",
    "Here if the condition is true, if block will consider only statement1 to be inside its block."
   ]
  },
  {
   "cell_type": "markdown",
   "id": "a1b82c04-339c-4502-a69f-dede060e5189",
   "metadata": {},
   "source": [
    "## Flowchart of Python if statement\n",
    "\n",
    "![img](photos/if-statement.jpg)"
   ]
  },
  {
   "cell_type": "markdown",
   "id": "3c8f2ec7-8e34-449e-8e7d-57b91cbc9447",
   "metadata": {},
   "source": [
    "Example of Python if Statement\n",
    "As the condition present in the if statement is false. So, the block below the if statement is executed."
   ]
  },
  {
   "cell_type": "code",
   "execution_count": 1,
   "id": "a72f94d3-fe7e-40ae-9220-432fa46426fa",
   "metadata": {},
   "outputs": [
    {
     "name": "stdout",
     "output_type": "stream",
     "text": [
      "I am Not in if\n"
     ]
    }
   ],
   "source": [
    "# python program to illustrate If statement\n",
    "\n",
    "i = 10\n",
    "\n",
    "if (i > 15):\n",
    "\tprint(\"10 is less than 15\")\n",
    "print(\"I am Not in if\")\n"
   ]
  },
  {
   "cell_type": "markdown",
   "id": "98b3632a-d669-44ef-8927-b52973dcedac",
   "metadata": {},
   "source": [
    "## if-else statement\n",
    "The if statement alone tells us that if a condition is true it will execute a block of statements and if the condition is false it won’t. But if we want to do something else if the condition is false, we can use the else statement with if statement to execute a block of code when the if condition is false. \n",
    "\n",
    "Syntax: \n",
    "\n",
    "if (condition):\n",
    "    \n",
    "    Executes this block if\n",
    "    \n",
    "    condition is true\n",
    "\n",
    "else:\n",
    "    \n",
    "    Executes this block if\n",
    "    \n",
    "    condition is false\n",
    "\n",
    "Flowchart of Python if-else statement"
   ]
  },
  {
   "cell_type": "markdown",
   "id": "7d6d2bda-e264-4bfb-8c94-0e30dbd1889c",
   "metadata": {},
   "source": [
    "![img](photos/if-else.jpg)"
   ]
  },
  {
   "cell_type": "markdown",
   "id": "d34ba6e2-6210-4921-89cb-d4402e070360",
   "metadata": {},
   "source": [
    "Example of Python if-else statement\n",
    "The block of code following the else statement is executed as the condition present in the if statement is false after calling the statement which is not in the block(without spaces)."
   ]
  },
  {
   "cell_type": "code",
   "execution_count": 4,
   "id": "ce7d43c9-68d9-4ae5-aff9-999773a15ad0",
   "metadata": {},
   "outputs": [
    {
     "name": "stdout",
     "output_type": "stream",
     "text": [
      "i is greater than 15\n",
      "i'm in else Block\n",
      "i'm not in if and not in else Block\n"
     ]
    }
   ],
   "source": [
    "# python program to illustrate If else statement\n",
    "#!/usr/bin/python\n",
    "\n",
    "i = 20\n",
    "if (i < 15):\n",
    "    print(\"i is smaller than 15\")\n",
    "    print(\"i'm in if Block\")\n",
    "else:\n",
    "    print(\"i is greater than 15\")\n",
    "    print(\"i'm in else Block\")\n",
    "\n",
    "print(\"i'm not in if and not in else Block\")\n"
   ]
  },
  {
   "cell_type": "markdown",
   "id": "ae362bb0-74da-4c52-bde2-0859db819ebb",
   "metadata": {},
   "source": [
    "Example of Python if else statement in a list comprehension"
   ]
  },
  {
   "cell_type": "code",
   "execution_count": 6,
   "id": "cd8002ac-7e78-4ec8-a64a-283fbade6db6",
   "metadata": {},
   "outputs": [
    {
     "name": "stdout",
     "output_type": "stream",
     "text": [
      "[16, 3, 13, 18, 21, 18]\n"
     ]
    }
   ],
   "source": [
    "# Explicit function\n",
    "def digitSum(n):\n",
    "\tdsum = 0\n",
    "\tfor ele in str(n):\n",
    "\t\tdsum += int(ele)\n",
    "\treturn dsum\n",
    "\n",
    "\n",
    "# Initializing list\n",
    "List = [367, 111, 562, 945, 6726, 873]\n",
    "\n",
    "# Using the function on odd elements of the list\n",
    "newList = [digitSum(i) for i in List]\n",
    "\n",
    "# Displaying new list\n",
    "print(newList)\n"
   ]
  },
  {
   "cell_type": "markdown",
   "id": "360ecc55-daed-4d7e-90f7-05bfb2833d6f",
   "metadata": {},
   "source": [
    "## nested-if statement\n",
    "A nested if is an if statement that is the target of another if statement. Nested if statements mean an if statement inside another if statement. Yes, Python allows us to nest if statements within if statements. i.e, we can place an if statement inside another if statement.\n",
    "\n",
    "Syntax: \n",
    "\n",
    "if (condition1):\n",
    "    \n",
    "   Executes when condition1 is true\n",
    "   \n",
    "    if (condition2): \n",
    "      \n",
    "        Executes when condition2 is true\n",
    "   \n",
    "    # if Block is end here\n",
    "\n",
    " if Block is end here\n",
    "\n",
    "Flowchart of Python Nested if Statement"
   ]
  },
  {
   "cell_type": "markdown",
   "id": "38a2b61b-3ec2-4698-afe4-86d2caac578a",
   "metadata": {},
   "source": [
    "![img](photos/Nested_if.jpg)"
   ]
  },
  {
   "cell_type": "markdown",
   "id": "205c2a48-00a0-4767-ab3a-9d2947f042a1",
   "metadata": {},
   "source": [
    "Example of Python Nested if statement"
   ]
  },
  {
   "cell_type": "code",
   "execution_count": 9,
   "id": "d3be1f48-63b7-448d-b8b2-fe1c18f615fb",
   "metadata": {},
   "outputs": [
    {
     "name": "stdout",
     "output_type": "stream",
     "text": [
      "i is smaller than 15\n",
      "i is smaller than 12 too\n"
     ]
    }
   ],
   "source": [
    "# python program to illustrate nested If statement\n",
    "#!/usr/bin/python\n",
    "i = 10\n",
    "if (i == 10):\n",
    "\t# First if statement\n",
    "\tif (i < 15):\n",
    "\t\tprint(\"i is smaller than 15\")\n",
    "\t\t\n",
    "\t# Nested - if statement\n",
    "\t# Will only be executed if statement above\n",
    "\t# it is true\n",
    "\tif (i < 12):\n",
    "\t\tprint(\"i is smaller than 12 too\")\n",
    "\telse:\n",
    "\t\tprint(\"i is greater than 15\")\n"
   ]
  },
  {
   "cell_type": "markdown",
   "id": "5914f5e1-c6ad-4a90-9d32-18ec42c81aef",
   "metadata": {},
   "source": [
    "## if-elif-else ladder\n",
    "Here, a user can decide among multiple options. The if statements are executed from the top down. As soon as one of the conditions controlling the if is true, the statement associated with that if is executed, and the rest of the ladder is bypassed. If none of the conditions is true, then the final else statement will be executed.\n",
    "\n",
    "Syntax: \n",
    "\n",
    "if (condition):\n",
    "    \n",
    "    statement\n",
    "\n",
    "elif (condition):\n",
    "    \n",
    "    statement\n",
    ".\n",
    ".\n",
    "\n",
    "else:\n",
    "    \n",
    "    statement\n",
    "\n",
    "Flowchart of Python if-elif-else ladder"
   ]
  },
  {
   "cell_type": "markdown",
   "id": "fe47acd4-d555-44a6-8820-b2d709be223c",
   "metadata": {},
   "source": [
    "![img](photos/if-elseif-ladder.jpg)"
   ]
  },
  {
   "cell_type": "code",
   "execution_count": 11,
   "id": "65119861-30fd-494e-8896-344344b8c7e6",
   "metadata": {},
   "outputs": [
    {
     "name": "stdout",
     "output_type": "stream",
     "text": [
      "i is not present\n"
     ]
    }
   ],
   "source": [
    "# Python program to illustrate if-elif-else ladder\n",
    "#!/usr/bin/python\n",
    "\n",
    "i = 25\n",
    "if (i == 10):\n",
    "\tprint(\"i is 10\")\n",
    "elif (i == 15):\n",
    "\tprint(\"i is 15\")\n",
    "elif (i == 20):\n",
    "\tprint(\"i is 20\")\n",
    "else:\n",
    "\tprint(\"i is not present\")\n"
   ]
  },
  {
   "cell_type": "markdown",
   "id": "a687b02d-f214-489c-87cc-0d3d0e99c994",
   "metadata": {},
   "source": [
    "### Short Hand if statement\n",
    "Whenever there is only a single statement to be executed inside the if block then shorthand if can be used. The statement can be put on the same line as the if statement. \n",
    "\n",
    "Syntax: \n",
    "\n",
    "if condition: statement\n",
    "\n",
    "Example of Python if shorthand"
   ]
  },
  {
   "cell_type": "code",
   "execution_count": 13,
   "id": "315931d2-359f-441b-9d79-262058233e98",
   "metadata": {},
   "outputs": [
    {
     "name": "stdout",
     "output_type": "stream",
     "text": [
      "i is less than 15\n"
     ]
    }
   ],
   "source": [
    "# Python program to illustrate short hand if\n",
    "i = 10\n",
    "if i < 15: print(\"i is less than 15\")\n"
   ]
  },
  {
   "cell_type": "markdown",
   "id": "0ccce8dd-abf5-47c6-a3e9-e7e0bedcd116",
   "metadata": {},
   "source": [
    "### Short Hand if-else statement\n",
    "This can be used to write the if-else statements in a single line where only one statement is needed in both if and else block. \n",
    "\n",
    "Syntax:\n",
    "\n",
    "statement_when_True if condition else statement_when_False\n",
    "Example of Python if else shorthand "
   ]
  },
  {
   "cell_type": "code",
   "execution_count": 15,
   "id": "cc036e06-9618-43f7-8853-42c9b833355c",
   "metadata": {},
   "outputs": [
    {
     "name": "stdout",
     "output_type": "stream",
     "text": [
      "True\n"
     ]
    }
   ],
   "source": [
    "# Python program to illustrate short hand if-else\n",
    "i = 10\n",
    "print(True) if i < 15 else print(False)\n"
   ]
  },
  {
   "cell_type": "code",
   "execution_count": null,
   "id": "d19905e7-e7f8-4116-8b55-61901bb24668",
   "metadata": {},
   "outputs": [],
   "source": []
  }
 ],
 "metadata": {
  "kernelspec": {
   "display_name": "Python 3 (ipykernel)",
   "language": "python",
   "name": "python3"
  },
  "language_info": {
   "codemirror_mode": {
    "name": "ipython",
    "version": 3
   },
   "file_extension": ".py",
   "mimetype": "text/x-python",
   "name": "python",
   "nbconvert_exporter": "python",
   "pygments_lexer": "ipython3",
   "version": "3.9.13"
  }
 },
 "nbformat": 4,
 "nbformat_minor": 5
}
