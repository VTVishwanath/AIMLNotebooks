{
 "cells": [
  {
   "cell_type": "markdown",
   "metadata": {
    "papermill": {
     "duration": 0.031467,
     "end_time": "2020-11-11T14:14:24.101788",
     "exception": false,
     "start_time": "2020-11-11T14:14:24.070321",
     "status": "completed"
    },
    "tags": []
   },
   "source": [
    "# Hierarchical agglomerative clustering"
   ]
  },
  {
   "cell_type": "markdown",
   "metadata": {
    "papermill": {
     "duration": 0.028846,
     "end_time": "2020-11-11T14:14:24.160527",
     "exception": false,
     "start_time": "2020-11-11T14:14:24.131681",
     "status": "completed"
    },
    "tags": []
   },
   "source": [
    "<justify>Hierarchical clustering algorithms are either top-down or bottom-up. Bottomup algorithms treat each document as a singleton cluster at the outset and then successively merge (or agglomerate) pairs of clusters until all clusters\n",
    "have been merged into a single cluster that contains all documents. Bottom up hierarchical clustering is therefore called hierarchical agglomerative clustering or HAC. Top-down clustering requires a method for splitting a cluster. HAC It proceeds by splitting clusters recursively until individual documents are reached. </justify>"
   ]
  },
  {
   "cell_type": "markdown",
   "metadata": {
    "papermill": {
     "duration": 0.029801,
     "end_time": "2020-11-11T14:14:24.219964",
     "exception": false,
     "start_time": "2020-11-11T14:14:24.190163",
     "status": "completed"
    },
    "tags": []
   },
   "source": [
    "![https://python-graph-gallery.com/wp-content/uploads/401_custom_Dendrogram1.png](https://python-graph-gallery.com/wp-content/uploads/401_custom_Dendrogram1.png)\n",
    " <center>Figure. 1.Dendogram</center>"
   ]
  },
  {
   "cell_type": "markdown",
   "metadata": {
    "papermill": {
     "duration": 0.028881,
     "end_time": "2020-11-11T14:14:24.277782",
     "exception": false,
     "start_time": "2020-11-11T14:14:24.248901",
     "status": "completed"
    },
    "tags": []
   },
   "source": [
    "An HAC clustering is typically visualized as a dendrogram as shown in Figure .1. Each merge is represented by a horizontal line. The y-coordinate of the horizontal line is the similarity of the two clusters that were merged, where documents are viewed as singleton clusters. "
   ]
  },
  {
   "cell_type": "markdown",
   "metadata": {
    "papermill": {
     "duration": 0.028736,
     "end_time": "2020-11-11T14:14:24.335556",
     "exception": false,
     "start_time": "2020-11-11T14:14:24.306820",
     "status": "completed"
    },
    "tags": []
   },
   "source": [
    "# Agglomerative Technic\n"
   ]
  },
  {
   "cell_type": "markdown",
   "metadata": {
    "papermill": {
     "duration": 0.028674,
     "end_time": "2020-11-11T14:14:24.393024",
     "exception": false,
     "start_time": "2020-11-11T14:14:24.364350",
     "status": "completed"
    },
    "tags": []
   },
   "source": [
    "## Single-link"
   ]
  },
  {
   "cell_type": "markdown",
   "metadata": {
    "papermill": {
     "duration": 0.030085,
     "end_time": "2020-11-11T14:14:24.452349",
     "exception": false,
     "start_time": "2020-11-11T14:14:24.422264",
     "status": "completed"
    },
    "tags": []
   },
   "source": [
    "<justify>In single-link clustering or single-linkage clustering, the similarity of two clusters is the similarity of their most similar members (see Figure. 2). This single-link merge criterion is local. We pay attention solely to the area where the two clusters come closest to each other. Other, more distant parts of the cluster and the clusters’ overall structure are not taken into account.</justify>\n",
    "\n",
    "<img src=\"https://1.bp.blogspot.com/-FbHLDDIzKrw/X54d6LznF1I/AAAAAAAAGnA/JR3tK75cQ7cPYfJLjifuj7r8JnJ5HwlAwCLcBGAsYHQ/s320/single%2Blink%2BHAC.PNG\" width=\"450\">\n",
    "\n",
    "<center>Figure. 2. Single Link : Minimum Similarity"
   ]
  },
  {
   "cell_type": "markdown",
   "metadata": {
    "papermill": {
     "duration": 0.028837,
     "end_time": "2020-11-11T14:14:24.510545",
     "exception": false,
     "start_time": "2020-11-11T14:14:24.481708",
     "status": "completed"
    },
    "tags": []
   },
   "source": [
    "## Complete-link clustering"
   ]
  },
  {
   "cell_type": "markdown",
   "metadata": {
    "papermill": {
     "duration": 0.028802,
     "end_time": "2020-11-11T14:14:24.568600",
     "exception": false,
     "start_time": "2020-11-11T14:14:24.539798",
     "status": "completed"
    },
    "tags": []
   },
   "source": [
    "<justify>In complete-link clustering or complete-linkage clustering, the similarity of two  clusters is the similarity of their most dissimilar members (see Figure 3. This is equivalent to choosing the cluster pair whose merge has the smallest diameter. This complete-link merge criterion is non-local; the entire structure of the clustering can influence merge decisions. This results in a preference for compact clusters with small diameters over long, straggly clusters, but also causes sensitivity to outliers. A single document far from the center can increase diameters of candidate merge clusters dramatically and completely change the final clustering</justify>\n",
    "\n",
    "\n",
    "<img src=\"https://1.bp.blogspot.com/-CdvmBikHl-4/X54eys7GmPI/AAAAAAAAGnI/7Ot7I3jVBS4IHaS0CVfJlqiJEQ5wnyB3QCLcBGAsYHQ/s320/comple%2Blink.PNG\" width=\"450\">\n",
    "\n",
    "<center>Figure. 3.complete-link: minimum similarity</center>"
   ]
  },
  {
   "cell_type": "markdown",
   "metadata": {
    "papermill": {
     "duration": 0.028856,
     "end_time": "2020-11-11T14:14:24.626674",
     "exception": false,
     "start_time": "2020-11-11T14:14:24.597818",
     "status": "completed"
    },
    "tags": []
   },
   "source": [
    "<img src=\"https://1.bp.blogspot.com/-mionHirutig/X54mIqkdPyI/AAAAAAAAGnU/WoI4AmCRzCMe8g_CuxVzwRmlcG9Vem0NACLcBGAsYHQ/s320/Centroid%2Baverage%2Binter%2Bsimilarity.PNG\" width=\"450\">\n",
    "\n",
    "<center>Figure. 4. centroid: average inter-similarity</center>\n",
    "\n",
    "\n",
    "\n",
    "<img src=\"https://1.bp.blogspot.com/-967l7xcrFBc/X54mIjpFOfI/AAAAAAAAGnY/yWqlZFWlXYc_0kxS3fGZ3KEjS56yBJ8kgCLcBGAsYHQ/s320/Group-average%2Baverage%2Bof%2Ball%2Bsimilarities.PNG\" width=\"430\">\n",
    "\n",
    "<center>Figure. 5.Group-average: average of all similarities</center>\n"
   ]
  },
  {
   "cell_type": "markdown",
   "metadata": {
    "papermill": {
     "duration": 0.028687,
     "end_time": "2020-11-11T14:14:24.684849",
     "exception": false,
     "start_time": "2020-11-11T14:14:24.656162",
     "status": "completed"
    },
    "tags": []
   },
   "source": [
    "The different notions of cluster similarity used by the four HAC algorithms (Figure 2 - Figure 5). An inter-similarity is a similarity between two documents from different clusters.\n",
    "\n",
    "\n",
    "<img src=\"https://1.bp.blogspot.com/-xpA2ViC7FD4/X54rh1ybghI/AAAAAAAAGnw/M8FjmFue12knAxekl6-W_a-3ihsDHFOGwCLcBGAsYHQ/w588-h256/A%2Bsingle-link%2B%2528left%2529%2Band%2Bcomplete-link%2B%2528right%2529.PNG\" width=\"500\">\n",
    "\n",
    "<center>Figure. 6. single-link (left) and complete-link (right) clustering of eight documents. The ellipses correspond to successive clustering stages. Left: The single-linksimilarity of the two upper two-point clusters is the similarity of d2 and d3 (solid\n",
    "line), which is greater than the single-link similarity of the two left two-point clusters (dashed line). Right: The complete-link similarity of the two upper two-point clusters is the similarity of d1 and d4 (dashed line), which is smaller than the complete-link\n",
    "similarity of the two left two-point clusters (solid line).</center>\n",
    "\n",
    "\n",
    "<justify>Figure. 6. depicts a single-link and a complete-link clustering of eight documents. The first four steps, each producing a cluster consisting of a pair of two documents, are identical. Then single-link clustering joins the upper two pairs (and after that the lower two pairs) because on the maximumsimilarity definition of cluster similarity, those two clusters are closest. Complete link clustering joins the left two pairs (and then the right two pairs) because those are the closest pairs according to the minimum-similarity definition of\n",
    "cluster similarity.</justify>"
   ]
  },
  {
   "cell_type": "markdown",
   "metadata": {
    "papermill": {
     "duration": 0.02838,
     "end_time": "2020-11-11T14:14:24.742229",
     "exception": false,
     "start_time": "2020-11-11T14:14:24.713849",
     "status": "completed"
    },
    "tags": []
   },
   "source": [
    "## Space and Time Complexity of Hierarchical clustering Technique:\n",
    "\n",
    "According to [2] Space and Time Complexity of Hierarchical clustering Technique are described below:\n",
    "\n",
    "* <justify>Space complexity: The space required for the Hierarchical clustering Technique is very high when the number of data points are high as we need to store the similarity matrix in the RAM. The space complexity is the order of the square of n.</justify>\n",
    "\n",
    "* **Space complexit**y = O(n²) where n is the number of data points.\n",
    "* Time complexity: Since we’ve to perform n iterations and in each iteration, we need to update the similarity matrix and restore the matrix, the time complexity is also very high. The time complexity is the order of the cube of n.\n",
    "\n",
    "* Time complexity = O(n³) where n is the number of data points.\n",
    "\n",
    "# Limitations of Hierarchical clustering Technique:\n",
    "\n",
    "* There is no mathematical objective for Hierarchical clustering.\n",
    "* All the approaches to calculate the similarity between clusters has its own disadvantages.\n",
    "* High space and time complexity for Hierarchical clustering. Hence this clustering algorithm cannot be used when we have huge data."
   ]
  },
  {
   "cell_type": "markdown",
   "metadata": {
    "papermill": {
     "duration": 0.029023,
     "end_time": "2020-11-11T14:14:24.799879",
     "exception": false,
     "start_time": "2020-11-11T14:14:24.770856",
     "status": "completed"
    },
    "tags": []
   },
   "source": [
    "# How to Implementing Hierarchical agglomerative clustering ?\n",
    "\n",
    "1. At the start, treat each data point as one cluster. Therefore, the number of clusters at the start will be K, while K is an integer representing the number of data points.\n",
    "1. Form a cluster by joining the two closest data points resulting in K-1 clusters.\n",
    "1. Form more clusters by joining the two closest clusters resulting in K-2 clusters.\n",
    "1. Repeat the above three steps until one big cluster is formed.\n",
    "1. Once single cluster is formed, dendrograms are used to divide into multiple clusters depending upon the problem. We will study the concept of dendrogram in detail in an upcoming section.\n",
    "\n",
    "There are different ways to find distance between the clusters. The distance itself can be Euclidean or Manhattan distance. Following are some of the options to measure distance between two clusters:\n",
    "\n",
    "1. Measure the distance between the closes points of two clusters.\n",
    "1. Measure the distance between the farthest points of two clusters.\n",
    "1. Measure the distance between the centroids of two clusters.\n",
    "1. 1. Measure the distance between all possible combination of points between the two clusters and take the mean."
   ]
  },
  {
   "cell_type": "markdown",
   "metadata": {
    "papermill": {
     "duration": 0.028758,
     "end_time": "2020-11-11T14:14:24.857774",
     "exception": false,
     "start_time": "2020-11-11T14:14:24.829016",
     "status": "completed"
    },
    "tags": []
   },
   "source": [
    "# Example 1: cluster the X NumPy array of data points"
   ]
  },
  {
   "cell_type": "code",
   "execution_count": 3,
   "metadata": {
    "papermill": {
     "duration": 0.042331,
     "end_time": "2020-11-11T14:14:24.928669",
     "exception": false,
     "start_time": "2020-11-11T14:14:24.886338",
     "status": "completed"
    },
    "tags": []
   },
   "outputs": [],
   "source": [
    "import numpy as np\n",
    "\n",
    "X = np.array([[5,3],\n",
    "    [10,15],\n",
    "    [15,12],\n",
    "    [24,10],\n",
    "    [30,30],\n",
    "    [85,70],\n",
    "    [71,80],\n",
    "    [60,78],\n",
    "    [70,55],\n",
    "    [80,91],])"
   ]
  },
  {
   "cell_type": "markdown",
   "metadata": {
    "papermill": {
     "duration": 0.02882,
     "end_time": "2020-11-11T14:14:24.987154",
     "exception": false,
     "start_time": "2020-11-11T14:14:24.958334",
     "status": "completed"
    },
    "tags": []
   },
   "source": [
    "Let's plot the above data points\n",
    "\n"
   ]
  },
  {
   "cell_type": "code",
   "execution_count": 6,
   "metadata": {
    "papermill": {
     "duration": 0.286123,
     "end_time": "2020-11-11T14:14:25.302319",
     "exception": false,
     "start_time": "2020-11-11T14:14:25.016196",
     "status": "completed"
    },
    "tags": []
   },
   "outputs": [
    {
     "data": {
      "image/png": "[encoded data removed]",
      "text/plain": [
       "<Figure size 1000x700 with 1 Axes>"
      ]
     },
     "metadata": {},
     "output_type": "display_data"
    }
   ],
   "source": [
    "import matplotlib.pyplot as plt\n",
    "\n",
    "labels = range(1, 11)\n",
    "plt.figure(figsize=(10, 7))\n",
    "plt.subplots_adjust(bottom=0.1)\n",
    "plt.scatter(X[:,0],X[:,1], label='True Position')\n",
    "\n",
    "for label, x, y in zip(labels, X[:, 0], X[:, 1]):\n",
    "    plt.annotate(\n",
    "        label,\n",
    "        xy=(x, y), xytext=(-3, 3),\n",
    "        textcoords='offset points', ha='right', va='bottom')\n",
    "plt.show()\n",
    "\n",
    "\n",
    "\n"
   ]
  },
  {
   "cell_type": "markdown",
   "metadata": {
    "papermill": {
     "duration": 0.029961,
     "end_time": "2020-11-11T14:14:25.362560",
     "exception": false,
     "start_time": "2020-11-11T14:14:25.332599",
     "status": "completed"
    },
    "tags": []
   },
   "source": [
    "<left>Figure. 7.</left>\n"
   ]
  },
  {
   "cell_type": "markdown",
   "metadata": {
    "papermill": {
     "duration": 0.029579,
     "end_time": "2020-11-11T14:14:25.422235",
     "exception": false,
     "start_time": "2020-11-11T14:14:25.392656",
     "status": "completed"
    },
    "tags": []
   },
   "source": [
    "As you can see in figure 7. above we can see two clusters: the first at the bottom left consisting of points 1-5 while the second at the top right consisting of points 6-10."
   ]
  },
  {
   "cell_type": "markdown",
   "metadata": {
    "papermill": {
     "duration": 0.029805,
     "end_time": "2020-11-11T14:14:25.481631",
     "exception": false,
     "start_time": "2020-11-11T14:14:25.451826",
     "status": "completed"
    },
    "tags": []
   },
   "source": [
    "let's draw the dendrograms for our data points"
   ]
  },
  {
   "cell_type": "code",
   "execution_count": 11,
   "metadata": {
    "papermill": {
     "duration": 0.665295,
     "end_time": "2020-11-11T14:14:26.177020",
     "exception": false,
     "start_time": "2020-11-11T14:14:25.511725",
     "status": "completed"
    },
    "tags": []
   },
   "outputs": [
    {
     "data": {
      "image/png": "[encoded data removed]",
      "text/plain": [
       "<Figure size 1000x700 with 1 Axes>"
      ]
     },
     "metadata": {},
     "output_type": "display_data"
    }
   ],
   "source": [
    "from scipy.cluster.hierarchy import dendrogram, linkage\n",
    "from matplotlib import pyplot as plt\n",
    "\n",
    "linked = linkage(X, 'single')\n",
    "\n",
    "labelList = range(1, 11)\n",
    "\n",
    "plt.figure(figsize=(10, 7))\n",
    "dendrogram(linked,\n",
    "            orientation='top',\n",
    "            labels=labelList,\n",
    "            distance_sort='descending',\n",
    "            show_leaf_counts=True)\n",
    "plt.show()\n",
    "\n"
   ]
  },
  {
   "cell_type": "markdown",
   "metadata": {
    "papermill": {
     "duration": 0.031078,
     "end_time": "2020-11-11T14:14:26.239070",
     "exception": false,
     "start_time": "2020-11-11T14:14:26.207992",
     "status": "completed"
    },
    "tags": []
   },
   "source": [
    "<left>Figure. 8.</left>\n"
   ]
  },
  {
   "cell_type": "markdown",
   "metadata": {
    "papermill": {
     "duration": 0.031173,
     "end_time": "2020-11-11T14:14:26.301851",
     "exception": false,
     "start_time": "2020-11-11T14:14:26.270678",
     "status": "completed"
    },
    "tags": []
   },
   "source": [
    "The algorithm starts by finding the two points that are closest to each other based on Euclidean distance. If we look back at Figure 7, we can see that points 2 and 3 are closest to each other while points 7 and 8 are closes to each other. Therefore a cluster will be formed between these two points first. In Figure 8, you can see that the dendrograms have been created joining points 2 with 3, and 8 with 7. The vertical height of the dendrogram shows the Euclidean distances between points. From Graph2, it can be seen that the Euclidean distance between points 8 and 7 is greater than the distance between points 2 and 3. The next step is to join the cluster formed by joining two points to the next nearest cluster or point which in turn results in another cluster. "
   ]
  },
  {
   "cell_type": "markdown",
   "metadata": {
    "papermill": {
     "duration": 0.030853,
     "end_time": "2020-11-11T14:14:26.363743",
     "exception": false,
     "start_time": "2020-11-11T14:14:26.332890",
     "status": "completed"
    },
    "tags": []
   },
   "source": [
    "## Example 2 : Practice with Anime Dataset"
   ]
  },
  {
   "cell_type": "code",
   "execution_count": 57,
   "metadata": {
    "_cell_guid": "b1076dfc-b9ad-4769-8c92-a6c4dae69d19",
    "_uuid": "8f2839f25d086af736a60e9eeb907d3b93b6e0e5",
    "papermill": {
     "duration": 1.460891,
     "end_time": "2020-11-11T14:14:27.855754",
     "exception": false,
     "start_time": "2020-11-11T14:14:26.394863",
     "status": "completed"
    },
    "tags": []
   },
   "outputs": [],
   "source": [
    "import numpy as np\n",
    "import pylab as pl\n",
    "import pandas as pd\n",
    "import matplotlib.pyplot as plt \n",
    "%matplotlib inline\n",
    "import seaborn as sns\n",
    "from sklearn.utils import shuffle\n",
    "from matplotlib import pyplot as plt\n",
    "from scipy.cluster.hierarchy import dendrogram\n",
    "from sklearn.datasets import load_iris\n",
    "from sklearn.cluster import AgglomerativeClustering"
   ]
  },
  {
   "cell_type": "code",
   "execution_count": 59,
   "metadata": {
    "papermill": {
     "duration": 2.457866,
     "end_time": "2020-11-11T14:14:30.344995",
     "exception": false,
     "start_time": "2020-11-11T14:14:27.887129",
     "status": "completed"
    },
    "tags": []
   },
   "outputs": [],
   "source": [
    "anime = pd.read_csv(\"anime.csv\")\n",
    "rating = pd.read_csv(\"rating.csv\")"
   ]
  },
  {
   "cell_type": "code",
   "execution_count": 60,
   "metadata": {
    "papermill": {
     "duration": 0.060325,
     "end_time": "2020-11-11T14:14:30.437590",
     "exception": false,
     "start_time": "2020-11-11T14:14:30.377265",
     "status": "completed"
    },
    "tags": []
   },
   "outputs": [
    {
     "data": {
      "text/html": [
       "<div>\n",
       "<style scoped>\n",
       "    .dataframe tbody tr th:only-of-type {\n",
       "        vertical-align: middle;\n",
       "    }\n",
       "\n",
       "    .dataframe tbody tr th {\n",
       "        vertical-align: top;\n",
       "    }\n",
       "\n",
       "    .dataframe thead th {\n",
       "        text-align: right;\n",
       "    }\n",
       "</style>\n",
       "<table border=\"1\" class=\"dataframe\">\n",
       "  <thead>\n",
       "    <tr style=\"text-align: right;\">\n",
       "      <th></th>\n",
       "      <th>anime_id</th>\n",
       "      <th>name</th>\n",
       "      <th>genre</th>\n",
       "      <th>type</th>\n",
       "      <th>episodes</th>\n",
       "      <th>rating</th>\n",
       "      <th>members</th>\n",
       "    </tr>\n",
       "  </thead>\n",
       "  <tbody>\n",
       "    <tr>\n",
       "      <th>0</th>\n",
       "      <td>32281</td>\n",
       "      <td>Kimi no Na wa.</td>\n",
       "      <td>Drama, Romance, School, Supernatural</td>\n",
       "      <td>Movie</td>\n",
       "      <td>1</td>\n",
       "      <td>9.37</td>\n",
       "      <td>200630</td>\n",
       "    </tr>\n",
       "    <tr>\n",
       "      <th>1</th>\n",
       "      <td>5114</td>\n",
       "      <td>Fullmetal Alchemist: Brotherhood</td>\n",
       "      <td>Action, Adventure, Drama, Fantasy, Magic, Mili...</td>\n",
       "      <td>TV</td>\n",
       "      <td>64</td>\n",
       "      <td>9.26</td>\n",
       "      <td>793665</td>\n",
       "    </tr>\n",
       "    <tr>\n",
       "      <th>2</th>\n",
       "      <td>28977</td>\n",
       "      <td>Gintama°</td>\n",
       "      <td>Action, Comedy, Historical, Parody, Samurai, S...</td>\n",
       "      <td>TV</td>\n",
       "      <td>51</td>\n",
       "      <td>9.25</td>\n",
       "      <td>114262</td>\n",
       "    </tr>\n",
       "    <tr>\n",
       "      <th>3</th>\n",
       "      <td>9253</td>\n",
       "      <td>Steins;Gate</td>\n",
       "      <td>Sci-Fi, Thriller</td>\n",
       "      <td>TV</td>\n",
       "      <td>24</td>\n",
       "      <td>9.17</td>\n",
       "      <td>673572</td>\n",
       "    </tr>\n",
       "    <tr>\n",
       "      <th>4</th>\n",
       "      <td>9969</td>\n",
       "      <td>Gintama&amp;#039;</td>\n",
       "      <td>Action, Comedy, Historical, Parody, Samurai, S...</td>\n",
       "      <td>TV</td>\n",
       "      <td>51</td>\n",
       "      <td>9.16</td>\n",
       "      <td>151266</td>\n",
       "    </tr>\n",
       "  </tbody>\n",
       "</table>\n",
       "</div>"
      ],
      "text/plain": [
       "   anime_id                              name  \\\n",
       "0     32281                    Kimi no Na wa.   \n",
       "1      5114  Fullmetal Alchemist: Brotherhood   \n",
       "2     28977                          Gintama°   \n",
       "3      9253                       Steins;Gate   \n",
       "4      9969                     Gintama&#039;   \n",
       "\n",
       "                                               genre   type episodes  rating  \\\n",
       "0               Drama, Romance, School, Supernatural  Movie        1    9.37   \n",
       "1  Action, Adventure, Drama, Fantasy, Magic, Mili...     TV       64    9.26   \n",
       "2  Action, Comedy, Historical, Parody, Samurai, S...     TV       51    9.25   \n",
       "3                                   Sci-Fi, Thriller     TV       24    9.17   \n",
       "4  Action, Comedy, Historical, Parody, Samurai, S...     TV       51    9.16   \n",
       "\n",
       "   members  \n",
       "0   200630  \n",
       "1   793665  \n",
       "2   114262  \n",
       "3   673572  \n",
       "4   151266  "
      ]
     },
     "execution_count": 60,
     "metadata": {},
     "output_type": "execute_result"
    }
   ],
   "source": [
    "anime.head()"
   ]
  },
  {
   "cell_type": "markdown",
   "metadata": {
    "papermill": {
     "duration": 0.0469,
     "end_time": "2020-11-11T14:14:30.532699",
     "exception": false,
     "start_time": "2020-11-11T14:14:30.485799",
     "status": "completed"
    },
    "tags": []
   },
   "source": [
    "Modeling user rating"
   ]
  },
  {
   "cell_type": "code",
   "execution_count": 62,
   "metadata": {
    "papermill": {
     "duration": 0.061055,
     "end_time": "2020-11-11T14:14:30.641502",
     "exception": false,
     "start_time": "2020-11-11T14:14:30.580447",
     "status": "completed"
    },
    "tags": []
   },
   "outputs": [
    {
     "data": {
      "text/html": [
       "<div>\n",
       "<style scoped>\n",
       "    .dataframe tbody tr th:only-of-type {\n",
       "        vertical-align: middle;\n",
       "    }\n",
       "\n",
       "    .dataframe tbody tr th {\n",
       "        vertical-align: top;\n",
       "    }\n",
       "\n",
       "    .dataframe thead th {\n",
       "        text-align: right;\n",
       "    }\n",
       "</style>\n",
       "<table border=\"1\" class=\"dataframe\">\n",
       "  <thead>\n",
       "    <tr style=\"text-align: right;\">\n",
       "      <th></th>\n",
       "      <th>user_id</th>\n",
       "      <th>anime_id</th>\n",
       "      <th>rating</th>\n",
       "    </tr>\n",
       "  </thead>\n",
       "  <tbody>\n",
       "    <tr>\n",
       "      <th>0</th>\n",
       "      <td>1</td>\n",
       "      <td>20</td>\n",
       "      <td>-1</td>\n",
       "    </tr>\n",
       "    <tr>\n",
       "      <th>1</th>\n",
       "      <td>1</td>\n",
       "      <td>24</td>\n",
       "      <td>-1</td>\n",
       "    </tr>\n",
       "    <tr>\n",
       "      <th>2</th>\n",
       "      <td>1</td>\n",
       "      <td>79</td>\n",
       "      <td>-1</td>\n",
       "    </tr>\n",
       "    <tr>\n",
       "      <th>3</th>\n",
       "      <td>1</td>\n",
       "      <td>226</td>\n",
       "      <td>-1</td>\n",
       "    </tr>\n",
       "    <tr>\n",
       "      <th>4</th>\n",
       "      <td>1</td>\n",
       "      <td>241</td>\n",
       "      <td>-1</td>\n",
       "    </tr>\n",
       "  </tbody>\n",
       "</table>\n",
       "</div>"
      ],
      "text/plain": [
       "   user_id  anime_id  rating\n",
       "0        1        20      -1\n",
       "1        1        24      -1\n",
       "2        1        79      -1\n",
       "3        1       226      -1\n",
       "4        1       241      -1"
      ]
     },
     "execution_count": 62,
     "metadata": {},
     "output_type": "execute_result"
    }
   ],
   "source": [
    "rating.head()"
   ]
  },
  {
   "cell_type": "code",
   "execution_count": 63,
   "metadata": {},
   "outputs": [],
   "source": [
    "rating = rating.head(10000).copy()"
   ]
  },
  {
   "cell_type": "code",
   "execution_count": 68,
   "metadata": {},
   "outputs": [],
   "source": [
    "cnt_pro = rating['rating'].value_counts()"
   ]
  },
  {
   "cell_type": "code",
   "execution_count": 70,
   "metadata": {},
   "outputs": [
    {
     "data": {
      "text/plain": [
       "Index([-1, 8, 9, 7, 10, 6, 5, 4, 3, 2, 1], dtype='int64', name='rating')"
      ]
     },
     "execution_count": 70,
     "metadata": {},
     "output_type": "execute_result"
    }
   ],
   "source": [
    "cnt_pro.index"
   ]
  },
  {
   "cell_type": "code",
   "execution_count": 72,
   "metadata": {},
   "outputs": [
    {
     "data": {
      "text/plain": [
       "array([2210, 1908, 1689, 1473, 1210,  693,  374,  150,  108,   93,   92],\n",
       "      dtype=int64)"
      ]
     },
     "execution_count": 72,
     "metadata": {},
     "output_type": "execute_result"
    }
   ],
   "source": [
    "cnt_pro.values"
   ]
  },
  {
   "cell_type": "code",
   "execution_count": 73,
   "metadata": {
    "papermill": {
     "duration": 0.303606,
     "end_time": "2020-11-11T14:14:30.978195",
     "exception": false,
     "start_time": "2020-11-11T14:14:30.674589",
     "status": "completed"
    },
    "tags": []
   },
   "outputs": [
    {
     "data": {
      "image/png": "[encoded data removed]",
      "text/plain": [
       "<Figure size 600x400 with 1 Axes>"
      ]
     },
     "metadata": {},
     "output_type": "display_data"
    }
   ],
   "source": [
    "\n",
    "plt.figure(figsize=(6,4))\n",
    "sns.barplot(data=cnt_pro, x=cnt_pro.values, y=cnt_pro.index, alpha=0.8)\n",
    "plt.ylabel('Number of rating', fontsize=12)\n",
    "plt.xlabel('rating', fontsize=12)\n",
    "plt.xticks(rotation=80)\n",
    "plt.show();"
   ]
  },
  {
   "cell_type": "markdown",
   "metadata": {
    "papermill": {
     "duration": 0.049419,
     "end_time": "2020-11-11T14:14:31.080207",
     "exception": false,
     "start_time": "2020-11-11T14:14:31.030788",
     "status": "completed"
    },
    "tags": []
   },
   "source": [
    "Here we are computing the ratings with each user_id, first group the user_id and get max and mean of ratings"
   ]
  },
  {
   "cell_type": "code",
   "execution_count": 77,
   "metadata": {
    "papermill": {
     "duration": 0.059019,
     "end_time": "2020-11-11T14:14:31.188991",
     "exception": false,
     "start_time": "2020-11-11T14:14:31.129972",
     "status": "completed"
    },
    "tags": []
   },
   "outputs": [],
   "source": [
    "#display(rating[[\"user_id\",\"rating\",]].groupby([\"user_id\"]).agg([\"max\",'mean']).style.background_gradient(cmap=\"copper\"))"
   ]
  },
  {
   "cell_type": "code",
   "execution_count": 79,
   "metadata": {
    "papermill": {
     "duration": 0.32676,
     "end_time": "2020-11-11T14:14:31.549310",
     "exception": false,
     "start_time": "2020-11-11T14:14:31.222550",
     "status": "completed"
    },
    "tags": []
   },
   "outputs": [],
   "source": [
    "Mean_rate = rating.groupby(['user_id']).mean().reset_index()\n",
    "Mean_rate['mean_rating'] = Mean_rate['rating']\n",
    "Mean_rate.drop(['anime_id','rating'],axis=1, inplace=True)\n"
   ]
  },
  {
   "cell_type": "code",
   "execution_count": 81,
   "metadata": {
    "papermill": {
     "duration": 0.048671,
     "end_time": "2020-11-11T14:14:31.631019",
     "exception": false,
     "start_time": "2020-11-11T14:14:31.582348",
     "status": "completed"
    },
    "tags": []
   },
   "outputs": [
    {
     "data": {
      "text/html": [
       "<div>\n",
       "<style scoped>\n",
       "    .dataframe tbody tr th:only-of-type {\n",
       "        vertical-align: middle;\n",
       "    }\n",
       "\n",
       "    .dataframe tbody tr th {\n",
       "        vertical-align: top;\n",
       "    }\n",
       "\n",
       "    .dataframe thead th {\n",
       "        text-align: right;\n",
       "    }\n",
       "</style>\n",
       "<table border=\"1\" class=\"dataframe\">\n",
       "  <thead>\n",
       "    <tr style=\"text-align: right;\">\n",
       "      <th></th>\n",
       "      <th>user_id</th>\n",
       "      <th>mean_rating</th>\n",
       "    </tr>\n",
       "  </thead>\n",
       "  <tbody>\n",
       "    <tr>\n",
       "      <th>0</th>\n",
       "      <td>1</td>\n",
       "      <td>-0.712418</td>\n",
       "    </tr>\n",
       "    <tr>\n",
       "      <th>1</th>\n",
       "      <td>2</td>\n",
       "      <td>2.666667</td>\n",
       "    </tr>\n",
       "    <tr>\n",
       "      <th>2</th>\n",
       "      <td>3</td>\n",
       "      <td>7.382979</td>\n",
       "    </tr>\n",
       "    <tr>\n",
       "      <th>3</th>\n",
       "      <td>4</td>\n",
       "      <td>-1.000000</td>\n",
       "    </tr>\n",
       "    <tr>\n",
       "      <th>4</th>\n",
       "      <td>5</td>\n",
       "      <td>4.263383</td>\n",
       "    </tr>\n",
       "  </tbody>\n",
       "</table>\n",
       "</div>"
      ],
      "text/plain": [
       "   user_id  mean_rating\n",
       "0        1    -0.712418\n",
       "1        2     2.666667\n",
       "2        3     7.382979\n",
       "3        4    -1.000000\n",
       "4        5     4.263383"
      ]
     },
     "execution_count": 81,
     "metadata": {},
     "output_type": "execute_result"
    }
   ],
   "source": [
    "Mean_rate.head()"
   ]
  },
  {
   "cell_type": "code",
   "execution_count": 83,
   "metadata": {
    "papermill": {
     "duration": 0.707038,
     "end_time": "2020-11-11T14:14:32.371297",
     "exception": false,
     "start_time": "2020-11-11T14:14:31.664259",
     "status": "completed"
    },
    "tags": []
   },
   "outputs": [
    {
     "data": {
      "text/html": [
       "<div>\n",
       "<style scoped>\n",
       "    .dataframe tbody tr th:only-of-type {\n",
       "        vertical-align: middle;\n",
       "    }\n",
       "\n",
       "    .dataframe tbody tr th {\n",
       "        vertical-align: top;\n",
       "    }\n",
       "\n",
       "    .dataframe thead th {\n",
       "        text-align: right;\n",
       "    }\n",
       "</style>\n",
       "<table border=\"1\" class=\"dataframe\">\n",
       "  <thead>\n",
       "    <tr style=\"text-align: right;\">\n",
       "      <th></th>\n",
       "      <th>user_id</th>\n",
       "      <th>anime_id</th>\n",
       "      <th>rating</th>\n",
       "      <th>mean_rating</th>\n",
       "    </tr>\n",
       "  </thead>\n",
       "  <tbody>\n",
       "    <tr>\n",
       "      <th>0</th>\n",
       "      <td>1</td>\n",
       "      <td>20</td>\n",
       "      <td>-1</td>\n",
       "      <td>-0.712418</td>\n",
       "    </tr>\n",
       "    <tr>\n",
       "      <th>1</th>\n",
       "      <td>1</td>\n",
       "      <td>24</td>\n",
       "      <td>-1</td>\n",
       "      <td>-0.712418</td>\n",
       "    </tr>\n",
       "    <tr>\n",
       "      <th>2</th>\n",
       "      <td>1</td>\n",
       "      <td>79</td>\n",
       "      <td>-1</td>\n",
       "      <td>-0.712418</td>\n",
       "    </tr>\n",
       "    <tr>\n",
       "      <th>3</th>\n",
       "      <td>1</td>\n",
       "      <td>226</td>\n",
       "      <td>-1</td>\n",
       "      <td>-0.712418</td>\n",
       "    </tr>\n",
       "    <tr>\n",
       "      <th>4</th>\n",
       "      <td>1</td>\n",
       "      <td>241</td>\n",
       "      <td>-1</td>\n",
       "      <td>-0.712418</td>\n",
       "    </tr>\n",
       "  </tbody>\n",
       "</table>\n",
       "</div>"
      ],
      "text/plain": [
       "   user_id  anime_id  rating  mean_rating\n",
       "0        1        20      -1    -0.712418\n",
       "1        1        24      -1    -0.712418\n",
       "2        1        79      -1    -0.712418\n",
       "3        1       226      -1    -0.712418\n",
       "4        1       241      -1    -0.712418"
      ]
     },
     "execution_count": 83,
     "metadata": {},
     "output_type": "execute_result"
    }
   ],
   "source": [
    "user = pd.merge(rating,Mean_rate,on=['user_id','user_id'])\n",
    "user.head()\n"
   ]
  },
  {
   "cell_type": "code",
   "execution_count": 85,
   "metadata": {
    "papermill": {
     "duration": 2.021894,
     "end_time": "2020-11-11T14:14:34.444280",
     "exception": false,
     "start_time": "2020-11-11T14:14:32.422386",
     "status": "completed"
    },
    "tags": []
   },
   "outputs": [
    {
     "data": {
      "text/html": [
       "<div>\n",
       "<style scoped>\n",
       "    .dataframe tbody tr th:only-of-type {\n",
       "        vertical-align: middle;\n",
       "    }\n",
       "\n",
       "    .dataframe tbody tr th {\n",
       "        vertical-align: top;\n",
       "    }\n",
       "\n",
       "    .dataframe thead th {\n",
       "        text-align: right;\n",
       "    }\n",
       "</style>\n",
       "<table border=\"1\" class=\"dataframe\">\n",
       "  <thead>\n",
       "    <tr style=\"text-align: right;\">\n",
       "      <th></th>\n",
       "      <th>user_id</th>\n",
       "      <th>anime_id</th>\n",
       "      <th>rating</th>\n",
       "      <th>mean_rating</th>\n",
       "    </tr>\n",
       "  </thead>\n",
       "  <tbody>\n",
       "    <tr>\n",
       "      <th>47</th>\n",
       "      <td>1</td>\n",
       "      <td>8074</td>\n",
       "      <td>10</td>\n",
       "      <td>-0.712418</td>\n",
       "    </tr>\n",
       "    <tr>\n",
       "      <th>81</th>\n",
       "      <td>1</td>\n",
       "      <td>11617</td>\n",
       "      <td>10</td>\n",
       "      <td>-0.712418</td>\n",
       "    </tr>\n",
       "    <tr>\n",
       "      <th>83</th>\n",
       "      <td>1</td>\n",
       "      <td>11757</td>\n",
       "      <td>10</td>\n",
       "      <td>-0.712418</td>\n",
       "    </tr>\n",
       "    <tr>\n",
       "      <th>101</th>\n",
       "      <td>1</td>\n",
       "      <td>15451</td>\n",
       "      <td>10</td>\n",
       "      <td>-0.712418</td>\n",
       "    </tr>\n",
       "    <tr>\n",
       "      <th>153</th>\n",
       "      <td>2</td>\n",
       "      <td>11771</td>\n",
       "      <td>10</td>\n",
       "      <td>2.666667</td>\n",
       "    </tr>\n",
       "    <tr>\n",
       "      <th>...</th>\n",
       "      <td>...</td>\n",
       "      <td>...</td>\n",
       "      <td>...</td>\n",
       "      <td>...</td>\n",
       "    </tr>\n",
       "    <tr>\n",
       "      <th>9993</th>\n",
       "      <td>123</td>\n",
       "      <td>32093</td>\n",
       "      <td>9</td>\n",
       "      <td>7.046667</td>\n",
       "    </tr>\n",
       "    <tr>\n",
       "      <th>9994</th>\n",
       "      <td>123</td>\n",
       "      <td>32175</td>\n",
       "      <td>9</td>\n",
       "      <td>7.046667</td>\n",
       "    </tr>\n",
       "    <tr>\n",
       "      <th>9995</th>\n",
       "      <td>123</td>\n",
       "      <td>32182</td>\n",
       "      <td>9</td>\n",
       "      <td>7.046667</td>\n",
       "    </tr>\n",
       "    <tr>\n",
       "      <th>9996</th>\n",
       "      <td>123</td>\n",
       "      <td>32245</td>\n",
       "      <td>8</td>\n",
       "      <td>7.046667</td>\n",
       "    </tr>\n",
       "    <tr>\n",
       "      <th>9999</th>\n",
       "      <td>123</td>\n",
       "      <td>32491</td>\n",
       "      <td>8</td>\n",
       "      <td>7.046667</td>\n",
       "    </tr>\n",
       "  </tbody>\n",
       "</table>\n",
       "<p>5886 rows × 4 columns</p>\n",
       "</div>"
      ],
      "text/plain": [
       "      user_id  anime_id  rating  mean_rating\n",
       "47          1      8074      10    -0.712418\n",
       "81          1     11617      10    -0.712418\n",
       "83          1     11757      10    -0.712418\n",
       "101         1     15451      10    -0.712418\n",
       "153         2     11771      10     2.666667\n",
       "...       ...       ...     ...          ...\n",
       "9993      123     32093       9     7.046667\n",
       "9994      123     32175       9     7.046667\n",
       "9995      123     32182       9     7.046667\n",
       "9996      123     32245       8     7.046667\n",
       "9999      123     32491       8     7.046667\n",
       "\n",
       "[5886 rows x 4 columns]"
      ]
     },
     "execution_count": 85,
     "metadata": {},
     "output_type": "execute_result"
    }
   ],
   "source": [
    "user = user.drop(user[user.rating < user.mean_rating].index)\n",
    "user"
   ]
  },
  {
   "cell_type": "code",
   "execution_count": 86,
   "metadata": {
    "papermill": {
     "duration": 0.053735,
     "end_time": "2020-11-11T14:14:34.533519",
     "exception": false,
     "start_time": "2020-11-11T14:14:34.479784",
     "status": "completed"
    },
    "tags": []
   },
   "outputs": [
    {
     "data": {
      "text/html": [
       "<div>\n",
       "<style scoped>\n",
       "    .dataframe tbody tr th:only-of-type {\n",
       "        vertical-align: middle;\n",
       "    }\n",
       "\n",
       "    .dataframe tbody tr th {\n",
       "        vertical-align: top;\n",
       "    }\n",
       "\n",
       "    .dataframe thead th {\n",
       "        text-align: right;\n",
       "    }\n",
       "</style>\n",
       "<table border=\"1\" class=\"dataframe\">\n",
       "  <thead>\n",
       "    <tr style=\"text-align: right;\">\n",
       "      <th></th>\n",
       "      <th>user_id</th>\n",
       "      <th>anime_id</th>\n",
       "      <th>rating</th>\n",
       "      <th>mean_rating</th>\n",
       "    </tr>\n",
       "  </thead>\n",
       "  <tbody>\n",
       "    <tr>\n",
       "      <th>153</th>\n",
       "      <td>2</td>\n",
       "      <td>11771</td>\n",
       "      <td>10</td>\n",
       "      <td>2.666667</td>\n",
       "    </tr>\n",
       "  </tbody>\n",
       "</table>\n",
       "</div>"
      ],
      "text/plain": [
       "     user_id  anime_id  rating  mean_rating\n",
       "153        2     11771      10     2.666667"
      ]
     },
     "execution_count": 86,
     "metadata": {},
     "output_type": "execute_result"
    }
   ],
   "source": [
    "user[user['user_id']==2].head(10)\n"
   ]
  },
  {
   "cell_type": "code",
   "execution_count": 88,
   "metadata": {
    "papermill": {
     "duration": 0.059929,
     "end_time": "2020-11-11T14:14:34.629147",
     "exception": false,
     "start_time": "2020-11-11T14:14:34.569218",
     "status": "completed"
    },
    "tags": []
   },
   "outputs": [
    {
     "data": {
      "text/html": [
       "<div>\n",
       "<style scoped>\n",
       "    .dataframe tbody tr th:only-of-type {\n",
       "        vertical-align: middle;\n",
       "    }\n",
       "\n",
       "    .dataframe tbody tr th {\n",
       "        vertical-align: top;\n",
       "    }\n",
       "\n",
       "    .dataframe thead th {\n",
       "        text-align: right;\n",
       "    }\n",
       "</style>\n",
       "<table border=\"1\" class=\"dataframe\">\n",
       "  <thead>\n",
       "    <tr style=\"text-align: right;\">\n",
       "      <th></th>\n",
       "      <th>user_id</th>\n",
       "      <th>anime_id</th>\n",
       "      <th>rating</th>\n",
       "      <th>mean_rating</th>\n",
       "    </tr>\n",
       "  </thead>\n",
       "  <tbody>\n",
       "    <tr>\n",
       "      <th>47</th>\n",
       "      <td>1</td>\n",
       "      <td>8074</td>\n",
       "      <td>10</td>\n",
       "      <td>-0.712418</td>\n",
       "    </tr>\n",
       "    <tr>\n",
       "      <th>81</th>\n",
       "      <td>1</td>\n",
       "      <td>11617</td>\n",
       "      <td>10</td>\n",
       "      <td>-0.712418</td>\n",
       "    </tr>\n",
       "    <tr>\n",
       "      <th>83</th>\n",
       "      <td>1</td>\n",
       "      <td>11757</td>\n",
       "      <td>10</td>\n",
       "      <td>-0.712418</td>\n",
       "    </tr>\n",
       "    <tr>\n",
       "      <th>101</th>\n",
       "      <td>1</td>\n",
       "      <td>15451</td>\n",
       "      <td>10</td>\n",
       "      <td>-0.712418</td>\n",
       "    </tr>\n",
       "  </tbody>\n",
       "</table>\n",
       "</div>"
      ],
      "text/plain": [
       "     user_id  anime_id  rating  mean_rating\n",
       "47         1      8074      10    -0.712418\n",
       "81         1     11617      10    -0.712418\n",
       "83         1     11757      10    -0.712418\n",
       "101        1     15451      10    -0.712418"
      ]
     },
     "execution_count": 88,
     "metadata": {},
     "output_type": "execute_result"
    }
   ],
   "source": [
    "user[user['user_id']==1].head(10)"
   ]
  },
  {
   "cell_type": "markdown",
   "metadata": {
    "papermill": {
     "duration": 0.035247,
     "end_time": "2020-11-11T14:14:34.701534",
     "exception": false,
     "start_time": "2020-11-11T14:14:34.666287",
     "status": "completed"
    },
    "tags": []
   },
   "source": [
    "# # Merge Dataset"
   ]
  },
  {
   "cell_type": "markdown",
   "metadata": {
    "papermill": {
     "duration": 0.035007,
     "end_time": "2020-11-11T14:14:34.771865",
     "exception": false,
     "start_time": "2020-11-11T14:14:34.736858",
     "status": "completed"
    },
    "tags": []
   },
   "source": [
    "Because Hierarchical clustering has High space and time complexity. Hence this clustering algorithm cannot be used when we have huge data. So we reduce the data, this work we only use 10000 data"
   ]
  },
  {
   "cell_type": "code",
   "execution_count": 93,
   "metadata": {
    "papermill": {
     "duration": 1.27655,
     "end_time": "2020-11-11T14:14:36.086122",
     "exception": false,
     "start_time": "2020-11-11T14:14:34.809572",
     "status": "completed"
    },
    "tags": []
   },
   "outputs": [
    {
     "data": {
      "text/html": [
       "<div>\n",
       "<style scoped>\n",
       "    .dataframe tbody tr th:only-of-type {\n",
       "        vertical-align: middle;\n",
       "    }\n",
       "\n",
       "    .dataframe tbody tr th {\n",
       "        vertical-align: top;\n",
       "    }\n",
       "\n",
       "    .dataframe thead th {\n",
       "        text-align: right;\n",
       "    }\n",
       "</style>\n",
       "<table border=\"1\" class=\"dataframe\">\n",
       "  <thead>\n",
       "    <tr style=\"text-align: right;\">\n",
       "      <th></th>\n",
       "      <th>anime_id</th>\n",
       "      <th>name</th>\n",
       "      <th>genre</th>\n",
       "      <th>type</th>\n",
       "      <th>episodes</th>\n",
       "      <th>rating_x</th>\n",
       "      <th>members</th>\n",
       "      <th>user_id</th>\n",
       "      <th>rating_y</th>\n",
       "      <th>mean_rating</th>\n",
       "    </tr>\n",
       "  </thead>\n",
       "  <tbody>\n",
       "    <tr>\n",
       "      <th>0</th>\n",
       "      <td>5114</td>\n",
       "      <td>Fullmetal Alchemist: Brotherhood</td>\n",
       "      <td>Action, Adventure, Drama, Fantasy, Magic, Mili...</td>\n",
       "      <td>TV</td>\n",
       "      <td>64</td>\n",
       "      <td>9.26</td>\n",
       "      <td>793665</td>\n",
       "      <td>3</td>\n",
       "      <td>10</td>\n",
       "      <td>7.382979</td>\n",
       "    </tr>\n",
       "    <tr>\n",
       "      <th>1</th>\n",
       "      <td>5114</td>\n",
       "      <td>Fullmetal Alchemist: Brotherhood</td>\n",
       "      <td>Action, Adventure, Drama, Fantasy, Magic, Mili...</td>\n",
       "      <td>TV</td>\n",
       "      <td>64</td>\n",
       "      <td>9.26</td>\n",
       "      <td>793665</td>\n",
       "      <td>10</td>\n",
       "      <td>10</td>\n",
       "      <td>2.875000</td>\n",
       "    </tr>\n",
       "    <tr>\n",
       "      <th>2</th>\n",
       "      <td>5114</td>\n",
       "      <td>Fullmetal Alchemist: Brotherhood</td>\n",
       "      <td>Action, Adventure, Drama, Fantasy, Magic, Mili...</td>\n",
       "      <td>TV</td>\n",
       "      <td>64</td>\n",
       "      <td>9.26</td>\n",
       "      <td>793665</td>\n",
       "      <td>11</td>\n",
       "      <td>8</td>\n",
       "      <td>7.178571</td>\n",
       "    </tr>\n",
       "    <tr>\n",
       "      <th>3</th>\n",
       "      <td>5114</td>\n",
       "      <td>Fullmetal Alchemist: Brotherhood</td>\n",
       "      <td>Action, Adventure, Drama, Fantasy, Magic, Mili...</td>\n",
       "      <td>TV</td>\n",
       "      <td>64</td>\n",
       "      <td>9.26</td>\n",
       "      <td>793665</td>\n",
       "      <td>12</td>\n",
       "      <td>9</td>\n",
       "      <td>8.818182</td>\n",
       "    </tr>\n",
       "    <tr>\n",
       "      <th>4</th>\n",
       "      <td>5114</td>\n",
       "      <td>Fullmetal Alchemist: Brotherhood</td>\n",
       "      <td>Action, Adventure, Drama, Fantasy, Magic, Mili...</td>\n",
       "      <td>TV</td>\n",
       "      <td>64</td>\n",
       "      <td>9.26</td>\n",
       "      <td>793665</td>\n",
       "      <td>17</td>\n",
       "      <td>10</td>\n",
       "      <td>4.351082</td>\n",
       "    </tr>\n",
       "    <tr>\n",
       "      <th>5</th>\n",
       "      <td>5114</td>\n",
       "      <td>Fullmetal Alchemist: Brotherhood</td>\n",
       "      <td>Action, Adventure, Drama, Fantasy, Magic, Mili...</td>\n",
       "      <td>TV</td>\n",
       "      <td>64</td>\n",
       "      <td>9.26</td>\n",
       "      <td>793665</td>\n",
       "      <td>19</td>\n",
       "      <td>9</td>\n",
       "      <td>8.380952</td>\n",
       "    </tr>\n",
       "    <tr>\n",
       "      <th>6</th>\n",
       "      <td>5114</td>\n",
       "      <td>Fullmetal Alchemist: Brotherhood</td>\n",
       "      <td>Action, Adventure, Drama, Fantasy, Magic, Mili...</td>\n",
       "      <td>TV</td>\n",
       "      <td>64</td>\n",
       "      <td>9.26</td>\n",
       "      <td>793665</td>\n",
       "      <td>21</td>\n",
       "      <td>9</td>\n",
       "      <td>7.622222</td>\n",
       "    </tr>\n",
       "    <tr>\n",
       "      <th>7</th>\n",
       "      <td>5114</td>\n",
       "      <td>Fullmetal Alchemist: Brotherhood</td>\n",
       "      <td>Action, Adventure, Drama, Fantasy, Magic, Mili...</td>\n",
       "      <td>TV</td>\n",
       "      <td>64</td>\n",
       "      <td>9.26</td>\n",
       "      <td>793665</td>\n",
       "      <td>30</td>\n",
       "      <td>10</td>\n",
       "      <td>5.153846</td>\n",
       "    </tr>\n",
       "    <tr>\n",
       "      <th>8</th>\n",
       "      <td>5114</td>\n",
       "      <td>Fullmetal Alchemist: Brotherhood</td>\n",
       "      <td>Action, Adventure, Drama, Fantasy, Magic, Mili...</td>\n",
       "      <td>TV</td>\n",
       "      <td>64</td>\n",
       "      <td>9.26</td>\n",
       "      <td>793665</td>\n",
       "      <td>38</td>\n",
       "      <td>10</td>\n",
       "      <td>6.703557</td>\n",
       "    </tr>\n",
       "    <tr>\n",
       "      <th>9</th>\n",
       "      <td>5114</td>\n",
       "      <td>Fullmetal Alchemist: Brotherhood</td>\n",
       "      <td>Action, Adventure, Drama, Fantasy, Magic, Mili...</td>\n",
       "      <td>TV</td>\n",
       "      <td>64</td>\n",
       "      <td>9.26</td>\n",
       "      <td>793665</td>\n",
       "      <td>39</td>\n",
       "      <td>10</td>\n",
       "      <td>1.912088</td>\n",
       "    </tr>\n",
       "  </tbody>\n",
       "</table>\n",
       "</div>"
      ],
      "text/plain": [
       "   anime_id                              name  \\\n",
       "0      5114  Fullmetal Alchemist: Brotherhood   \n",
       "1      5114  Fullmetal Alchemist: Brotherhood   \n",
       "2      5114  Fullmetal Alchemist: Brotherhood   \n",
       "3      5114  Fullmetal Alchemist: Brotherhood   \n",
       "4      5114  Fullmetal Alchemist: Brotherhood   \n",
       "5      5114  Fullmetal Alchemist: Brotherhood   \n",
       "6      5114  Fullmetal Alchemist: Brotherhood   \n",
       "7      5114  Fullmetal Alchemist: Brotherhood   \n",
       "8      5114  Fullmetal Alchemist: Brotherhood   \n",
       "9      5114  Fullmetal Alchemist: Brotherhood   \n",
       "\n",
       "                                               genre type episodes  rating_x  \\\n",
       "0  Action, Adventure, Drama, Fantasy, Magic, Mili...   TV       64      9.26   \n",
       "1  Action, Adventure, Drama, Fantasy, Magic, Mili...   TV       64      9.26   \n",
       "2  Action, Adventure, Drama, Fantasy, Magic, Mili...   TV       64      9.26   \n",
       "3  Action, Adventure, Drama, Fantasy, Magic, Mili...   TV       64      9.26   \n",
       "4  Action, Adventure, Drama, Fantasy, Magic, Mili...   TV       64      9.26   \n",
       "5  Action, Adventure, Drama, Fantasy, Magic, Mili...   TV       64      9.26   \n",
       "6  Action, Adventure, Drama, Fantasy, Magic, Mili...   TV       64      9.26   \n",
       "7  Action, Adventure, Drama, Fantasy, Magic, Mili...   TV       64      9.26   \n",
       "8  Action, Adventure, Drama, Fantasy, Magic, Mili...   TV       64      9.26   \n",
       "9  Action, Adventure, Drama, Fantasy, Magic, Mili...   TV       64      9.26   \n",
       "\n",
       "   members  user_id  rating_y  mean_rating  \n",
       "0   793665        3        10     7.382979  \n",
       "1   793665       10        10     2.875000  \n",
       "2   793665       11         8     7.178571  \n",
       "3   793665       12         9     8.818182  \n",
       "4   793665       17        10     4.351082  \n",
       "5   793665       19         9     8.380952  \n",
       "6   793665       21         9     7.622222  \n",
       "7   793665       30        10     5.153846  \n",
       "8   793665       38        10     6.703557  \n",
       "9   793665       39        10     1.912088  "
      ]
     },
     "execution_count": 93,
     "metadata": {},
     "output_type": "execute_result"
    }
   ],
   "source": [
    "Data = pd.merge(anime,user,on=['anime_id','anime_id'])\n",
    "Data= Data[Data.user_id <= 10000]\n",
    "Data.head(10)"
   ]
  },
  {
   "cell_type": "code",
   "execution_count": 95,
   "metadata": {
    "papermill": {
     "duration": 0.340107,
     "end_time": "2020-11-11T14:14:36.465295",
     "exception": false,
     "start_time": "2020-11-11T14:14:36.125188",
     "status": "completed"
    },
    "tags": []
   },
   "outputs": [
    {
     "name": "stdout",
     "output_type": "stream",
     "text": [
      "<class 'pandas.core.frame.DataFrame'>\n",
      "RangeIndex: 5886 entries, 0 to 5885\n",
      "Data columns (total 10 columns):\n",
      " #   Column       Non-Null Count  Dtype  \n",
      "---  ------       --------------  -----  \n",
      " 0   anime_id     5886 non-null   int64  \n",
      " 1   name         5886 non-null   object \n",
      " 2   genre        5886 non-null   object \n",
      " 3   type         5886 non-null   object \n",
      " 4   episodes     5886 non-null   object \n",
      " 5   rating_x     5886 non-null   float64\n",
      " 6   members      5886 non-null   int64  \n",
      " 7   user_id      5886 non-null   int64  \n",
      " 8   rating_y     5886 non-null   int64  \n",
      " 9   mean_rating  5886 non-null   float64\n",
      "dtypes: float64(2), int64(4), object(4)\n",
      "memory usage: 460.0+ KB\n"
     ]
    }
   ],
   "source": [
    "Data.info()"
   ]
  },
  {
   "cell_type": "code",
   "execution_count": 97,
   "metadata": {
    "papermill": {
     "duration": 0.054507,
     "end_time": "2020-11-11T14:14:36.559738",
     "exception": false,
     "start_time": "2020-11-11T14:14:36.505231",
     "status": "completed"
    },
    "tags": []
   },
   "outputs": [
    {
     "data": {
      "text/plain": [
       "1846"
      ]
     },
     "execution_count": 97,
     "metadata": {},
     "output_type": "execute_result"
    }
   ],
   "source": [
    "len(Data['anime_id'].unique())\n"
   ]
  },
  {
   "cell_type": "code",
   "execution_count": 99,
   "metadata": {
    "papermill": {
     "duration": 0.053122,
     "end_time": "2020-11-11T14:14:36.652599",
     "exception": false,
     "start_time": "2020-11-11T14:14:36.599477",
     "status": "completed"
    },
    "tags": []
   },
   "outputs": [
    {
     "data": {
      "text/plain": [
       "123"
      ]
     },
     "execution_count": 99,
     "metadata": {},
     "output_type": "execute_result"
    }
   ],
   "source": [
    "len(Data['user_id'].unique())\n"
   ]
  },
  {
   "cell_type": "markdown",
   "metadata": {
    "papermill": {
     "duration": 0.03989,
     "end_time": "2020-11-11T14:14:36.733058",
     "exception": false,
     "start_time": "2020-11-11T14:14:36.693168",
     "status": "completed"
    },
    "tags": []
   },
   "source": [
    "Show detail of anime which each user like\n"
   ]
  },
  {
   "cell_type": "code",
   "execution_count": 102,
   "metadata": {
    "papermill": {
     "duration": 11.158204,
     "end_time": "2020-11-11T14:14:47.931646",
     "exception": false,
     "start_time": "2020-11-11T14:14:36.773442",
     "status": "completed"
    },
    "tags": []
   },
   "outputs": [
    {
     "data": {
      "text/html": [
       "<div>\n",
       "<style scoped>\n",
       "    .dataframe tbody tr th:only-of-type {\n",
       "        vertical-align: middle;\n",
       "    }\n",
       "\n",
       "    .dataframe tbody tr th {\n",
       "        vertical-align: top;\n",
       "    }\n",
       "\n",
       "    .dataframe thead th {\n",
       "        text-align: right;\n",
       "    }\n",
       "</style>\n",
       "<table border=\"1\" class=\"dataframe\">\n",
       "  <thead>\n",
       "    <tr style=\"text-align: right;\">\n",
       "      <th>name</th>\n",
       "      <th>&amp;quot;Bungaku Shoujo&amp;quot; Movie</th>\n",
       "      <th>.hack//Quantum</th>\n",
       "      <th>.hack//Sign</th>\n",
       "      <th>.hack//The Movie: Sekai no Mukou ni</th>\n",
       "      <th>07-Ghost</th>\n",
       "      <th>11eyes</th>\n",
       "      <th>11eyes: Momoiro Genmutan</th>\n",
       "      <th>30-sai no Hoken Taiiku</th>\n",
       "      <th>91 Days</th>\n",
       "      <th>AIKa</th>\n",
       "      <th>...</th>\n",
       "      <th>Zoku Natsume Yuujinchou</th>\n",
       "      <th>Zoku Natsume Yuujinchou: 3D Nyanko-sensei Gekijou</th>\n",
       "      <th>Zoku Sayonara Zetsubou Sensei</th>\n",
       "      <th>Zombie-Loan</th>\n",
       "      <th>ef: A Tale of Melodies.</th>\n",
       "      <th>ef: A Tale of Memories.</th>\n",
       "      <th>gdgd Fairies</th>\n",
       "      <th>gdgd Fairies 2</th>\n",
       "      <th>s.CRY.ed</th>\n",
       "      <th>xxxHOLiC</th>\n",
       "    </tr>\n",
       "    <tr>\n",
       "      <th>user_id</th>\n",
       "      <th></th>\n",
       "      <th></th>\n",
       "      <th></th>\n",
       "      <th></th>\n",
       "      <th></th>\n",
       "      <th></th>\n",
       "      <th></th>\n",
       "      <th></th>\n",
       "      <th></th>\n",
       "      <th></th>\n",
       "      <th></th>\n",
       "      <th></th>\n",
       "      <th></th>\n",
       "      <th></th>\n",
       "      <th></th>\n",
       "      <th></th>\n",
       "      <th></th>\n",
       "      <th></th>\n",
       "      <th></th>\n",
       "      <th></th>\n",
       "      <th></th>\n",
       "    </tr>\n",
       "  </thead>\n",
       "  <tbody>\n",
       "    <tr>\n",
       "      <th>1</th>\n",
       "      <td>0</td>\n",
       "      <td>0</td>\n",
       "      <td>0</td>\n",
       "      <td>0</td>\n",
       "      <td>0</td>\n",
       "      <td>0</td>\n",
       "      <td>0</td>\n",
       "      <td>0</td>\n",
       "      <td>0</td>\n",
       "      <td>0</td>\n",
       "      <td>...</td>\n",
       "      <td>0</td>\n",
       "      <td>0</td>\n",
       "      <td>0</td>\n",
       "      <td>0</td>\n",
       "      <td>0</td>\n",
       "      <td>0</td>\n",
       "      <td>0</td>\n",
       "      <td>0</td>\n",
       "      <td>0</td>\n",
       "      <td>0</td>\n",
       "    </tr>\n",
       "    <tr>\n",
       "      <th>2</th>\n",
       "      <td>0</td>\n",
       "      <td>0</td>\n",
       "      <td>0</td>\n",
       "      <td>0</td>\n",
       "      <td>0</td>\n",
       "      <td>0</td>\n",
       "      <td>0</td>\n",
       "      <td>0</td>\n",
       "      <td>0</td>\n",
       "      <td>0</td>\n",
       "      <td>...</td>\n",
       "      <td>0</td>\n",
       "      <td>0</td>\n",
       "      <td>0</td>\n",
       "      <td>0</td>\n",
       "      <td>0</td>\n",
       "      <td>0</td>\n",
       "      <td>0</td>\n",
       "      <td>0</td>\n",
       "      <td>0</td>\n",
       "      <td>0</td>\n",
       "    </tr>\n",
       "    <tr>\n",
       "      <th>3</th>\n",
       "      <td>0</td>\n",
       "      <td>0</td>\n",
       "      <td>0</td>\n",
       "      <td>0</td>\n",
       "      <td>0</td>\n",
       "      <td>0</td>\n",
       "      <td>0</td>\n",
       "      <td>0</td>\n",
       "      <td>0</td>\n",
       "      <td>0</td>\n",
       "      <td>...</td>\n",
       "      <td>0</td>\n",
       "      <td>0</td>\n",
       "      <td>0</td>\n",
       "      <td>0</td>\n",
       "      <td>0</td>\n",
       "      <td>0</td>\n",
       "      <td>0</td>\n",
       "      <td>0</td>\n",
       "      <td>0</td>\n",
       "      <td>0</td>\n",
       "    </tr>\n",
       "    <tr>\n",
       "      <th>4</th>\n",
       "      <td>0</td>\n",
       "      <td>0</td>\n",
       "      <td>0</td>\n",
       "      <td>0</td>\n",
       "      <td>0</td>\n",
       "      <td>0</td>\n",
       "      <td>0</td>\n",
       "      <td>0</td>\n",
       "      <td>0</td>\n",
       "      <td>0</td>\n",
       "      <td>...</td>\n",
       "      <td>0</td>\n",
       "      <td>0</td>\n",
       "      <td>0</td>\n",
       "      <td>0</td>\n",
       "      <td>0</td>\n",
       "      <td>0</td>\n",
       "      <td>0</td>\n",
       "      <td>0</td>\n",
       "      <td>0</td>\n",
       "      <td>0</td>\n",
       "    </tr>\n",
       "    <tr>\n",
       "      <th>5</th>\n",
       "      <td>0</td>\n",
       "      <td>0</td>\n",
       "      <td>0</td>\n",
       "      <td>0</td>\n",
       "      <td>0</td>\n",
       "      <td>0</td>\n",
       "      <td>0</td>\n",
       "      <td>0</td>\n",
       "      <td>0</td>\n",
       "      <td>0</td>\n",
       "      <td>...</td>\n",
       "      <td>0</td>\n",
       "      <td>0</td>\n",
       "      <td>1</td>\n",
       "      <td>0</td>\n",
       "      <td>0</td>\n",
       "      <td>0</td>\n",
       "      <td>0</td>\n",
       "      <td>0</td>\n",
       "      <td>0</td>\n",
       "      <td>0</td>\n",
       "    </tr>\n",
       "    <tr>\n",
       "      <th>6</th>\n",
       "      <td>0</td>\n",
       "      <td>0</td>\n",
       "      <td>0</td>\n",
       "      <td>0</td>\n",
       "      <td>0</td>\n",
       "      <td>0</td>\n",
       "      <td>0</td>\n",
       "      <td>0</td>\n",
       "      <td>0</td>\n",
       "      <td>0</td>\n",
       "      <td>...</td>\n",
       "      <td>0</td>\n",
       "      <td>0</td>\n",
       "      <td>0</td>\n",
       "      <td>0</td>\n",
       "      <td>0</td>\n",
       "      <td>0</td>\n",
       "      <td>0</td>\n",
       "      <td>0</td>\n",
       "      <td>0</td>\n",
       "      <td>0</td>\n",
       "    </tr>\n",
       "    <tr>\n",
       "      <th>7</th>\n",
       "      <td>0</td>\n",
       "      <td>0</td>\n",
       "      <td>0</td>\n",
       "      <td>0</td>\n",
       "      <td>0</td>\n",
       "      <td>0</td>\n",
       "      <td>0</td>\n",
       "      <td>0</td>\n",
       "      <td>0</td>\n",
       "      <td>0</td>\n",
       "      <td>...</td>\n",
       "      <td>0</td>\n",
       "      <td>0</td>\n",
       "      <td>0</td>\n",
       "      <td>0</td>\n",
       "      <td>0</td>\n",
       "      <td>0</td>\n",
       "      <td>0</td>\n",
       "      <td>0</td>\n",
       "      <td>0</td>\n",
       "      <td>0</td>\n",
       "    </tr>\n",
       "    <tr>\n",
       "      <th>8</th>\n",
       "      <td>0</td>\n",
       "      <td>0</td>\n",
       "      <td>0</td>\n",
       "      <td>0</td>\n",
       "      <td>0</td>\n",
       "      <td>0</td>\n",
       "      <td>0</td>\n",
       "      <td>0</td>\n",
       "      <td>0</td>\n",
       "      <td>0</td>\n",
       "      <td>...</td>\n",
       "      <td>0</td>\n",
       "      <td>0</td>\n",
       "      <td>0</td>\n",
       "      <td>0</td>\n",
       "      <td>0</td>\n",
       "      <td>0</td>\n",
       "      <td>0</td>\n",
       "      <td>0</td>\n",
       "      <td>0</td>\n",
       "      <td>0</td>\n",
       "    </tr>\n",
       "    <tr>\n",
       "      <th>9</th>\n",
       "      <td>0</td>\n",
       "      <td>0</td>\n",
       "      <td>0</td>\n",
       "      <td>0</td>\n",
       "      <td>0</td>\n",
       "      <td>0</td>\n",
       "      <td>0</td>\n",
       "      <td>0</td>\n",
       "      <td>0</td>\n",
       "      <td>0</td>\n",
       "      <td>...</td>\n",
       "      <td>0</td>\n",
       "      <td>0</td>\n",
       "      <td>0</td>\n",
       "      <td>0</td>\n",
       "      <td>0</td>\n",
       "      <td>0</td>\n",
       "      <td>0</td>\n",
       "      <td>0</td>\n",
       "      <td>0</td>\n",
       "      <td>0</td>\n",
       "    </tr>\n",
       "    <tr>\n",
       "      <th>10</th>\n",
       "      <td>0</td>\n",
       "      <td>0</td>\n",
       "      <td>0</td>\n",
       "      <td>0</td>\n",
       "      <td>0</td>\n",
       "      <td>0</td>\n",
       "      <td>0</td>\n",
       "      <td>0</td>\n",
       "      <td>0</td>\n",
       "      <td>0</td>\n",
       "      <td>...</td>\n",
       "      <td>0</td>\n",
       "      <td>0</td>\n",
       "      <td>0</td>\n",
       "      <td>0</td>\n",
       "      <td>0</td>\n",
       "      <td>0</td>\n",
       "      <td>0</td>\n",
       "      <td>0</td>\n",
       "      <td>0</td>\n",
       "      <td>0</td>\n",
       "    </tr>\n",
       "  </tbody>\n",
       "</table>\n",
       "<p>10 rows × 1846 columns</p>\n",
       "</div>"
      ],
      "text/plain": [
       "name     &quot;Bungaku Shoujo&quot; Movie  .hack//Quantum  .hack//Sign  \\\n",
       "user_id                                                                  \n",
       "1                                       0               0            0   \n",
       "2                                       0               0            0   \n",
       "3                                       0               0            0   \n",
       "4                                       0               0            0   \n",
       "5                                       0               0            0   \n",
       "6                                       0               0            0   \n",
       "7                                       0               0            0   \n",
       "8                                       0               0            0   \n",
       "9                                       0               0            0   \n",
       "10                                      0               0            0   \n",
       "\n",
       "name     .hack//The Movie: Sekai no Mukou ni  07-Ghost  11eyes  \\\n",
       "user_id                                                          \n",
       "1                                          0         0       0   \n",
       "2                                          0         0       0   \n",
       "3                                          0         0       0   \n",
       "4                                          0         0       0   \n",
       "5                                          0         0       0   \n",
       "6                                          0         0       0   \n",
       "7                                          0         0       0   \n",
       "8                                          0         0       0   \n",
       "9                                          0         0       0   \n",
       "10                                         0         0       0   \n",
       "\n",
       "name     11eyes: Momoiro Genmutan  30-sai no Hoken Taiiku  91 Days  AIKa  ...  \\\n",
       "user_id                                                                   ...   \n",
       "1                               0                       0        0     0  ...   \n",
       "2                               0                       0        0     0  ...   \n",
       "3                               0                       0        0     0  ...   \n",
       "4                               0                       0        0     0  ...   \n",
       "5                               0                       0        0     0  ...   \n",
       "6                               0                       0        0     0  ...   \n",
       "7                               0                       0        0     0  ...   \n",
       "8                               0                       0        0     0  ...   \n",
       "9                               0                       0        0     0  ...   \n",
       "10                              0                       0        0     0  ...   \n",
       "\n",
       "name     Zoku Natsume Yuujinchou  \\\n",
       "user_id                            \n",
       "1                              0   \n",
       "2                              0   \n",
       "3                              0   \n",
       "4                              0   \n",
       "5                              0   \n",
       "6                              0   \n",
       "7                              0   \n",
       "8                              0   \n",
       "9                              0   \n",
       "10                             0   \n",
       "\n",
       "name     Zoku Natsume Yuujinchou: 3D Nyanko-sensei Gekijou  \\\n",
       "user_id                                                      \n",
       "1                                                        0   \n",
       "2                                                        0   \n",
       "3                                                        0   \n",
       "4                                                        0   \n",
       "5                                                        0   \n",
       "6                                                        0   \n",
       "7                                                        0   \n",
       "8                                                        0   \n",
       "9                                                        0   \n",
       "10                                                       0   \n",
       "\n",
       "name     Zoku Sayonara Zetsubou Sensei  Zombie-Loan  ef: A Tale of Melodies.  \\\n",
       "user_id                                                                        \n",
       "1                                    0            0                        0   \n",
       "2                                    0            0                        0   \n",
       "3                                    0            0                        0   \n",
       "4                                    0            0                        0   \n",
       "5                                    1            0                        0   \n",
       "6                                    0            0                        0   \n",
       "7                                    0            0                        0   \n",
       "8                                    0            0                        0   \n",
       "9                                    0            0                        0   \n",
       "10                                   0            0                        0   \n",
       "\n",
       "name     ef: A Tale of Memories.  gdgd Fairies  gdgd Fairies 2  s.CRY.ed  \\\n",
       "user_id                                                                    \n",
       "1                              0             0               0         0   \n",
       "2                              0             0               0         0   \n",
       "3                              0             0               0         0   \n",
       "4                              0             0               0         0   \n",
       "5                              0             0               0         0   \n",
       "6                              0             0               0         0   \n",
       "7                              0             0               0         0   \n",
       "8                              0             0               0         0   \n",
       "9                              0             0               0         0   \n",
       "10                             0             0               0         0   \n",
       "\n",
       "name     xxxHOLiC  \n",
       "user_id            \n",
       "1               0  \n",
       "2               0  \n",
       "3               0  \n",
       "4               0  \n",
       "5               0  \n",
       "6               0  \n",
       "7               0  \n",
       "8               0  \n",
       "9               0  \n",
       "10              0  \n",
       "\n",
       "[10 rows x 1846 columns]"
      ]
     },
     "execution_count": 102,
     "metadata": {},
     "output_type": "execute_result"
    }
   ],
   "source": [
    "user_anime = pd.crosstab(Data['user_id'], Data['name'])\n",
    "user_anime.head(10)"
   ]
  },
  {
   "cell_type": "markdown",
   "metadata": {
    "papermill": {
     "duration": 0.041305,
     "end_time": "2020-11-11T14:14:48.013917",
     "exception": false,
     "start_time": "2020-11-11T14:14:47.972612",
     "status": "completed"
    },
    "tags": []
   },
   "source": [
    "# Agglomerative Clustering"
   ]
  },
  {
   "cell_type": "markdown",
   "metadata": {
    "papermill": {
     "duration": 0.039964,
     "end_time": "2020-11-11T14:14:48.096170",
     "exception": false,
     "start_time": "2020-11-11T14:14:48.056206",
     "status": "completed"
    },
    "tags": []
   },
   "source": [
    "The hierarchy class has a dendrogram method which takes the value returned by the linkage method of the same class. The linkage method takes the dataset and the method to minimize distances as parameters. We use 'ward' as the method since it minimizes then variants of distances between the clusters."
   ]
  },
  {
   "cell_type": "code",
   "execution_count": 106,
   "metadata": {
    "papermill": {
     "duration": 500.987335,
     "end_time": "2020-11-11T14:23:09.123566",
     "exception": false,
     "start_time": "2020-11-11T14:14:48.136231",
     "status": "completed"
    },
    "tags": []
   },
   "outputs": [
    {
     "data": {
      "image/png": "[encoded data removed]",
      "text/plain": [
       "<Figure size 1000x700 with 1 Axes>"
      ]
     },
     "metadata": {},
     "output_type": "display_data"
    }
   ],
   "source": [
    "import scipy.cluster.hierarchy as shc\n",
    "\n",
    "plt.figure(figsize=(10, 7))\n",
    "plt.title(\"Customer Dendograms\")\n",
    "dend = shc.dendrogram(shc.linkage(user_anime, method='ward'))"
   ]
  },
  {
   "cell_type": "markdown",
   "metadata": {
    "papermill": {
     "duration": 0.039856,
     "end_time": "2020-11-11T14:23:09.205041",
     "exception": false,
     "start_time": "2020-11-11T14:23:09.165185",
     "status": "completed"
    },
    "tags": []
   },
   "source": [
    "Now we know the number of clusters for our dataset, the next step is to group the data points into these ten clusters"
   ]
  },
  {
   "cell_type": "code",
   "execution_count": 109,
   "metadata": {
    "papermill": {
     "duration": 264.703384,
     "end_time": "2020-11-11T14:27:33.948463",
     "exception": false,
     "start_time": "2020-11-11T14:23:09.245079",
     "status": "completed"
    },
    "tags": []
   },
   "outputs": [
    {
     "name": "stderr",
     "output_type": "stream",
     "text": [
      "C:\\Users\\vvishwanath\\AppData\\Local\\anaconda3\\Lib\\site-packages\\sklearn\\cluster\\_agglomerative.py:983: FutureWarning: Attribute `affinity` was deprecated in version 1.2 and will be removed in 1.4. Use `metric` instead\n",
      "  warnings.warn(\n"
     ]
    },
    {
     "data": {
      "text/plain": [
       "array([2, 2, 2, 2, 4, 2, 0, 2, 2, 2, 2, 2, 2, 2, 2, 2, 3, 2, 2, 2, 2, 2,\n",
       "       2, 2, 2, 2, 2, 2, 2, 2, 2, 2, 2, 2, 2, 2, 2, 0, 2, 2, 2, 2, 0, 2,\n",
       "       2, 0, 2, 2, 2, 2, 2, 2, 2, 1, 2, 2, 2, 2, 2, 2, 2, 2, 2, 2, 2, 2,\n",
       "       2, 2, 2, 2, 2, 2, 2, 2, 2, 2, 2, 2, 2, 2, 2, 2, 2, 2, 2, 2, 2, 2,\n",
       "       2, 2, 2, 2, 2, 2, 2, 2, 2, 2, 2, 2, 2, 2, 2, 2, 2, 2, 2, 2, 2, 2,\n",
       "       2, 2, 2, 2, 2, 2, 2, 2, 2, 0, 2, 2, 0], dtype=int64)"
      ]
     },
     "execution_count": 109,
     "metadata": {},
     "output_type": "execute_result"
    }
   ],
   "source": [
    "from sklearn.cluster import AgglomerativeClustering\n",
    "\n",
    "cluster = AgglomerativeClustering(n_clusters=5, affinity='euclidean', linkage='ward')\n",
    "cluster.fit_predict(user_anime)\n"
   ]
  },
  {
   "cell_type": "markdown",
   "metadata": {
    "papermill": {
     "duration": 0.043194,
     "end_time": "2020-11-11T14:27:34.861075",
     "exception": false,
     "start_time": "2020-11-11T14:27:34.817881",
     "status": "completed"
    },
    "tags": []
   },
   "source": [
    "References\n",
    "\n",
    "* [[1](https://nlp.stanford.edu/IR-book/pdf/17hier.pdf)] Hierarchical clustering. DRAFT! © April 1, 2009 Cambridge University Press\n",
    "* [[2](https://towardsdatascience.com/understanding-the-concept-of-hierarchical-clustering-technique-c6e8243758ec)] . Time Complexity Hierarchical clustering\n",
    "* [[3](https://stackabuse.com/hierarchical-clustering-with-python-and-scikit-learn/)] Hierarchical clustering"
   ]
  },
  {
   "cell_type": "code",
   "execution_count": null,
   "metadata": {},
   "outputs": [],
   "source": [
    "# https://www.kaggle.com/datasets/CooperUnion/anime-recommendations-database/data"
   ]
  },
  {
   "cell_type": "code",
   "execution_count": null,
   "metadata": {},
   "outputs": [],
   "source": []
  }
 ],
 "metadata": {
  "kernelspec": {
   "display_name": "Python 3 (ipykernel)",
   "language": "python",
   "name": "python3"
  },
  "language_info": {
   "codemirror_mode": {
    "name": "ipython",
    "version": 3
   },
   "file_extension": ".py",
   "mimetype": "text/x-python",
   "name": "python",
   "nbconvert_exporter": "python",
   "pygments_lexer": "ipython3",
   "version": "3.11.7"
  },
  "papermill": {
   "duration": 796.635604,
   "end_time": "2020-11-11T14:27:35.105773",
   "environment_variables": {},
   "exception": null,
   "input_path": "__notebook__.ipynb",
   "output_path": "__notebook__.ipynb",
   "parameters": {},
   "start_time": "2020-11-11T14:14:18.470169",
   "version": "2.1.0"
  }
 },
 "nbformat": 4,
 "nbformat_minor": 4
}
