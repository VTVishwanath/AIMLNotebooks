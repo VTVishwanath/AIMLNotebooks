{
 "cells": [
  {
   "cell_type": "markdown",
   "id": "cc4c2e5e-95aa-4f6e-b5d0-ecb6c95b7376",
   "metadata": {},
   "source": [
    "## Quick sort"
   ]
  },
  {
   "cell_type": "code",
   "execution_count": 1,
   "id": "0cc7418e-c883-428d-9c3d-599eabd3649b",
   "metadata": {},
   "outputs": [
    {
     "name": "stdout",
     "output_type": "stream",
     "text": [
      "Unsorted Array\n",
      "[35, 50, 15, 25, 80, 20, 90, 45]\n",
      "Sorted Array in Ascending Order:\n",
      "[15, 20, 25, 35, 45, 50, 80, 90]\n"
     ]
    }
   ],
   "source": [
    "# Python program for implementation of Quicksort Sort\n",
    "\n",
    "# This implementation utilizes pivot as the last element in the nums list\n",
    "# It has a pointer to keep track of the elements smaller than the pivot\n",
    "# At the very end of partition() function, the pointer is swapped with the pivot\n",
    "# to come up with a \"sorted\" nums relative to the pivot\n",
    "\n",
    "\n",
    "# Function to find the partition position\n",
    "def partition(array, low, high):\n",
    "\n",
    "\t# choose the rightmost element as pivot\n",
    "\tpivot = array[high]\n",
    "\n",
    "\t# pointer for greater element\n",
    "\ti = low - 1\n",
    "\n",
    "\t# traverse through all elements\n",
    "\t# compare each element with pivot\n",
    "\tfor j in range(low, high):\n",
    "\t\tif array[j] <= pivot:\n",
    "\n",
    "\t\t\t# If element smaller than pivot is found\n",
    "\t\t\t# swap it with the greater element pointed by i\n",
    "\t\t\ti = i + 1\n",
    "\n",
    "\t\t\t# Swapping element at i with element at j\n",
    "\t\t\t(array[i], array[j]) = (array[j], array[i])\n",
    "\n",
    "\t# Swap the pivot element with the greater element specified by i\n",
    "\t(array[i + 1], array[high]) = (array[high], array[i + 1])\n",
    "\n",
    "\t# Return the position from where partition is done\n",
    "\treturn i + 1\n",
    "\n",
    "# function to perform quicksort\n",
    "\n",
    "\n",
    "def quickSort(array, low, high):\n",
    "\tif low < high:\n",
    "\n",
    "\t\t# Find pivot element such that\n",
    "\t\t# element smaller than pivot are on the left\n",
    "\t\t# element greater than pivot are on the right\n",
    "\t\tpi = partition(array, low, high)\n",
    "\n",
    "\t\t# Recursive call on the left of pivot\n",
    "\t\tquickSort(array, low, pi - 1)\n",
    "\n",
    "\t\t# Recursive call on the right of pivot\n",
    "\t\tquickSort(array, pi + 1, high)\n",
    "\n",
    "\n",
    "data = [35, 50, 15, 25, 80, 20, 90, 45]\n",
    "#[1, 7, 4, 1, 10, 9, -2]\n",
    "\n",
    "print(\"Unsorted Array\")\n",
    "print(data)\n",
    "\n",
    "size = len(data)\n",
    "\n",
    "quickSort(data, 0, size - 1)\n",
    "\n",
    "print('Sorted Array in Ascending Order:')\n",
    "print(data)\n"
   ]
  },
  {
   "cell_type": "markdown",
   "id": "b91c2b48-db67-459d-ad3f-e317c186e402",
   "metadata": {},
   "source": [
    "## Insertion sort"
   ]
  },
  {
   "cell_type": "code",
   "execution_count": 5,
   "id": "d19cc77c-0c0a-45ba-a17e-938b27a2cf3e",
   "metadata": {},
   "outputs": [
    {
     "name": "stdout",
     "output_type": "stream",
     "text": [
      "1\n",
      "2\n",
      "3\n",
      "4\n",
      "5\n",
      "6\n",
      "7\n"
     ]
    }
   ],
   "source": [
    "n=8\n",
    "for i in range(1, n):\n",
    "   print(i) "
   ]
  },
  {
   "cell_type": "code",
   "execution_count": 2,
   "id": "c80bef77-99ac-40f1-9427-6d9634e8e621",
   "metadata": {},
   "outputs": [
    {
     "name": "stdout",
     "output_type": "stream",
     "text": [
      "[15, 20, 25, 35, 45, 50, 80, 90]\n"
     ]
    }
   ],
   "source": [
    "# Python program for implementation of Insertion Sort\n",
    "\n",
    "# Function to do insertion sort\n",
    "def insertionSort(arr):\n",
    "    n=len(arr) #8\n",
    "    if n <= 1:\n",
    "        return\n",
    "    for i in range(1, n): #(1,7)\n",
    "        key = arr[i] #15\n",
    "\n",
    "        # Move elements of arr[0..i-1], that are\n",
    "        # greater than key, to one position ahead\n",
    "        # of their current position\n",
    "        j = i-1 #1 arr[j] 50\n",
    "        while j >=0 and key < arr[j] :\n",
    "            arr[j+1] = arr[j]\n",
    "            j -= 1\n",
    "        arr[j+1] = key\n",
    "\n",
    "\n",
    "#sorting the array [12, 11, 13, 5, 6] using insertionSort\n",
    "arr = [35, 50, 15, 25, 80, 20, 90, 45]\n",
    "# [12, 11, 13, 5, 6]\n",
    "insertionSort(arr)\n",
    "print(arr)\n"
   ]
  },
  {
   "cell_type": "markdown",
   "id": "ce694c98-9b76-4fd5-82b6-5c55d9297d64",
   "metadata": {},
   "source": [
    "## Linear search"
   ]
  },
  {
   "cell_type": "code",
   "execution_count": 3,
   "id": "fa3fa0ef-b589-4f2b-bdfe-9b5e1188a356",
   "metadata": {},
   "outputs": [],
   "source": [
    "# Searching an element in a list/array in python\n",
    "# can be simply done using \\'in\\' operator\n",
    "# Example:\n",
    "# if x in arr:\n",
    "# print arr.index(x)\n",
    "\n",
    "# If you want to implement Linear Search in python\n",
    "\n",
    "# Linearly search x in arr[]\n",
    "# If x is present then return its location\n",
    "# else return -1\n",
    "\n",
    "def search(arr, x):\n",
    "\n",
    "\tfor i in range(len(arr)):\n",
    "\n",
    "\t\tif arr[i] == x:\n",
    "\t\t\treturn i\n",
    "\n",
    "\treturn -1\n"
   ]
  },
  {
   "cell_type": "code",
   "execution_count": 4,
   "id": "2fdc664f-3b6d-4a66-a82f-097b86643e6d",
   "metadata": {},
   "outputs": [
    {
     "data": {
      "text/plain": [
       "2"
      ]
     },
     "execution_count": 4,
     "metadata": {},
     "output_type": "execute_result"
    }
   ],
   "source": [
    "arr = [2,5,1,4,-5,9,0]\n",
    "val = 1\n",
    "search(arr,val)"
   ]
  },
  {
   "cell_type": "markdown",
   "id": "07db6d52-31f1-4f1f-8b61-feb1dfd9e991",
   "metadata": {},
   "source": [
    "## Binary search"
   ]
  },
  {
   "cell_type": "code",
   "execution_count": 5,
   "id": "3cd49c08-b43c-44cb-9f71-7e7431655d46",
   "metadata": {},
   "outputs": [
    {
     "name": "stdout",
     "output_type": "stream",
     "text": [
      "Element is present at index 3\n"
     ]
    }
   ],
   "source": [
    "# Python 3 program for recursive binary search.\n",
    "# Modifications needed for the older Python 2 are found in comments.\n",
    "\n",
    "# Returns index of x in arr if present, else -1\n",
    "def binary_search(arr, low, high, x):\n",
    "\n",
    "\t# Check base case\n",
    "\tif high >= low:\n",
    "\n",
    "\t\tmid = (high + low) // 2\n",
    "\n",
    "\t\t# If element is present at the middle itself\n",
    "\t\tif arr[mid] == x:\n",
    "\t\t\treturn mid\n",
    "\n",
    "\t\t# If element is smaller than mid, then it can only\n",
    "\t\t# be present in left subarray\n",
    "\t\telif arr[mid] > x:\n",
    "\t\t\treturn binary_search(arr, low, mid - 1, x)\n",
    "\n",
    "\t\t# Else the element can only be present in right subarray\n",
    "\t\telse:\n",
    "\t\t\treturn binary_search(arr, mid + 1, high, x)\n",
    "\n",
    "\telse:\n",
    "\t\t# Element is not present in the array\n",
    "\t\treturn -1\n",
    "\n",
    "# Test array\n",
    "arr = [ 2, 3, 4, 10, 40 ]\n",
    "x = 10\n",
    "\n",
    "# Function call\n",
    "result = binary_search(arr, 0, len(arr)-1, x)\n",
    "\n",
    "if result != -1:\n",
    "\tprint(\"Element is present at index\", str(result))\n",
    "else:\n",
    "\tprint(\"Element is not present in array\")\n"
   ]
  },
  {
   "cell_type": "code",
   "execution_count": 1,
   "id": "dda3e99d-ae9b-455b-8201-f4b7ace2a428",
   "metadata": {},
   "outputs": [
    {
     "name": "stdout",
     "output_type": "stream",
     "text": [
      "initial list  [[1, 2, 3], [3, 6, 7], [7, 5, 4]]\n",
      "final_result [1, 2, 3, 3, 6, 7, 7, 5, 4]\n"
     ]
    }
   ],
   "source": [
    "# Convert 2d list to 1d list\n",
    "from itertools import chain\n",
    " \n",
    "ini_list = [[1, 2, 3],\n",
    "            [3, 6, 7],\n",
    "            [7, 5, 4]]\n",
    "             \n",
    "# printing initial list\n",
    "print (\"initial list \", str(ini_list))\n",
    " \n",
    "# converting 2d list into 1d\n",
    "# using chain.from_iterables\n",
    "flatten_list = list(chain.from_iterable(ini_list))\n",
    " \n",
    "# printing flatten_list\n",
    "print (\"final_result\", str(flatten_list))"
   ]
  },
  {
   "cell_type": "code",
   "execution_count": 2,
   "id": "ea870209-177a-4b0f-bf4f-dca2749623fa",
   "metadata": {},
   "outputs": [
    {
     "name": "stdout",
     "output_type": "stream",
     "text": [
      "initial list  [[1, 2, 3], [3, 6, 7], [7, 5, 4]]\n",
      "final_result [1, 2, 3, 3, 6, 7, 7, 5, 4]\n"
     ]
    }
   ],
   "source": [
    "# Python code to demonstrate\n",
    "# converting 2d list into 1d list\n",
    "# using list comprehension\n",
    "\n",
    "# import chain\n",
    "from itertools import chain\n",
    "\n",
    "ini_list = [[1, 2, 3],\n",
    "\t\t\t[3, 6, 7],\n",
    "\t\t\t[7, 5, 4]]\n",
    "\t\t\t\n",
    "# printing initial list\n",
    "print (\"initial list \", str(ini_list))\n",
    "\n",
    "# converting 2d list into 1d\n",
    "# using list comprehension\n",
    "flatten_list = [j for sub in ini_list for j in sub]\n",
    "\n",
    "# printing flatten_list\n",
    "print (\"final_result\", str(flatten_list))\n"
   ]
  },
  {
   "cell_type": "code",
   "execution_count": null,
   "id": "e141e1e2-03b1-4d73-9d6f-889749f60ee7",
   "metadata": {},
   "outputs": [],
   "source": []
  },
  {
   "cell_type": "code",
   "execution_count": 3,
   "id": "63984b6d-0ace-4b57-beb3-d0a42e5a37eb",
   "metadata": {},
   "outputs": [
    {
     "name": "stdout",
     "output_type": "stream",
     "text": [
      "initial array [[1 2 3]\n",
      " [2 4 5]\n",
      " [1 2 3]]\n",
      "New resulting array:  [1 2 3 2 4 5 1 2 3]\n"
     ]
    }
   ],
   "source": [
    "# Python code to demonstrate\n",
    "# flattening a 2d numpy array\n",
    "# into 1d array\n",
    "\n",
    "import numpy as np\n",
    "\n",
    "ini_array1 = np.array([[1, 2, 3], [2, 4, 5], [1, 2, 3]])\n",
    "\n",
    "# printing initial arrays\n",
    "print(\"initial array\", str(ini_array1))\n",
    "\n",
    "# Multiplying arrays\n",
    "result = ini_array1.flatten()\n",
    "\n",
    "# printing result\n",
    "print(\"New resulting array: \", result)\n"
   ]
  },
  {
   "cell_type": "code",
   "execution_count": 4,
   "id": "799316a8-eb8b-4f6c-b7ac-aaa165328c0b",
   "metadata": {},
   "outputs": [
    {
     "name": "stdout",
     "output_type": "stream",
     "text": [
      "initial array [[1 2 3]\n",
      " [2 4 5]\n",
      " [1 2 3]]\n",
      "New resulting array:  [[1 2 3 2 4 5 1 2 3]]\n"
     ]
    }
   ],
   "source": [
    "# Python code to demonstrate\n",
    "# flattening a 2d numpy array\n",
    "# into 1d array\n",
    "\n",
    "import numpy as np\n",
    "\n",
    "ini_array1 = np.array([[1, 2, 3], [2, 4, 5], [1, 2, 3]])\n",
    "\n",
    "# printing initial arrays\n",
    "print(\"initial array\", str(ini_array1))\n",
    "\n",
    "# Multiplying arrays\n",
    "result = ini_array1.reshape([1, 9])\n",
    "\n",
    "# printing result\n",
    "print(\"New resulting array: \", result)\n"
   ]
  },
  {
   "cell_type": "code",
   "execution_count": null,
   "id": "02ce24ef-504f-4d2b-8b21-7f1b1362b31c",
   "metadata": {},
   "outputs": [],
   "source": []
  }
 ],
 "metadata": {
  "kernelspec": {
   "display_name": "Python 3 (ipykernel)",
   "language": "python",
   "name": "python3"
  },
  "language_info": {
   "codemirror_mode": {
    "name": "ipython",
    "version": 3
   },
   "file_extension": ".py",
   "mimetype": "text/x-python",
   "name": "python",
   "nbconvert_exporter": "python",
   "pygments_lexer": "ipython3",
   "version": "3.9.13"
  }
 },
 "nbformat": 4,
 "nbformat_minor": 5
}
