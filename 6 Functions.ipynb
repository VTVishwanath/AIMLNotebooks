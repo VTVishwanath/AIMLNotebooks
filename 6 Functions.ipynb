{
 "cells": [
  {
   "cell_type": "markdown",
   "id": "adcaadd7-7cdc-4b26-9a12-d03b3941b6e3",
   "metadata": {},
   "source": [
    "# Python Functions\n",
    "A function is a block of code which only runs when it is called.\n",
    "\n",
    "You can pass data, known as parameters, into a function.\n",
    "\n",
    "A function can return data as a result.\n",
    "\n",
    "### Creating a Function\n",
    "In Python a function is defined using the def keyword:\n",
    "\n",
    "Example"
   ]
  },
  {
   "cell_type": "code",
   "execution_count": 1,
   "id": "835ab5e2-5a65-4485-8bfb-6cb575fc11f9",
   "metadata": {},
   "outputs": [],
   "source": [
    "def my_function():\n",
    "  print(\"Hello from a function\")"
   ]
  },
  {
   "cell_type": "markdown",
   "id": "6644ecf4-0b2e-49cc-9ecf-bb734e004986",
   "metadata": {},
   "source": [
    "### Calling a Function\n",
    "To call a function, use the function name followed by parenthesis:\n",
    "\n",
    "Example"
   ]
  },
  {
   "cell_type": "code",
   "execution_count": 2,
   "id": "15d3a22b-201f-4ae8-bdad-017aeb7beb7c",
   "metadata": {},
   "outputs": [
    {
     "name": "stdout",
     "output_type": "stream",
     "text": [
      "Hello from a function\n"
     ]
    }
   ],
   "source": [
    "def my_function():\n",
    "  print(\"Hello from a function\")\n",
    "\n",
    "my_function()"
   ]
  },
  {
   "cell_type": "markdown",
   "id": "3f2c3fe4-4df4-4638-99ed-1c80eb4473f1",
   "metadata": {},
   "source": [
    "### Arguments\n",
    "Information can be passed into functions as arguments.\n",
    "\n",
    "Arguments are specified after the function name, inside the parentheses. You can add as many arguments as you want, just separate them with a comma.\n",
    "\n",
    "The following example has a function with one argument (fname). When the function is called, we pass along a first name, which is used inside the function to print the full name:\n",
    "\n",
    "Example"
   ]
  },
  {
   "cell_type": "code",
   "execution_count": 4,
   "id": "148c056d-42de-4698-9c2b-ed25784678b2",
   "metadata": {},
   "outputs": [
    {
     "name": "stdout",
     "output_type": "stream",
     "text": [
      "Emil S\n",
      "Tobias T\n",
      "Linus J\n"
     ]
    }
   ],
   "source": [
    "def my_function(fname,lname):\n",
    "  print(fname + \" \" + lname)\n",
    "\n",
    "my_function(\"Emil\",\"S\")\n",
    "my_function(\"Tobias\",\"T\")\n",
    "my_function(\"Linus\",\"J\")"
   ]
  },
  {
   "cell_type": "markdown",
   "id": "1dfa5548-1f2c-4e6e-b99e-162939417569",
   "metadata": {},
   "source": [
    "### Parameters or Arguments?\n",
    "The terms parameter and argument can be used for the same thing: information that are passed into a function.\n",
    "\n",
    "From a function's perspective:\n",
    "\n",
    "A parameter is the variable listed inside the parentheses in the function definition.\n",
    "\n",
    "An argument is the value that is sent to the function when it is called."
   ]
  },
  {
   "cell_type": "markdown",
   "id": "756211de-2010-422f-9636-91b9cb1d1557",
   "metadata": {},
   "source": [
    "### Number of Arguments\n",
    "By default, a function must be called with the correct number of arguments. Meaning that if your function expects 2 arguments, you have to call the function with 2 arguments, not more, and not less.\n",
    "\n",
    "Example\n",
    "This function expects 2 arguments, and gets 2 arguments:"
   ]
  },
  {
   "cell_type": "code",
   "execution_count": 7,
   "id": "b8c39686-411a-4f86-8c67-66e9a8089b76",
   "metadata": {},
   "outputs": [
    {
     "name": "stdout",
     "output_type": "stream",
     "text": [
      "Emil Refsnes\n"
     ]
    }
   ],
   "source": [
    "def my_function(fname, lname):\n",
    "  print(fname + \" \" + lname)\n",
    "\n",
    "my_function(\"Emil\", \"Refsnes\")"
   ]
  },
  {
   "cell_type": "markdown",
   "id": "0adcaaad-4972-42b9-9df1-fc5f3ddf34a9",
   "metadata": {},
   "source": [
    "If you try to call the function with 1 or 3 arguments, you will get an error:\n",
    "Example\n",
    "This function expects 2 arguments, but gets only 1:"
   ]
  },
  {
   "cell_type": "code",
   "execution_count": 8,
   "id": "63137231-d602-44a2-9be0-356d5eec84f9",
   "metadata": {},
   "outputs": [
    {
     "ename": "TypeError",
     "evalue": "my_function() missing 1 required positional argument: 'lname'",
     "output_type": "error",
     "traceback": [
      "\u001b[1;31m---------------------------------------------------------------------------\u001b[0m",
      "\u001b[1;31mTypeError\u001b[0m                                 Traceback (most recent call last)",
      "\u001b[1;32m~\\AppData\\Local\\Temp\\ipykernel_13720\\2663467011.py\u001b[0m in \u001b[0;36m<module>\u001b[1;34m\u001b[0m\n\u001b[0;32m      2\u001b[0m   \u001b[0mprint\u001b[0m\u001b[1;33m(\u001b[0m\u001b[0mfname\u001b[0m \u001b[1;33m+\u001b[0m \u001b[1;34m\" \"\u001b[0m \u001b[1;33m+\u001b[0m \u001b[0mlname\u001b[0m\u001b[1;33m)\u001b[0m\u001b[1;33m\u001b[0m\u001b[1;33m\u001b[0m\u001b[0m\n\u001b[0;32m      3\u001b[0m \u001b[1;33m\u001b[0m\u001b[0m\n\u001b[1;32m----> 4\u001b[1;33m \u001b[0mmy_function\u001b[0m\u001b[1;33m(\u001b[0m\u001b[1;34m\"Emil\"\u001b[0m\u001b[1;33m)\u001b[0m\u001b[1;33m\u001b[0m\u001b[1;33m\u001b[0m\u001b[0m\n\u001b[0m",
      "\u001b[1;31mTypeError\u001b[0m: my_function() missing 1 required positional argument: 'lname'"
     ]
    }
   ],
   "source": [
    "def my_function(fname, lname):\n",
    "  print(fname + \" \" + lname)\n",
    "\n",
    "my_function(\"Emil\")"
   ]
  },
  {
   "cell_type": "markdown",
   "id": "c75e67f8-7caf-424f-bf6b-8bc66a6e5bb4",
   "metadata": {},
   "source": [
    "### Arbitrary Arguments, *args\n",
    "If you do not know how many arguments that will be passed into your function, add a * before the parameter name in the function definition.\n",
    "\n",
    "This way the function will receive a tuple of arguments, and can access the items accordingly:\n",
    "\n",
    "Example\n",
    "If the number of arguments is unknown, add a * before the parameter name:\n",
    "\n"
   ]
  },
  {
   "cell_type": "code",
   "execution_count": 22,
   "id": "e8ece18b-db0a-45a0-bfa5-08eb1c9fe0f4",
   "metadata": {},
   "outputs": [
    {
     "name": "stdout",
     "output_type": "stream",
     "text": [
      "The youngest child is John\n"
     ]
    }
   ],
   "source": [
    "def my_function(*kids):\n",
    "    length = len(kids)\n",
    "    print(\"The youngest child is \" + kids[length-1])\n",
    "\n",
    "my_function(\"Emil\",\"Tobias\",\"Linus\",\"John\",\"Emil\", \"Tobias\",\"Linus\",\"John\")"
   ]
  },
  {
   "cell_type": "markdown",
   "id": "6758bf24-e18a-429d-9d38-bdf2bfe68291",
   "metadata": {},
   "source": [
    "Keyword Arguments\n",
    "You can also send arguments with the key = value syntax.\n",
    "\n",
    "This way the order of the arguments does not matter.\n",
    "\n",
    "Example"
   ]
  },
  {
   "cell_type": "code",
   "execution_count": 13,
   "id": "c66b5833-16b7-4424-b1ca-af5df4ad7767",
   "metadata": {},
   "outputs": [
    {
     "name": "stdout",
     "output_type": "stream",
     "text": [
      "The youngest child is Linus\n",
      "The youngest child is Emil\n"
     ]
    }
   ],
   "source": [
    "def my_function(child3, child2, child1):\n",
    "  print(\"The youngest child is \" + child3)\n",
    "\n",
    "my_function(child1 = \"Emil\", child2 = \"Tobias\", child3 = \"Linus\")\n",
    "my_function(\"Emil\", \"Tobias\", \"Linus\")"
   ]
  },
  {
   "cell_type": "markdown",
   "id": "6305e3a4-a464-44dc-8856-80e637e403b2",
   "metadata": {},
   "source": [
    "Arbitrary Keyword Arguments, **kwargs\n",
    "If you do not know how many keyword arguments that will be passed into your function, add two asterisk: ** before the parameter name in the function definition.\n",
    "\n",
    "This way the function will receive a dictionary of arguments, and can access the items accordingly:\n",
    "\n",
    "Example\n",
    "If the number of keyword arguments is unknown, add a double ** before the parameter name:"
   ]
  },
  {
   "cell_type": "code",
   "execution_count": 26,
   "id": "a232e13c-e85f-4a76-b8e9-eae3fe23235e",
   "metadata": {},
   "outputs": [
    {
     "name": "stdout",
     "output_type": "stream",
     "text": [
      "His last name is J\n"
     ]
    }
   ],
   "source": [
    "def my_function(**kid):\n",
    "  print(\"His last name is \" + kid[\"mname\"])\n",
    "\n",
    "my_function(fname = \"Tobias\", lname = \"Refsnes\", mname=\"J\")"
   ]
  },
  {
   "cell_type": "markdown",
   "id": "ea5267ba-05b2-4245-9e50-b88470e72354",
   "metadata": {},
   "source": [
    "Default Parameter Value\n",
    "The following example shows how to use a default parameter value.\n",
    "\n",
    "If we call the function without argument, it uses the default value:\n",
    "\n",
    "Example\n"
   ]
  },
  {
   "cell_type": "code",
   "execution_count": 23,
   "id": "e98dc117-c238-4f43-b6a2-694b48ebb6b1",
   "metadata": {},
   "outputs": [
    {
     "name": "stdout",
     "output_type": "stream",
     "text": [
      "I am from Sweden\n",
      "I am from India\n",
      "I am from Norway\n",
      "I am from Brazil\n"
     ]
    }
   ],
   "source": [
    "def my_function(country = \"Norway\"):\n",
    "  print(\"I am from \" + country)\n",
    "\n",
    "my_function(\"Sweden\")\n",
    "my_function(\"India\")\n",
    "my_function()\n",
    "my_function(\"Brazil\")"
   ]
  },
  {
   "cell_type": "markdown",
   "id": "f03d18df-79c6-40ca-b1d8-ba0c39ad3432",
   "metadata": {},
   "source": [
    "Passing a List as an Argument\n",
    "You can send any data types of argument to a function (string, number, list, dictionary etc.), and it will be treated as the same data type inside the function.\n",
    "\n",
    "E.g. if you send a List as an argument, it will still be a List when it reaches the function:\n",
    "\n",
    "Example\n"
   ]
  },
  {
   "cell_type": "code",
   "execution_count": 41,
   "id": "a1b97390-d62d-4d36-878e-203845fd667f",
   "metadata": {},
   "outputs": [
    {
     "name": "stdout",
     "output_type": "stream",
     "text": [
      "appleapple\n",
      "bananabanana\n",
      "cherrycherry\n"
     ]
    }
   ],
   "source": [
    "# my_function takes list as an argument and prints each element of the list\n",
    "def my_function(val_list):\n",
    "    for x in val_list:\n",
    "        print(x*2)\n",
    "\n",
    "fruits = [\"apple\", \"banana\", \"cherry\"]\n",
    "mylist = (1,2,3,4,5)\n",
    "\n",
    "my_function(fruits)"
   ]
  },
  {
   "cell_type": "markdown",
   "id": "42ecb4c7-1804-42db-8fae-14d3a4575215",
   "metadata": {},
   "source": [
    "Return Values\n",
    "To let a function return a value, use the return statement:\n",
    "\n",
    "Example\n"
   ]
  },
  {
   "cell_type": "code",
   "execution_count": 48,
   "id": "aeeda692-d656-4dc7-bb8b-199653f05638",
   "metadata": {},
   "outputs": [],
   "source": [
    "var = \"apple\""
   ]
  },
  {
   "cell_type": "code",
   "execution_count": 49,
   "id": "0f279732-0a06-488d-a532-ef956aace0d2",
   "metadata": {},
   "outputs": [
    {
     "data": {
      "text/plain": [
       "'APPLE'"
      ]
     },
     "execution_count": 49,
     "metadata": {},
     "output_type": "execute_result"
    }
   ],
   "source": [
    "var.upper()"
   ]
  },
  {
   "cell_type": "code",
   "execution_count": null,
   "id": "d30a5255-c8e5-44aa-b3a2-5dc8df87dcd9",
   "metadata": {},
   "outputs": [],
   "source": []
  },
  {
   "cell_type": "code",
   "execution_count": 29,
   "id": "855a5558-eaab-4119-8d86-acbf1585b65d",
   "metadata": {},
   "outputs": [
    {
     "name": "stdout",
     "output_type": "stream",
     "text": [
      "15\n",
      "25\n",
      "45\n",
      "20\n"
     ]
    }
   ],
   "source": [
    "def my_function(x):\n",
    "  return 5 * x\n",
    "\n",
    "print(my_function(3))\n",
    "print(my_function(5))\n",
    "print(my_function(9))\n",
    "\n",
    "var = my_function(4)\n",
    "print(var)"
   ]
  },
  {
   "cell_type": "markdown",
   "id": "4dfcfac3-2988-48a3-a2b8-df4b37126406",
   "metadata": {},
   "source": [
    "The pass Statement\n",
    "function definitions cannot be empty, but if you for some reason have a function definition with no content, put in the pass statement to avoid getting an error.\n",
    "\n",
    "Example\n"
   ]
  },
  {
   "cell_type": "code",
   "execution_count": 31,
   "id": "4119f13c-791a-41e1-a95d-697b6c3a96d8",
   "metadata": {},
   "outputs": [],
   "source": [
    "def myfunction():\n",
    "    pass"
   ]
  },
  {
   "cell_type": "code",
   "execution_count": 32,
   "id": "2a3f8540-3146-4fdc-8c64-75bdf1d1ee98",
   "metadata": {},
   "outputs": [],
   "source": [
    "myfunction()"
   ]
  },
  {
   "cell_type": "markdown",
   "id": "243113b3-c6a6-42df-a68e-d0835c01127f",
   "metadata": {},
   "source": [
    "# Recursion\n",
    "Python also accepts function recursion, which means a defined function can call itself.\n",
    "\n",
    "Recursion is a common mathematical and programming concept. It means that a function calls itself. This has the benefit of meaning that you can loop through data to reach a result.\n",
    "\n",
    "The developer should be very careful with recursion as it can be quite easy to slip into writing a function which never terminates, or one that uses excess amounts of memory or processor power. However, when written correctly recursion can be a very efficient and mathematically-elegant approach to programming.\n",
    "\n",
    "In this example, tri_recursion() is a function that we have defined to call itself (\"recurse\"). We use the k variable as the data, which decrements (-1) every time we recurse. The recursion ends when the condition is not greater than 0 (i.e. when it is 0).\n",
    "\n",
    "To a new developer it can take some time to work out how exactly this works, best way to find out is by testing and modifying it.\n",
    "\n",
    "Example\n",
    "Recursion Example\n",
    "\n"
   ]
  },
  {
   "cell_type": "code",
   "execution_count": 33,
   "id": "6154cf4e-1b81-4e96-b6ca-e17702169196",
   "metadata": {},
   "outputs": [
    {
     "name": "stdout",
     "output_type": "stream",
     "text": [
      "\n",
      "\n",
      "Recursion Example Results\n",
      "1\n",
      "3\n",
      "6\n",
      "10\n",
      "15\n",
      "21\n"
     ]
    },
    {
     "data": {
      "text/plain": [
       "21"
      ]
     },
     "execution_count": 33,
     "metadata": {},
     "output_type": "execute_result"
    }
   ],
   "source": [
    "def tri_recursion(k):\n",
    "  if(k > 0):\n",
    "    result = k + tri_recursion(k - 1)\n",
    "    print(result)\n",
    "  else:\n",
    "    result = 0\n",
    "  return result\n",
    "\n",
    "print(\"\\n\\nRecursion Example Results\")\n",
    "tri_recursion(6)"
   ]
  },
  {
   "cell_type": "code",
   "execution_count": 34,
   "id": "4854d728-5d48-4db7-b506-4961ec2cd33a",
   "metadata": {},
   "outputs": [
    {
     "name": "stdout",
     "output_type": "stream",
     "text": [
      "21\n"
     ]
    }
   ],
   "source": [
    "def my_func(k):\n",
    "    result=0\n",
    "    while k>0:\n",
    "        result = result + k\n",
    "        k = k -1\n",
    "    return result\n",
    "\n",
    "print(my_func(6))"
   ]
  },
  {
   "cell_type": "code",
   "execution_count": null,
   "id": "4ccddc8f-5122-4cb6-aca5-0c7952d78134",
   "metadata": {},
   "outputs": [],
   "source": []
  }
 ],
 "metadata": {
  "kernelspec": {
   "display_name": "Python 3 (ipykernel)",
   "language": "python",
   "name": "python3"
  },
  "language_info": {
   "codemirror_mode": {
    "name": "ipython",
    "version": 3
   },
   "file_extension": ".py",
   "mimetype": "text/x-python",
   "name": "python",
   "nbconvert_exporter": "python",
   "pygments_lexer": "ipython3",
   "version": "3.9.13"
  }
 },
 "nbformat": 4,
 "nbformat_minor": 5
}
