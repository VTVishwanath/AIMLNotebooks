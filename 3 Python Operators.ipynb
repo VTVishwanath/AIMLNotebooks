{
 "cells": [
  {
   "cell_type": "markdown",
   "id": "aa664032-e230-47c4-97e6-220e7f6015b3",
   "metadata": {},
   "source": [
    "# Operators - Arithmetic"
   ]
  },
  {
   "cell_type": "code",
   "execution_count": 8,
   "id": "7d6b7684-dd20-43f4-a923-b8a8a1ee92a9",
   "metadata": {},
   "outputs": [],
   "source": [
    "var1 = 15\n",
    "var2 = 4"
   ]
  },
  {
   "cell_type": "code",
   "execution_count": 9,
   "id": "b07da59f-c4c8-4506-b7f3-2a1bf6a654cb",
   "metadata": {},
   "outputs": [
    {
     "data": {
      "text/plain": [
       "19"
      ]
     },
     "execution_count": 9,
     "metadata": {},
     "output_type": "execute_result"
    }
   ],
   "source": [
    "var1 + var2"
   ]
  },
  {
   "cell_type": "code",
   "execution_count": 10,
   "id": "9b576c69-1454-4e9a-8814-7d04cc88d24e",
   "metadata": {},
   "outputs": [
    {
     "data": {
      "text/plain": [
       "11"
      ]
     },
     "execution_count": 10,
     "metadata": {},
     "output_type": "execute_result"
    }
   ],
   "source": [
    "var1 - var2"
   ]
  },
  {
   "cell_type": "code",
   "execution_count": 11,
   "id": "9e1f48c0-d90e-4fd0-86b6-4fa8965f6b11",
   "metadata": {},
   "outputs": [
    {
     "data": {
      "text/plain": [
       "60"
      ]
     },
     "execution_count": 11,
     "metadata": {},
     "output_type": "execute_result"
    }
   ],
   "source": [
    "var1 * var2"
   ]
  },
  {
   "cell_type": "code",
   "execution_count": 12,
   "id": "8811d13e-c7b0-44a2-bbd7-c3edb28a1019",
   "metadata": {},
   "outputs": [
    {
     "data": {
      "text/plain": [
       "3.75"
      ]
     },
     "execution_count": 12,
     "metadata": {},
     "output_type": "execute_result"
    }
   ],
   "source": [
    "var1 / var2"
   ]
  },
  {
   "cell_type": "code",
   "execution_count": 13,
   "id": "6cf2fc0b-c2d3-4d77-86f7-bad3dcb7d29c",
   "metadata": {},
   "outputs": [
    {
     "data": {
      "text/plain": [
       "3"
      ]
     },
     "execution_count": 13,
     "metadata": {},
     "output_type": "execute_result"
    }
   ],
   "source": [
    "var1 // var2"
   ]
  },
  {
   "cell_type": "code",
   "execution_count": 14,
   "id": "78d6b749-3182-4717-a022-b3772014d551",
   "metadata": {},
   "outputs": [
    {
     "data": {
      "text/plain": [
       "3"
      ]
     },
     "execution_count": 14,
     "metadata": {},
     "output_type": "execute_result"
    }
   ],
   "source": [
    "var1 % var2"
   ]
  },
  {
   "cell_type": "code",
   "execution_count": 24,
   "id": "29a725d6-4830-4f03-ae82-365b7bbfb3c3",
   "metadata": {},
   "outputs": [],
   "source": [
    "var1 = 2\n",
    "var2 = 2"
   ]
  },
  {
   "cell_type": "code",
   "execution_count": 25,
   "id": "ba12cdbf-b378-40b2-a837-32ee3a67e128",
   "metadata": {},
   "outputs": [
    {
     "data": {
      "text/plain": [
       "4"
      ]
     },
     "execution_count": 25,
     "metadata": {},
     "output_type": "execute_result"
    }
   ],
   "source": [
    "var1 ** var2"
   ]
  },
  {
   "cell_type": "markdown",
   "id": "c685864e-9c0c-4bdb-8851-3187dc6a24c1",
   "metadata": {},
   "source": [
    "# Operators - Comparison"
   ]
  },
  {
   "cell_type": "code",
   "execution_count": 26,
   "id": "0250ceda-5055-4ed0-9311-1bec4089ca75",
   "metadata": {},
   "outputs": [
    {
     "name": "stdout",
     "output_type": "stream",
     "text": [
      "True\n"
     ]
    }
   ],
   "source": [
    "if var1 == var2:\n",
    "    print(True)\n",
    "else:\n",
    "    print(False)"
   ]
  },
  {
   "cell_type": "code",
   "execution_count": 27,
   "id": "53363858-f421-46b6-9d73-97e4fc2632d7",
   "metadata": {},
   "outputs": [
    {
     "name": "stdout",
     "output_type": "stream",
     "text": [
      "False\n"
     ]
    }
   ],
   "source": [
    "if var1 != var2:\n",
    "    print(True)\n",
    "else:\n",
    "    print(False)"
   ]
  },
  {
   "cell_type": "code",
   "execution_count": 28,
   "id": "39eff27b-3405-4d01-9bec-cd7864b93e01",
   "metadata": {},
   "outputs": [
    {
     "name": "stdout",
     "output_type": "stream",
     "text": [
      "False\n"
     ]
    }
   ],
   "source": [
    "if var1 > var2:\n",
    "    print(True)\n",
    "else:\n",
    "    print(False)"
   ]
  },
  {
   "cell_type": "code",
   "execution_count": 29,
   "id": "ccbf52fe-1f0c-413c-a29e-eef4c1d5b3f6",
   "metadata": {},
   "outputs": [
    {
     "name": "stdout",
     "output_type": "stream",
     "text": [
      "False\n"
     ]
    }
   ],
   "source": [
    "if var1 < var2:\n",
    "    print(True)\n",
    "else:\n",
    "    print(False)"
   ]
  },
  {
   "cell_type": "code",
   "execution_count": 30,
   "id": "13b5e078-a4f5-4a2d-aff3-d7b87e907e3b",
   "metadata": {},
   "outputs": [
    {
     "name": "stdout",
     "output_type": "stream",
     "text": [
      "True\n"
     ]
    }
   ],
   "source": [
    "if var1 >= var2:\n",
    "    print(True)\n",
    "else:\n",
    "    print(False)"
   ]
  },
  {
   "cell_type": "code",
   "execution_count": 31,
   "id": "afbfaffa-074b-4c3b-8f10-a9592c9db103",
   "metadata": {},
   "outputs": [
    {
     "name": "stdout",
     "output_type": "stream",
     "text": [
      "True\n"
     ]
    }
   ],
   "source": [
    "if var1 <= var2:\n",
    "    print(True)\n",
    "else:\n",
    "    print(False)"
   ]
  },
  {
   "cell_type": "markdown",
   "id": "241485a6-a211-41e8-8f03-6194847ec43c",
   "metadata": {},
   "source": [
    "# Operators - Logical"
   ]
  },
  {
   "cell_type": "code",
   "execution_count": 33,
   "id": "e078ef6a-3c4c-4e20-bc5b-c06ee993ab2e",
   "metadata": {},
   "outputs": [
    {
     "name": "stdout",
     "output_type": "stream",
     "text": [
      "The numbers are greater than 0\n",
      "Atleast one number is not greater than 0\n"
     ]
    }
   ],
   "source": [
    "# Python program to demonstrate\n",
    "# logical and operator\n",
    "\n",
    "a = 10\n",
    "b = 10\n",
    "c = -10\n",
    "\n",
    "if a > 0 and b > 0:\n",
    "    print(\"The numbers are greater than 0\")\n",
    "\n",
    "if a > 0 and b > 0 and c > 0:\n",
    "    print(\"The numbers are greater than 0\")\n",
    "else:\n",
    "    print(\"Atleast one number is not greater than 0\")\n"
   ]
  },
  {
   "cell_type": "code",
   "execution_count": 37,
   "id": "83812ca3-4ed3-429b-9dad-225b9754460f",
   "metadata": {},
   "outputs": [
    {
     "name": "stdout",
     "output_type": "stream",
     "text": [
      "Atleast one number has boolean value as False\n"
     ]
    }
   ],
   "source": [
    "# Python program to demonstrate\n",
    "# logical and operator\n",
    "\n",
    "a = 10\n",
    "b = 12\n",
    "c = 0\n",
    "\n",
    "if a and b and c:\n",
    "\tprint(\"All the numbers have boolean value as True\")\n",
    "else:\n",
    "\tprint(\"Atleast one number has boolean value as False\")\n"
   ]
  },
  {
   "cell_type": "code",
   "execution_count": 38,
   "id": "97a4faa0-4ffa-45e7-b027-4ea274ae3890",
   "metadata": {},
   "outputs": [
    {
     "name": "stdout",
     "output_type": "stream",
     "text": [
      "Either of the number is greater than 0\n",
      "No number is greater than 0\n"
     ]
    }
   ],
   "source": [
    "# Python program to demonstrate\n",
    "# logical or operator\n",
    "\n",
    "a = 10\n",
    "b = -10\n",
    "c = 0\n",
    "\n",
    "if a > 0 or b > 0:\n",
    "\tprint(\"Either of the number is greater than 0\")\n",
    "else:\n",
    "\tprint(\"No number is greater than 0\")\n",
    "\n",
    "if b > 0 or c > 0:\n",
    "\tprint(\"Either of the number is greater than 0\")\n",
    "else:\n",
    "\tprint(\"No number is greater than 0\")\n"
   ]
  },
  {
   "cell_type": "code",
   "execution_count": 41,
   "id": "bf6da5ce-c4ff-48ac-a0df-49ad4a1bfbf6",
   "metadata": {},
   "outputs": [
    {
     "name": "stdout",
     "output_type": "stream",
     "text": [
      "Inside If block\n"
     ]
    }
   ],
   "source": [
    "if a > 0 and (b < 0 or c < 0):\n",
    "    print('Inside If block')\n",
    "else:\n",
    "    print('Not iside If block')\n",
    "# true and (true or false)\n",
    "# true and true\n",
    "# true"
   ]
  },
  {
   "cell_type": "code",
   "execution_count": 21,
   "id": "f6d6125c-469c-4b1e-b6b4-9a9ccf9cfb10",
   "metadata": {},
   "outputs": [
    {
     "name": "stdout",
     "output_type": "stream",
     "text": [
      "Atleast one number has boolean value as True\n"
     ]
    }
   ],
   "source": [
    "# Python program to demonstrate\n",
    "# logical and operator\n",
    "\n",
    "a = 10\n",
    "b = 12\n",
    "c = 0\n",
    "\n",
    "if a or b or c:\n",
    "\tprint(\"Atleast one number has boolean value as True\")\n",
    "else:\n",
    "\tprint(\"All the numbers have boolean value as False\")\n"
   ]
  },
  {
   "cell_type": "code",
   "execution_count": 50,
   "id": "9240e086-5e4a-49a0-8e9f-a88a3fbbdc9b",
   "metadata": {},
   "outputs": [
    {
     "name": "stdout",
     "output_type": "stream",
     "text": [
      "Condition is False\n",
      "Outside If\n"
     ]
    }
   ],
   "source": [
    "# Python program to demonstrate\n",
    "# order of evaluation of logical\n",
    "# operators\n",
    "\n",
    "def order(x):\n",
    "\t#print(\"Method called for value:\", x)\n",
    "\treturn True if x > 0 else False\n",
    "\n",
    "\n",
    "#a = order\n",
    "#b = order\n",
    "#c = order\n",
    "\n",
    "\n",
    "if order(-1) and (order(5) or order(10)):\n",
    "\tprint(\"Atleast one of the number is positive\")\n",
    "else:\n",
    "    print('Condition is False')\n",
    "\n",
    "print('Outside If')"
   ]
  },
  {
   "cell_type": "code",
   "execution_count": null,
   "id": "29abd2bf-9448-4614-a34a-f35be9a8b415",
   "metadata": {},
   "outputs": [],
   "source": []
  }
 ],
 "metadata": {
  "kernelspec": {
   "display_name": "Python 3 (ipykernel)",
   "language": "python",
   "name": "python3"
  },
  "language_info": {
   "codemirror_mode": {
    "name": "ipython",
    "version": 3
   },
   "file_extension": ".py",
   "mimetype": "text/x-python",
   "name": "python",
   "nbconvert_exporter": "python",
   "pygments_lexer": "ipython3",
   "version": "3.9.13"
  }
 },
 "nbformat": 4,
 "nbformat_minor": 5
}
