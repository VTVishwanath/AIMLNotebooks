{
 "cells": [
  {
   "cell_type": "markdown",
   "id": "6ff472e9-a1b2-4714-8345-af84a46be389",
   "metadata": {},
   "source": [
    "# Python Classes and Objects\n",
    "A class is a user-defined blueprint or prototype from which objects are created. Classes provide a means of bundling data and functionality together. Creating a new class creates a new type of object, allowing new instances of that type to be made. Each class instance can have attributes attached to it for maintaining its state. Class instances can also have methods (defined by their class) for modifying their state.\n",
    "\n",
    "To understand the need for creating a class in Python let’s consider an example, let’s say you wanted to track the number of dogs that may have different attributes like breed, and age. If a list is used, the first element could be the dog’s breed while the second element could represent its age. Let’s suppose there are 100 different dogs, then how would you know which element is supposed to be which? What if you wanted to add other properties to these dogs? This lacks organization and it’s the exact need for classes. \n",
    "\n",
    "Syntax: Class Definition \n",
    "\n",
    "class ClassName:\n",
    "\n",
    "    # Statement\n",
    "    \n",
    "Syntax: Object Definition\n",
    "\n",
    "obj = ClassName()\n",
    "\n",
    "print(obj.atrr)\n",
    "\n",
    "Class creates a user-defined data structure, which holds its own data members and member functions, which can be accessed and used by creating an instance of that class. A class is like a blueprint for an object.\n",
    "\n",
    "Some points on Python class:  \n",
    "\n",
    "Classes are created by keyword class.\n",
    "Attributes are the variables that belong to a class.\n",
    "Attributes are always public and can be accessed using the dot (.) operator. Eg.:\n",
    "\n",
    "Myclass.Myattribute"
   ]
  },
  {
   "cell_type": "markdown",
   "id": "5203af15-a49a-4f60-b089-d0b4cc88ea02",
   "metadata": {},
   "source": [
    "Defining a class \n",
    "Python3 program to\n",
    "demonstrate defining\n",
    "a class\n",
    "\n",
    "\n",
    "class Dog:\n",
    "\n",
    "    pass"
   ]
  },
  {
   "cell_type": "markdown",
   "id": "ef124fd7-dbeb-4517-90b7-01d2f94801c5",
   "metadata": {},
   "source": [
    "In the above example, the class keyword indicates that you are creating a class followed by the name of the class (Dog in this case)."
   ]
  },
  {
   "cell_type": "markdown",
   "id": "45a4a341-6033-4149-8ef4-73a76d6d8808",
   "metadata": {},
   "source": [
    "# Class Objects\n",
    "An Object is an instance of a Class. A class is like a blueprint while an instance is a copy of the class with actual values. It’s not an idea anymore, it’s an actual dog, like a dog of breed pug who’s seven years old. You can have many dogs to create many different instances, but without the class as a guide, you would be lost, not knowing what information is required.\n",
    "An object consists of : \n",
    "\n",
    "State: It is represented by the attributes of an object. It also reflects the properties of an object.\n",
    "\n",
    "Behaviour: It is represented by the methods of an object. It also reflects the response of an object to other objects.\n",
    "\n",
    "Identity: It gives a unique name to an object and enables one object to interact with other objects."
   ]
  },
  {
   "cell_type": "markdown",
   "id": "9676144b-fd2f-4731-b61f-b0c3ae41978f",
   "metadata": {},
   "source": [
    "![img](photos/Blank-Diagram-Page-1-5.png)"
   ]
  },
  {
   "cell_type": "markdown",
   "id": "60268eda-5031-476a-87ef-21c8f468558d",
   "metadata": {},
   "source": [
    "### Declaring Objects (Also called instantiating a class)\n",
    "When an object of a class is created, the class is said to be instantiated. All the instances share the attributes and the behavior of the class. But the values of those attributes, i.e. the state are unique for each object. A single class may have any number of instances.\n",
    "\n",
    "Example:"
   ]
  },
  {
   "cell_type": "markdown",
   "id": "11046504-2553-4ed8-bdff-183d7f9baae7",
   "metadata": {},
   "source": [
    "![img](photos/Blank-Diagram-Page-1-3.png)"
   ]
  },
  {
   "cell_type": "code",
   "execution_count": 20,
   "id": "d6ea46c9-ca31-4311-bb32-f8f2a25dfd0f",
   "metadata": {},
   "outputs": [
    {
     "name": "stdout",
     "output_type": "stream",
     "text": [
      "mammal\n",
      "I'm a mammal\n",
      "I'm a dog\n",
      "My name is Tinku\n",
      "My age is  2\n",
      "mammal\n",
      "dog\n",
      "Tommy\n",
      "I'm a mammal\n",
      "I'm a dog\n",
      "My name is Tommy\n",
      "My age is  3\n"
     ]
    }
   ],
   "source": [
    "# Python3 program to\n",
    "# demonstrate instantiating\n",
    "# a class\n",
    "\n",
    "\n",
    "class Dog:\n",
    "    # A simple class\n",
    "    # attribute\n",
    "    attr1 = \"mammal\"\n",
    "    attr2 = \"dog\"\n",
    "    #name = \"Tinku\"\n",
    "    \n",
    "    def __init__(self, DogName,DogAge):\n",
    "        self.name = DogName\n",
    "        self.age=DogAge\n",
    "    \n",
    "    # A sample method\n",
    "    def fun(self):\n",
    "        #self.name=input()\n",
    "        print(\"I'm a\", self.attr1)\n",
    "        print(\"I'm a\", self.attr2)\n",
    "        print(\"My name is {}\".format(self.name))\n",
    "        print(\"My age is \", self.age)\n",
    "        \n",
    "\n",
    "\n",
    "# Driver code\n",
    "# Object instantiation\n",
    "Rodger = Dog(DogAge=2,DogName='Tinku')\n",
    "\n",
    "# Accessing class attributes\n",
    "# and method through objects\n",
    "print(Rodger.attr1)\n",
    "Rodger.fun()\n",
    "\n",
    "Lab = Dog(DogName=\"Tommy\",DogAge=3)\n",
    "print(Lab.attr1)\n",
    "print(Lab.attr2)\n",
    "print(Lab.name)\n",
    "Lab.fun()"
   ]
  },
  {
   "cell_type": "markdown",
   "id": "d9f192a1-7f0b-4ce9-b2f3-9ff4df68fe84",
   "metadata": {},
   "source": [
    "In the above example, an object is created which is basically a dog named Rodger. This class only has two class attributes that tell us that Rodger is a dog and a mammal.\n",
    "\n",
    "## The self\n",
    "Class methods must have an extra first parameter in the method definition. We do not give a value for this parameter when we call the method, Python provides it.\n",
    "If we have a method that takes no arguments, we still have one argument.\n",
    "\n",
    "This is similar to this pointer in C++ and this reference in Java.\n",
    "\n",
    "When we call a method of this object as myobject.method(arg1, arg2), this is automatically converted by Python into MyClass.method(myobject, arg1, arg2) – this is all the special self is about.\n",
    "\n",
    "## __init__ method\n",
    "The __init__ method is similar to constructors in C++ and Java. Constructors are used to initialize the object’s state. Like methods, a constructor also contains a collection of statements(i.e. instructions) that are executed at the time of Object creation. It runs as soon as an object of a class is instantiated. The method is useful to do any initialization you want to do with your object."
   ]
  },
  {
   "cell_type": "code",
   "execution_count": 8,
   "id": "2a232016-a80b-4147-b7b3-dfcc794f5e6b",
   "metadata": {},
   "outputs": [
    {
     "name": "stdout",
     "output_type": "stream",
     "text": [
      "Hello, my name is Nikhil\n",
      "Hello, my name is Sham\n"
     ]
    }
   ],
   "source": [
    "# Sample class with init method\n",
    "class Person:\n",
    "\n",
    "\t# init method or constructor\n",
    "\tdef __init__(self, name):\n",
    "\t\tself.PersonName = name\n",
    "\n",
    "\t# Sample Method\n",
    "\tdef say_hi(self):\n",
    "\t\tprint('Hello, my name is', self.PersonName)\n",
    "\n",
    "\n",
    "p = Person('Nikhil')\n",
    "p.say_hi()\n",
    "\n",
    "p1 = Person('Sham')\n",
    "p1.say_hi()\n"
   ]
  },
  {
   "cell_type": "markdown",
   "id": "9b133616-7e5c-49ca-ac8c-c8dd91274509",
   "metadata": {},
   "source": [
    "## Class and Instance Variables\n",
    "Instance variables are for data, unique to each instance and class variables are for attributes and methods shared by all instances of the class. Instance variables are variables whose value is assigned inside a constructor or method with self whereas class variables are variables whose value is assigned in the class.\n",
    "\n",
    "Defining instance variables using a constructor. "
   ]
  },
  {
   "cell_type": "code",
   "execution_count": 9,
   "id": "b07460dd-2237-4fd8-955d-a6350dd8e935",
   "metadata": {},
   "outputs": [
    {
     "name": "stdout",
     "output_type": "stream",
     "text": [
      "Rodger details:\n",
      "Rodger is a dog\n",
      "Breed:  Pug\n",
      "Color:  brown\n",
      "\n",
      "Buzo details:\n",
      "Buzo is a dog\n",
      "Breed:  Bulldog\n",
      "Color:  black\n",
      "\n",
      "Accessing class variable using class name\n",
      "dog\n"
     ]
    }
   ],
   "source": [
    "# Python3 program to show that the variables with a value\n",
    "# assigned in the class declaration, are class variables and\n",
    "# variables inside methods and constructors are instance\n",
    "# variables.\n",
    "\n",
    "# Class for Dog\n",
    "\n",
    "\n",
    "class Dog:\n",
    "\n",
    "\t# Class Variable\n",
    "\tanimal = 'dog'\n",
    "\n",
    "\t# The init method or constructor\n",
    "\tdef __init__(self, breed, color):\n",
    "\n",
    "\t\t# Instance Variable\n",
    "\t\tself.breed = breed\n",
    "\t\tself.color = color\n",
    "\n",
    "\n",
    "# Objects of Dog class\n",
    "Rodger = Dog(\"Pug\", \"brown\")\n",
    "Buzo = Dog(\"Bulldog\", \"black\")\n",
    "\n",
    "print('Rodger details:')\n",
    "print('Rodger is a', Rodger.animal)\n",
    "print('Breed: ', Rodger.breed)\n",
    "print('Color: ', Rodger.color)\n",
    "\n",
    "print('\\nBuzo details:')\n",
    "print('Buzo is a', Buzo.animal)\n",
    "print('Breed: ', Buzo.breed)\n",
    "print('Color: ', Buzo.color)\n",
    "\n",
    "# Class variables can be accessed using class\n",
    "# name also\n",
    "print(\"\\nAccessing class variable using class name\")\n",
    "print(Dog.animal)\n"
   ]
  },
  {
   "cell_type": "markdown",
   "id": "3b88450d-77b0-460e-a0f6-28f260e76d44",
   "metadata": {},
   "source": [
    "Defining instance variables using the normal method."
   ]
  },
  {
   "cell_type": "code",
   "execution_count": 10,
   "id": "9f5c7cb0-c219-4f18-a3b4-c959c9d900bd",
   "metadata": {},
   "outputs": [
    {
     "name": "stdout",
     "output_type": "stream",
     "text": [
      "brown\n",
      "dog\n",
      "pug\n",
      "brown\n"
     ]
    }
   ],
   "source": [
    "# Python3 program to show that we can create\n",
    "# instance variables inside methods\n",
    "\n",
    "# Class for Dog\n",
    "\n",
    "\n",
    "class Dog:\n",
    "\n",
    "\t# Class Variable\n",
    "\tanimal = 'dog'\n",
    "\n",
    "\t# The init method or constructor\n",
    "\tdef __init__(self, breed):\n",
    "\n",
    "\t\t# Instance Variable\n",
    "\t\tself.breed = breed\n",
    "\n",
    "\t# Adds an instance variable\n",
    "\tdef setColor(self, color):\n",
    "\t\tself.color = color\n",
    "\n",
    "\t# Retrieves instance variable\n",
    "\tdef getColor(self):\n",
    "\t\treturn self.color\n",
    "\n",
    "\n",
    "# Driver Code\n",
    "Rodger = Dog(\"pug\")\n",
    "Rodger.setColor(\"brown\")\n",
    "print(Rodger.getColor())\n",
    "print(Rodger.animal)\n",
    "print(Rodger.breed)\n",
    "print(Rodger.color)"
   ]
  },
  {
   "cell_type": "code",
   "execution_count": null,
   "id": "069f3c29-8690-42e8-9f55-bbe3b356579c",
   "metadata": {},
   "outputs": [],
   "source": []
  }
 ],
 "metadata": {
  "kernelspec": {
   "display_name": "Python 3 (ipykernel)",
   "language": "python",
   "name": "python3"
  },
  "language_info": {
   "codemirror_mode": {
    "name": "ipython",
    "version": 3
   },
   "file_extension": ".py",
   "mimetype": "text/x-python",
   "name": "python",
   "nbconvert_exporter": "python",
   "pygments_lexer": "ipython3",
   "version": "3.9.13"
  }
 },
 "nbformat": 4,
 "nbformat_minor": 5
}
